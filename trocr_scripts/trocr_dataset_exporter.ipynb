{
 "cells": [
  {
   "cell_type": "code",
   "execution_count": 34,
   "metadata": {},
   "outputs": [],
   "source": [
    "import json\n",
    "import os\n",
    "import shutil\n",
    "import math\n",
    "from tqdm.auto import tqdm\n",
    "from random import sample\n",
    "import codecs"
   ]
  },
  {
   "cell_type": "code",
   "execution_count": 3,
   "metadata": {},
   "outputs": [],
   "source": [
    "DATASET_BASE_DIR = \"trocr_app_dataset\"\n",
    "METADATA_FILE = \"metadata.json\"\n",
    "EXPORT_DIR = \"hand-cursive-trocr\""
   ]
  },
  {
   "cell_type": "code",
   "execution_count": 16,
   "metadata": {},
   "outputs": [
    {
     "data": {
      "text/plain": [
       "89092"
      ]
     },
     "execution_count": 16,
     "metadata": {},
     "output_type": "execute_result"
    }
   ],
   "source": [
    "cropped_images_dataset = json.load(open( os.path.join(DATASET_BASE_DIR, METADATA_FILE), \"r\", encoding=\"utf-8\"))"
   ]
  },
  {
   "cell_type": "code",
   "execution_count": 17,
   "metadata": {},
   "outputs": [
    {
     "data": {
      "text/plain": [
       "62364"
      ]
     },
     "execution_count": 17,
     "metadata": {},
     "output_type": "execute_result"
    }
   ],
   "source": [
    "total_train_items = math.floor(len(cropped_images_dataset) * 0.7)\n",
    "total_train_items"
   ]
  },
  {
   "cell_type": "code",
   "execution_count": 18,
   "metadata": {},
   "outputs": [],
   "source": [
    "selected_train_items = sample(cropped_images_dataset, total_train_items)\n",
    "remaining_items = [ x for x in tqdm(cropped_images_dataset) if x not in selected_train_items ]"
   ]
  },
  {
   "cell_type": "code",
   "execution_count": 24,
   "metadata": {},
   "outputs": [],
   "source": [
    "for timg in selected_train_items:\n",
    "    filename = timg[\"image\"].split(\"/\")[-1]\n",
    "    dst_path = os.path.join(EXPORT_DIR, \"train\", filename)\n",
    "    shutil.copy(timg[\"image\"], dst_path)\n",
    "    timg[\"image\"] = os.path.join(\"train\", filename)"
   ]
  },
  {
   "cell_type": "code",
   "execution_count": 26,
   "metadata": {},
   "outputs": [],
   "source": [
    "for timg in remaining_items:\n",
    "    filename = timg[\"image\"].split(\"/\")[-1]\n",
    "    dst_path = os.path.join(EXPORT_DIR, \"valid\", filename)\n",
    "    shutil.copy(timg[\"image\"], dst_path)\n",
    "    timg[\"image\"] = os.path.join(\"valid\", filename)"
   ]
  },
  {
   "cell_type": "code",
   "execution_count": 35,
   "metadata": {},
   "outputs": [],
   "source": [
    "with codecs.open(os.path.join(EXPORT_DIR, \"train_{}\".format(METADATA_FILE)), 'w', 'utf-8') as fp:\n",
    "    fp.write(json.dumps(selected_train_items, ensure_ascii=False))"
   ]
  },
  {
   "cell_type": "code",
   "execution_count": 36,
   "metadata": {},
   "outputs": [],
   "source": [
    "with codecs.open(os.path.join(EXPORT_DIR, \"valid_{}\".format(METADATA_FILE)), 'w', 'utf-8') as fp:\n",
    "    fp.write(json.dumps(remaining_items, ensure_ascii=False))"
   ]
  }
 ],
 "metadata": {
  "kernelspec": {
   "display_name": "PyFormers + CUDA",
   "language": "python",
   "name": "dev-kernel-v2"
  },
  "language_info": {
   "codemirror_mode": {
    "name": "ipython",
    "version": 3
   },
   "file_extension": ".py",
   "mimetype": "text/x-python",
   "name": "python",
   "nbconvert_exporter": "python",
   "pygments_lexer": "ipython3",
   "version": "3.11.2"
  }
 },
 "nbformat": 4,
 "nbformat_minor": 2
}
