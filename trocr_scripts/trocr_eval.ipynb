{
 "cells": [
  {
   "cell_type": "code",
   "execution_count": 1,
   "metadata": {},
   "outputs": [],
   "source": [
    "from transformers import TrOCRProcessor, VisionEncoderDecoderModel\n",
    "from PIL import Image\n",
    "import json\n",
    "import random\n",
    "import fastwer\n",
    "from tqdm.auto import tqdm"
   ]
  },
  {
   "cell_type": "code",
   "execution_count": 14,
   "metadata": {},
   "outputs": [],
   "source": [
    "CKP_MODEL = \"qantev/trocr-large-spanish\" #\"/home/ralvarez22/Documentos/llm_data/llm_cache/models--microsoft--trocr-large-stage1/snapshots/3c8ead8dfda428d914334169380bb546f770a300\"\n",
    "DEVICE = \"cuda\" # Where to load the model\n",
    "DATASET_FILE = \"/home/ralvarez22/Documentos/trocr_hand/trocr_llm/datasets/cursive_hand_cropped/metadata.json\""
   ]
  },
  {
   "cell_type": "code",
   "execution_count": 15,
   "metadata": {},
   "outputs": [
    {
     "data": {
      "application/vnd.jupyter.widget-view+json": {
       "model_id": "8edba36af771473c88cbb415f016a88d",
       "version_major": 2,
       "version_minor": 0
      },
      "text/plain": [
       "preprocessor_config.json:   0%|          | 0.00/364 [00:00<?, ?B/s]"
      ]
     },
     "metadata": {},
     "output_type": "display_data"
    },
    {
     "data": {
      "application/vnd.jupyter.widget-view+json": {
       "model_id": "d0e1116778e745e3a3609ee311b6201e",
       "version_major": 2,
       "version_minor": 0
      },
      "text/plain": [
       "tokenizer_config.json:   0%|          | 0.00/1.38k [00:00<?, ?B/s]"
      ]
     },
     "metadata": {},
     "output_type": "display_data"
    },
    {
     "data": {
      "application/vnd.jupyter.widget-view+json": {
       "model_id": "5bb532da9b8647c29de6d227b4ee7836",
       "version_major": 2,
       "version_minor": 0
      },
      "text/plain": [
       "vocab.json:   0%|          | 0.00/798k [00:00<?, ?B/s]"
      ]
     },
     "metadata": {},
     "output_type": "display_data"
    },
    {
     "data": {
      "application/vnd.jupyter.widget-view+json": {
       "model_id": "753d4891750e49018175ee226d1ef1b9",
       "version_major": 2,
       "version_minor": 0
      },
      "text/plain": [
       "merges.txt:   0%|          | 0.00/456k [00:00<?, ?B/s]"
      ]
     },
     "metadata": {},
     "output_type": "display_data"
    },
    {
     "data": {
      "application/vnd.jupyter.widget-view+json": {
       "model_id": "3b86e6932d8d46b38e6d6bb1d3d23f1a",
       "version_major": 2,
       "version_minor": 0
      },
      "text/plain": [
       "tokenizer.json:   0%|          | 0.00/2.11M [00:00<?, ?B/s]"
      ]
     },
     "metadata": {},
     "output_type": "display_data"
    },
    {
     "data": {
      "application/vnd.jupyter.widget-view+json": {
       "model_id": "191f2ae0f0634585ac99dd3764acc6cc",
       "version_major": 2,
       "version_minor": 0
      },
      "text/plain": [
       "special_tokens_map.json:   0%|          | 0.00/957 [00:00<?, ?B/s]"
      ]
     },
     "metadata": {},
     "output_type": "display_data"
    },
    {
     "data": {
      "application/vnd.jupyter.widget-view+json": {
       "model_id": "71577d2e57654fcabba745bc09d3c3f6",
       "version_major": 2,
       "version_minor": 0
      },
      "text/plain": [
       "config.json:   0%|          | 0.00/4.97k [00:00<?, ?B/s]"
      ]
     },
     "metadata": {},
     "output_type": "display_data"
    },
    {
     "data": {
      "application/vnd.jupyter.widget-view+json": {
       "model_id": "fa98e51445c0422987a8e1cf7f154cf5",
       "version_major": 2,
       "version_minor": 0
      },
      "text/plain": [
       "pytorch_model.bin:   0%|          | 0.00/2.44G [00:00<?, ?B/s]"
      ]
     },
     "metadata": {},
     "output_type": "display_data"
    },
    {
     "data": {
      "application/vnd.jupyter.widget-view+json": {
       "model_id": "9c030ef9466d4c3abc205f98bc93f67f",
       "version_major": 2,
       "version_minor": 0
      },
      "text/plain": [
       "generation_config.json:   0%|          | 0.00/420 [00:00<?, ?B/s]"
      ]
     },
     "metadata": {},
     "output_type": "display_data"
    }
   ],
   "source": [
    "processor = TrOCRProcessor.from_pretrained(CKP_MODEL,device_map=DEVICE)\n",
    "model = VisionEncoderDecoderModel.from_pretrained(CKP_MODEL, device_map=DEVICE)\n",
    "# This configuration allows to correctly set the BOS token for inference and the Temperature and Sample strategy for the decoder\n",
    "# This could be setted on the generation_config.json file, generated when saving the model, but, to avoid mismatch or errors, I overwrite this\n",
    "model.generation_config.decoder_start_token_id = processor.tokenizer.bos_token_id\n",
    "model.generation_config.temperature = 0.4\n",
    "model.generation_config.do_sample = True"
   ]
  },
  {
   "cell_type": "code",
   "execution_count": 7,
   "metadata": {},
   "outputs": [],
   "source": [
    "cropped_images_dataset = json.load(open(DATASET_FILE, \"r\"))"
   ]
  },
  {
   "cell_type": "code",
   "execution_count": 8,
   "metadata": {},
   "outputs": [],
   "source": [
    "items_to_eval = int(len(cropped_images_dataset) * 0.9)"
   ]
  },
  {
   "cell_type": "code",
   "execution_count": 9,
   "metadata": {},
   "outputs": [
    {
     "data": {
      "text/plain": [
       "3472"
      ]
     },
     "execution_count": 9,
     "metadata": {},
     "output_type": "execute_result"
    }
   ],
   "source": [
    "items_to_eval"
   ]
  },
  {
   "cell_type": "code",
   "execution_count": 10,
   "metadata": {},
   "outputs": [],
   "source": [
    "test_dataset = random.sample(cropped_images_dataset, items_to_eval)"
   ]
  },
  {
   "cell_type": "code",
   "execution_count": 16,
   "metadata": {},
   "outputs": [
    {
     "data": {
      "application/vnd.jupyter.widget-view+json": {
       "model_id": "3b9d0161bd57462f96516538e4d4baa3",
       "version_major": 2,
       "version_minor": 0
      },
      "text/plain": [
       "  0%|          | 0/3472 [00:00<?, ?it/s]"
      ]
     },
     "metadata": {},
     "output_type": "display_data"
    }
   ],
   "source": [
    "cer_value = 0\n",
    "wer_value = 0\n",
    "for test_item in tqdm(test_dataset):\n",
    "    pil_image = Image.open(test_item[\"image\"]).convert(\"RGB\")\n",
    "    proc_image = processor(pil_image, return_tensors=\"pt\").pixel_values.to(DEVICE)\n",
    "    tgt_text = test_item[\"label\"]\n",
    "    data_generated = model.generate(proc_image)\n",
    "    gen_text = processor.tokenizer.decode(data_generated[0].cpu(), skip_special_tokens=True)\n",
    "    #print(\"Original: {} - Recognized: {}\".format(tgt_text, gen_text))\n",
    "    cer_val = fastwer.score_sent(gen_text, tgt_text, char_level=True)\n",
    "    wer_val = fastwer.score_sent(gen_text, tgt_text)\n",
    "    cer_value += cer_val\n",
    "    wer_value += wer_val"
   ]
  },
  {
   "cell_type": "code",
   "execution_count": 17,
   "metadata": {},
   "outputs": [],
   "source": [
    "cer_value /= items_to_eval\n",
    "wer_value /= items_to_eval"
   ]
  },
  {
   "cell_type": "code",
   "execution_count": 18,
   "metadata": {},
   "outputs": [
    {
     "name": "stdout",
     "output_type": "stream",
     "text": [
      "CER Avg value: 69.6941\n",
      "WER Avg value: 99.5080\n"
     ]
    }
   ],
   "source": [
    "print(\"CER Avg value: {:.4f}\".format(cer_value))\n",
    "print(\"WER Avg value: {:.4f}\".format(wer_value))"
   ]
  }
 ],
 "metadata": {
  "kernelspec": {
   "display_name": "dev-kernel",
   "language": "python",
   "name": "dev-kernel"
  },
  "language_info": {
   "codemirror_mode": {
    "name": "ipython",
    "version": 3
   },
   "file_extension": ".py",
   "mimetype": "text/x-python",
   "name": "python",
   "nbconvert_exporter": "python",
   "pygments_lexer": "ipython3",
   "version": "3.11.2"
  }
 },
 "nbformat": 4,
 "nbformat_minor": 2
}
