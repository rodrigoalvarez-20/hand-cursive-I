{
 "cells": [
  {
   "cell_type": "code",
   "execution_count": 1,
   "metadata": {},
   "outputs": [],
   "source": [
    "from ultralytics import YOLO"
   ]
  },
  {
   "cell_type": "code",
   "execution_count": 2,
   "metadata": {},
   "outputs": [],
   "source": [
    "YOLO_CHECKPOINT = \"yolo11m.pt\"\n",
    "EPOCHS = 100\n",
    "BATCH_SIZE = 15\n",
    "SAVE_EVERY_N_EPOCH = 30\n",
    "SAVE_DIR = \"../finetuned/yolo/\"\n",
    "RUN_NAME = \"Zani_V1\"\n",
    "OVERWRITE = True\n",
    "OPTIM = \"AdamW\"\n",
    "MODEL_LR = 1e-4\n",
    "PLOTS = True\n",
    "TRAIN_DATA = \"../hand-cursive-detr-yolo/hand-cursive-detr.yaml\"\n",
    "WEIGHT_DECAY = 1e-4"
   ]
  },
  {
   "cell_type": "code",
   "execution_count": 3,
   "metadata": {},
   "outputs": [],
   "source": [
    "model = YOLO(YOLO_CHECKPOINT)  # load a pretrained model (recommended for training)"
   ]
  },
  {
   "cell_type": "code",
   "execution_count": 4,
   "metadata": {},
   "outputs": [
    {
     "name": "stdout",
     "output_type": "stream",
     "text": [
      "New https://pypi.org/project/ultralytics/8.3.76 available 😃 Update with 'pip install -U ultralytics'\n",
      "Ultralytics 8.3.68 🚀 Python-3.11.2 torch-2.5.1+cu124 CUDA:0 (NVIDIA GeForce RTX 4090, 24111MiB)\n",
      "\u001b[34m\u001b[1mengine/trainer: \u001b[0mtask=detect, mode=train, model=yolo11m.pt, data=../hand-cursive-detr-yolo/hand-cursive-detr.yaml, epochs=100, time=None, patience=100, batch=15, imgsz=640, save=True, save_period=30, cache=False, device=0, workers=8, project=../finetuned/yolo/, name=Zani_V1, exist_ok=True, pretrained=True, optimizer=AdamW, verbose=True, seed=0, deterministic=True, single_cls=False, rect=False, cos_lr=False, close_mosaic=0, resume=False, amp=True, fraction=1.0, profile=False, freeze=None, multi_scale=False, overlap_mask=True, mask_ratio=4, dropout=0.0, val=True, split=val, save_json=False, save_hybrid=False, conf=None, iou=0.7, max_det=300, half=False, dnn=False, plots=True, source=None, vid_stride=1, stream_buffer=False, visualize=False, augment=False, agnostic_nms=False, classes=None, retina_masks=False, embed=None, show=False, save_frames=False, save_txt=False, save_conf=False, save_crop=False, show_labels=True, show_conf=True, show_boxes=True, line_width=None, format=torchscript, keras=False, optimize=False, int8=False, dynamic=False, simplify=True, opset=None, workspace=None, nms=False, lr0=0.0001, lrf=0.01, momentum=0.937, weight_decay=0.0001, warmup_epochs=3.0, warmup_momentum=0.8, warmup_bias_lr=0.1, box=7.5, cls=0.5, dfl=1.5, pose=12.0, kobj=1.0, nbs=64, hsv_h=0.0, hsv_s=0.0, hsv_v=0.0, degrees=0.0, translate=0.0, scale=0.0, shear=0.0, perspective=0.0, flipud=0.0, fliplr=0.0, bgr=0.0, mosaic=0.0, mixup=0.0, copy_paste=0.0, copy_paste_mode=flip, auto_augment=randaugment, erasing=0.0, crop_fraction=0.0, cfg=None, tracker=botsort.yaml, save_dir=../finetuned/yolo/Zani_V1\n",
      "Overriding model.yaml nc=80 with nc=2\n",
      "\n",
      "                   from  n    params  module                                       arguments                     \n",
      "  0                  -1  1      1856  ultralytics.nn.modules.conv.Conv             [3, 64, 3, 2]                 \n",
      "  1                  -1  1     73984  ultralytics.nn.modules.conv.Conv             [64, 128, 3, 2]               \n",
      "  2                  -1  1    111872  ultralytics.nn.modules.block.C3k2            [128, 256, 1, True, 0.25]     \n",
      "  3                  -1  1    590336  ultralytics.nn.modules.conv.Conv             [256, 256, 3, 2]              \n",
      "  4                  -1  1    444928  ultralytics.nn.modules.block.C3k2            [256, 512, 1, True, 0.25]     \n",
      "  5                  -1  1   2360320  ultralytics.nn.modules.conv.Conv             [512, 512, 3, 2]              \n",
      "  6                  -1  1   1380352  ultralytics.nn.modules.block.C3k2            [512, 512, 1, True]           \n",
      "  7                  -1  1   2360320  ultralytics.nn.modules.conv.Conv             [512, 512, 3, 2]              \n",
      "  8                  -1  1   1380352  ultralytics.nn.modules.block.C3k2            [512, 512, 1, True]           \n",
      "  9                  -1  1    656896  ultralytics.nn.modules.block.SPPF            [512, 512, 5]                 \n",
      " 10                  -1  1    990976  ultralytics.nn.modules.block.C2PSA           [512, 512, 1]                 \n",
      " 11                  -1  1         0  torch.nn.modules.upsampling.Upsample         [None, 2, 'nearest']          \n",
      " 12             [-1, 6]  1         0  ultralytics.nn.modules.conv.Concat           [1]                           \n",
      " 13                  -1  1   1642496  ultralytics.nn.modules.block.C3k2            [1024, 512, 1, True]          \n",
      " 14                  -1  1         0  torch.nn.modules.upsampling.Upsample         [None, 2, 'nearest']          \n",
      " 15             [-1, 4]  1         0  ultralytics.nn.modules.conv.Concat           [1]                           \n",
      " 16                  -1  1    542720  ultralytics.nn.modules.block.C3k2            [1024, 256, 1, True]          \n",
      " 17                  -1  1    590336  ultralytics.nn.modules.conv.Conv             [256, 256, 3, 2]              \n",
      " 18            [-1, 13]  1         0  ultralytics.nn.modules.conv.Concat           [1]                           \n",
      " 19                  -1  1   1511424  ultralytics.nn.modules.block.C3k2            [768, 512, 1, True]           \n",
      " 20                  -1  1   2360320  ultralytics.nn.modules.conv.Conv             [512, 512, 3, 2]              \n",
      " 21            [-1, 10]  1         0  ultralytics.nn.modules.conv.Concat           [1]                           \n",
      " 22                  -1  1   1642496  ultralytics.nn.modules.block.C3k2            [1024, 512, 1, True]          \n",
      " 23        [16, 19, 22]  1   1412566  ultralytics.nn.modules.head.Detect           [2, [256, 512, 512]]          \n",
      "YOLO11m summary: 409 layers, 20,054,550 parameters, 20,054,534 gradients, 68.2 GFLOPs\n",
      "\n",
      "Transferred 643/649 items from pretrained weights\n",
      "WARNING ⚠️ ClearML installed but not initialized correctly, not logging this run. It seems ClearML is not configured on this machine!\n",
      "To get started with ClearML, setup your own 'clearml-server' or create a free account at https://app.clear.ml\n",
      "Setup instructions can be found here: https://clear.ml/docs\n",
      "\u001b[34m\u001b[1mTensorBoard: \u001b[0mStart with 'tensorboard --logdir ../finetuned/yolo/Zani_V1', view at http://localhost:6006/\n",
      "Freezing layer 'model.23.dfl.conv.weight'\n",
      "\u001b[34m\u001b[1mAMP: \u001b[0mrunning Automatic Mixed Precision (AMP) checks...\n",
      "\u001b[34m\u001b[1mAMP: \u001b[0mchecks passed ✅\n"
     ]
    },
    {
     "name": "stderr",
     "output_type": "stream",
     "text": [
      "\u001b[34m\u001b[1mtrain: \u001b[0mScanning /home/ralvarez22/Documentos/trocr_hand/hand-cursive-I/hand-cursive-detr-yolo/labels/train.cache... 1117 images, 0 backgrounds, 0 corrupt: 100%|██████████| 1117/1117 [00:00<?, ?it/s]"
     ]
    },
    {
     "name": "stdout",
     "output_type": "stream",
     "text": [
      "\u001b[34m\u001b[1mtrain: \u001b[0mWARNING ⚠️ /home/ralvarez22/Documentos/trocr_hand/hand-cursive-I/hand-cursive-detr-yolo/images/train/31f0d9e3bb6a.jpeg: 1 duplicate labels removed\n"
     ]
    },
    {
     "name": "stderr",
     "output_type": "stream",
     "text": [
      "\n",
      "\u001b[34m\u001b[1mval: \u001b[0mScanning /home/ralvarez22/Documentos/trocr_hand/hand-cursive-I/hand-cursive-detr-yolo/labels/val.cache... 479 images, 0 backgrounds, 1 corrupt: 100%|██████████| 479/479 [00:00<?, ?it/s]"
     ]
    },
    {
     "name": "stdout",
     "output_type": "stream",
     "text": [
      "\u001b[34m\u001b[1mval: \u001b[0mWARNING ⚠️ /home/ralvarez22/Documentos/trocr_hand/hand-cursive-I/hand-cursive-detr-yolo/images/val/2192f87db738.jpeg: ignoring corrupt image/label: non-normalized or out of bounds coordinates [     1.0707      1.0707]\n"
     ]
    },
    {
     "name": "stderr",
     "output_type": "stream",
     "text": [
      "\n"
     ]
    },
    {
     "name": "stdout",
     "output_type": "stream",
     "text": [
      "Plotting labels to ../finetuned/yolo/Zani_V1/labels.jpg... \n",
      "\u001b[34m\u001b[1moptimizer:\u001b[0m AdamW(lr=0.0001, momentum=0.937) with parameter groups 106 weight(decay=0.0), 113 weight(decay=9.375e-05), 112 bias(decay=0.0)\n",
      "\u001b[34m\u001b[1mTensorBoard: \u001b[0mmodel graph visualization added ✅\n",
      "Image sizes 640 train, 640 val\n",
      "Using 8 dataloader workers\n",
      "Logging results to \u001b[1m../finetuned/yolo/Zani_V1\u001b[0m\n",
      "Starting training for 100 epochs...\n",
      "\n",
      "      Epoch    GPU_mem   box_loss   cls_loss   dfl_loss  Instances       Size\n"
     ]
    },
    {
     "name": "stderr",
     "output_type": "stream",
     "text": [
      "      1/100      8.26G      1.443      1.177      1.089        389        640: 100%|██████████| 75/75 [00:12<00:00,  6.25it/s]\n",
      "                 Class     Images  Instances      Box(P          R      mAP50  mAP50-95): 100%|██████████| 16/16 [00:03<00:00,  4.33it/s]"
     ]
    },
    {
     "name": "stdout",
     "output_type": "stream",
     "text": [
      "                   all        478      27325       0.85      0.856      0.905      0.559\n"
     ]
    },
    {
     "name": "stderr",
     "output_type": "stream",
     "text": [
      "\n"
     ]
    },
    {
     "name": "stdout",
     "output_type": "stream",
     "text": [
      "\n",
      "      Epoch    GPU_mem   box_loss   cls_loss   dfl_loss  Instances       Size\n"
     ]
    },
    {
     "name": "stderr",
     "output_type": "stream",
     "text": [
      "      2/100      8.19G      1.028     0.4861     0.9006        411        640: 100%|██████████| 75/75 [00:09<00:00,  8.10it/s]\n",
      "                 Class     Images  Instances      Box(P          R      mAP50  mAP50-95): 100%|██████████| 16/16 [00:02<00:00,  6.72it/s]\n"
     ]
    },
    {
     "name": "stdout",
     "output_type": "stream",
     "text": [
      "                   all        478      27325      0.975      0.979      0.989       0.69\n",
      "\n",
      "      Epoch    GPU_mem   box_loss   cls_loss   dfl_loss  Instances       Size\n"
     ]
    },
    {
     "name": "stderr",
     "output_type": "stream",
     "text": [
      "      3/100      8.22G     0.9827     0.4525     0.8885        363        640: 100%|██████████| 75/75 [00:09<00:00,  8.32it/s]\n",
      "                 Class     Images  Instances      Box(P          R      mAP50  mAP50-95): 100%|██████████| 16/16 [00:02<00:00,  7.17it/s]"
     ]
    },
    {
     "name": "stdout",
     "output_type": "stream",
     "text": [
      "                   all        478      27325      0.981      0.983       0.99      0.706\n"
     ]
    },
    {
     "name": "stderr",
     "output_type": "stream",
     "text": [
      "\n"
     ]
    },
    {
     "name": "stdout",
     "output_type": "stream",
     "text": [
      "\n",
      "      Epoch    GPU_mem   box_loss   cls_loss   dfl_loss  Instances       Size\n"
     ]
    },
    {
     "name": "stderr",
     "output_type": "stream",
     "text": [
      "      4/100      8.25G     0.9548     0.4233     0.8821        378        640: 100%|██████████| 75/75 [00:08<00:00,  8.44it/s]\n",
      "                 Class     Images  Instances      Box(P          R      mAP50  mAP50-95): 100%|██████████| 16/16 [00:02<00:00,  7.14it/s]"
     ]
    },
    {
     "name": "stdout",
     "output_type": "stream",
     "text": [
      "                   all        478      27325      0.982      0.984      0.991      0.715\n"
     ]
    },
    {
     "name": "stderr",
     "output_type": "stream",
     "text": [
      "\n"
     ]
    },
    {
     "name": "stdout",
     "output_type": "stream",
     "text": [
      "\n",
      "      Epoch    GPU_mem   box_loss   cls_loss   dfl_loss  Instances       Size\n"
     ]
    },
    {
     "name": "stderr",
     "output_type": "stream",
     "text": [
      "      5/100       8.2G     0.9221     0.4064     0.8755        404        640: 100%|██████████| 75/75 [00:08<00:00,  8.38it/s]\n",
      "                 Class     Images  Instances      Box(P          R      mAP50  mAP50-95): 100%|██████████| 16/16 [00:02<00:00,  6.65it/s]"
     ]
    },
    {
     "name": "stdout",
     "output_type": "stream",
     "text": [
      "                   all        478      27325      0.983      0.981      0.991      0.713\n"
     ]
    },
    {
     "name": "stderr",
     "output_type": "stream",
     "text": [
      "\n"
     ]
    },
    {
     "name": "stdout",
     "output_type": "stream",
     "text": [
      "\n",
      "      Epoch    GPU_mem   box_loss   cls_loss   dfl_loss  Instances       Size\n"
     ]
    },
    {
     "name": "stderr",
     "output_type": "stream",
     "text": [
      "      6/100      8.24G     0.8953     0.3907     0.8701        393        640: 100%|██████████| 75/75 [00:09<00:00,  7.88it/s]\n",
      "                 Class     Images  Instances      Box(P          R      mAP50  mAP50-95): 100%|██████████| 16/16 [00:02<00:00,  6.60it/s]"
     ]
    },
    {
     "name": "stdout",
     "output_type": "stream",
     "text": [
      "                   all        478      27325      0.979      0.986      0.991      0.712\n"
     ]
    },
    {
     "name": "stderr",
     "output_type": "stream",
     "text": [
      "\n"
     ]
    },
    {
     "name": "stdout",
     "output_type": "stream",
     "text": [
      "\n",
      "      Epoch    GPU_mem   box_loss   cls_loss   dfl_loss  Instances       Size\n"
     ]
    },
    {
     "name": "stderr",
     "output_type": "stream",
     "text": [
      "      7/100      8.22G     0.8549     0.3774     0.8634        407        640: 100%|██████████| 75/75 [00:09<00:00,  8.24it/s]\n",
      "                 Class     Images  Instances      Box(P          R      mAP50  mAP50-95): 100%|██████████| 16/16 [00:02<00:00,  6.73it/s]"
     ]
    },
    {
     "name": "stdout",
     "output_type": "stream",
     "text": [
      "                   all        478      27325      0.985      0.986      0.992      0.714\n"
     ]
    },
    {
     "name": "stderr",
     "output_type": "stream",
     "text": [
      "\n"
     ]
    },
    {
     "name": "stdout",
     "output_type": "stream",
     "text": [
      "\n",
      "      Epoch    GPU_mem   box_loss   cls_loss   dfl_loss  Instances       Size\n"
     ]
    },
    {
     "name": "stderr",
     "output_type": "stream",
     "text": [
      "      8/100      8.25G     0.8255      0.367     0.8578        371        640: 100%|██████████| 75/75 [00:09<00:00,  8.32it/s]\n",
      "                 Class     Images  Instances      Box(P          R      mAP50  mAP50-95): 100%|██████████| 16/16 [00:02<00:00,  7.36it/s]"
     ]
    },
    {
     "name": "stdout",
     "output_type": "stream",
     "text": [
      "                   all        478      27325      0.983      0.985      0.992      0.717\n"
     ]
    },
    {
     "name": "stderr",
     "output_type": "stream",
     "text": [
      "\n"
     ]
    },
    {
     "name": "stdout",
     "output_type": "stream",
     "text": [
      "\n",
      "      Epoch    GPU_mem   box_loss   cls_loss   dfl_loss  Instances       Size\n"
     ]
    },
    {
     "name": "stderr",
     "output_type": "stream",
     "text": [
      "      9/100       8.2G     0.7906      0.356     0.8519        396        640: 100%|██████████| 75/75 [00:09<00:00,  8.19it/s]\n",
      "                 Class     Images  Instances      Box(P          R      mAP50  mAP50-95): 100%|██████████| 16/16 [00:02<00:00,  6.80it/s]"
     ]
    },
    {
     "name": "stdout",
     "output_type": "stream",
     "text": [
      "                   all        478      27325      0.986      0.985      0.992      0.713\n"
     ]
    },
    {
     "name": "stderr",
     "output_type": "stream",
     "text": [
      "\n"
     ]
    },
    {
     "name": "stdout",
     "output_type": "stream",
     "text": [
      "\n",
      "      Epoch    GPU_mem   box_loss   cls_loss   dfl_loss  Instances       Size\n"
     ]
    },
    {
     "name": "stderr",
     "output_type": "stream",
     "text": [
      "     10/100      8.24G     0.7459     0.3407     0.8446        399        640: 100%|██████████| 75/75 [00:08<00:00,  8.40it/s]\n",
      "                 Class     Images  Instances      Box(P          R      mAP50  mAP50-95): 100%|██████████| 16/16 [00:02<00:00,  6.85it/s]"
     ]
    },
    {
     "name": "stdout",
     "output_type": "stream",
     "text": [
      "                   all        478      27325      0.983      0.982      0.991      0.715\n"
     ]
    },
    {
     "name": "stderr",
     "output_type": "stream",
     "text": [
      "\n"
     ]
    },
    {
     "name": "stdout",
     "output_type": "stream",
     "text": [
      "\n",
      "      Epoch    GPU_mem   box_loss   cls_loss   dfl_loss  Instances       Size\n"
     ]
    },
    {
     "name": "stderr",
     "output_type": "stream",
     "text": [
      "     11/100      8.22G     0.7284     0.3342     0.8411        372        640: 100%|██████████| 75/75 [00:09<00:00,  8.24it/s]\n",
      "                 Class     Images  Instances      Box(P          R      mAP50  mAP50-95): 100%|██████████| 16/16 [00:02<00:00,  7.45it/s]"
     ]
    },
    {
     "name": "stdout",
     "output_type": "stream",
     "text": [
      "                   all        478      27325      0.984      0.987      0.992      0.718\n"
     ]
    },
    {
     "name": "stderr",
     "output_type": "stream",
     "text": [
      "\n"
     ]
    },
    {
     "name": "stdout",
     "output_type": "stream",
     "text": [
      "\n",
      "      Epoch    GPU_mem   box_loss   cls_loss   dfl_loss  Instances       Size\n"
     ]
    },
    {
     "name": "stderr",
     "output_type": "stream",
     "text": [
      "     12/100      8.25G     0.6917     0.3237     0.8353        418        640: 100%|██████████| 75/75 [00:09<00:00,  8.28it/s]\n",
      "                 Class     Images  Instances      Box(P          R      mAP50  mAP50-95): 100%|██████████| 16/16 [00:02<00:00,  7.36it/s]"
     ]
    },
    {
     "name": "stdout",
     "output_type": "stream",
     "text": [
      "                   all        478      27325      0.987      0.985      0.992      0.715\n"
     ]
    },
    {
     "name": "stderr",
     "output_type": "stream",
     "text": [
      "\n"
     ]
    },
    {
     "name": "stdout",
     "output_type": "stream",
     "text": [
      "\n",
      "      Epoch    GPU_mem   box_loss   cls_loss   dfl_loss  Instances       Size\n"
     ]
    },
    {
     "name": "stderr",
     "output_type": "stream",
     "text": [
      "     13/100       8.2G     0.6576     0.3124     0.8297        372        640: 100%|██████████| 75/75 [00:09<00:00,  8.28it/s]\n",
      "                 Class     Images  Instances      Box(P          R      mAP50  mAP50-95): 100%|██████████| 16/16 [00:02<00:00,  7.00it/s]"
     ]
    },
    {
     "name": "stdout",
     "output_type": "stream",
     "text": [
      "                   all        478      27325      0.984      0.984      0.992      0.711\n"
     ]
    },
    {
     "name": "stderr",
     "output_type": "stream",
     "text": [
      "\n"
     ]
    },
    {
     "name": "stdout",
     "output_type": "stream",
     "text": [
      "\n",
      "      Epoch    GPU_mem   box_loss   cls_loss   dfl_loss  Instances       Size\n"
     ]
    },
    {
     "name": "stderr",
     "output_type": "stream",
     "text": [
      "     14/100      8.25G     0.6249     0.3039      0.825        411        640: 100%|██████████| 75/75 [00:08<00:00,  8.42it/s]\n",
      "                 Class     Images  Instances      Box(P          R      mAP50  mAP50-95): 100%|██████████| 16/16 [00:02<00:00,  7.09it/s]"
     ]
    },
    {
     "name": "stdout",
     "output_type": "stream",
     "text": [
      "                   all        478      27325      0.986      0.985      0.992      0.714\n"
     ]
    },
    {
     "name": "stderr",
     "output_type": "stream",
     "text": [
      "\n"
     ]
    },
    {
     "name": "stdout",
     "output_type": "stream",
     "text": [
      "\n",
      "      Epoch    GPU_mem   box_loss   cls_loss   dfl_loss  Instances       Size\n"
     ]
    },
    {
     "name": "stderr",
     "output_type": "stream",
     "text": [
      "     15/100      8.23G      0.605     0.2963      0.822        390        640: 100%|██████████| 75/75 [00:08<00:00,  8.41it/s]\n",
      "                 Class     Images  Instances      Box(P          R      mAP50  mAP50-95): 100%|██████████| 16/16 [00:02<00:00,  7.22it/s]"
     ]
    },
    {
     "name": "stdout",
     "output_type": "stream",
     "text": [
      "                   all        478      27325      0.983      0.985      0.991      0.719\n"
     ]
    },
    {
     "name": "stderr",
     "output_type": "stream",
     "text": [
      "\n"
     ]
    },
    {
     "name": "stdout",
     "output_type": "stream",
     "text": [
      "\n",
      "      Epoch    GPU_mem   box_loss   cls_loss   dfl_loss  Instances       Size\n"
     ]
    },
    {
     "name": "stderr",
     "output_type": "stream",
     "text": [
      "     16/100      8.24G     0.5913     0.2915     0.8192        380        640: 100%|██████████| 75/75 [00:08<00:00,  8.37it/s]\n",
      "                 Class     Images  Instances      Box(P          R      mAP50  mAP50-95): 100%|██████████| 16/16 [00:02<00:00,  7.15it/s]"
     ]
    },
    {
     "name": "stdout",
     "output_type": "stream",
     "text": [
      "                   all        478      27325      0.986      0.987      0.992      0.709\n"
     ]
    },
    {
     "name": "stderr",
     "output_type": "stream",
     "text": [
      "\n"
     ]
    },
    {
     "name": "stdout",
     "output_type": "stream",
     "text": [
      "\n",
      "      Epoch    GPU_mem   box_loss   cls_loss   dfl_loss  Instances       Size\n"
     ]
    },
    {
     "name": "stderr",
     "output_type": "stream",
     "text": [
      "     17/100       8.2G     0.5676     0.2845     0.8154        406        640: 100%|██████████| 75/75 [00:08<00:00,  8.44it/s]\n",
      "                 Class     Images  Instances      Box(P          R      mAP50  mAP50-95): 100%|██████████| 16/16 [00:02<00:00,  7.23it/s]"
     ]
    },
    {
     "name": "stdout",
     "output_type": "stream",
     "text": [
      "                   all        478      27325      0.985      0.986      0.992      0.715\n"
     ]
    },
    {
     "name": "stderr",
     "output_type": "stream",
     "text": [
      "\n"
     ]
    },
    {
     "name": "stdout",
     "output_type": "stream",
     "text": [
      "\n",
      "      Epoch    GPU_mem   box_loss   cls_loss   dfl_loss  Instances       Size\n"
     ]
    },
    {
     "name": "stderr",
     "output_type": "stream",
     "text": [
      "     18/100      8.24G     0.5474     0.2772     0.8126        373        640: 100%|██████████| 75/75 [00:09<00:00,  8.28it/s]\n",
      "                 Class     Images  Instances      Box(P          R      mAP50  mAP50-95): 100%|██████████| 16/16 [00:02<00:00,  7.08it/s]"
     ]
    },
    {
     "name": "stdout",
     "output_type": "stream",
     "text": [
      "                   all        478      27325      0.986      0.986      0.992      0.717\n"
     ]
    },
    {
     "name": "stderr",
     "output_type": "stream",
     "text": [
      "\n"
     ]
    },
    {
     "name": "stdout",
     "output_type": "stream",
     "text": [
      "\n",
      "      Epoch    GPU_mem   box_loss   cls_loss   dfl_loss  Instances       Size\n"
     ]
    },
    {
     "name": "stderr",
     "output_type": "stream",
     "text": [
      "     19/100      8.22G     0.5323     0.2712       0.81        393        640: 100%|██████████| 75/75 [00:08<00:00,  8.41it/s]\n",
      "                 Class     Images  Instances      Box(P          R      mAP50  mAP50-95): 100%|██████████| 16/16 [00:02<00:00,  6.27it/s]"
     ]
    },
    {
     "name": "stdout",
     "output_type": "stream",
     "text": [
      "                   all        478      27325      0.984      0.982      0.992      0.711\n"
     ]
    },
    {
     "name": "stderr",
     "output_type": "stream",
     "text": [
      "\n"
     ]
    },
    {
     "name": "stdout",
     "output_type": "stream",
     "text": [
      "\n",
      "      Epoch    GPU_mem   box_loss   cls_loss   dfl_loss  Instances       Size\n"
     ]
    },
    {
     "name": "stderr",
     "output_type": "stream",
     "text": [
      "     20/100      8.24G     0.5048     0.2624     0.8066        396        640: 100%|██████████| 75/75 [00:09<00:00,  8.29it/s]\n",
      "                 Class     Images  Instances      Box(P          R      mAP50  mAP50-95): 100%|██████████| 16/16 [00:02<00:00,  7.11it/s]"
     ]
    },
    {
     "name": "stdout",
     "output_type": "stream",
     "text": [
      "                   all        478      27325      0.986      0.982      0.992      0.716\n"
     ]
    },
    {
     "name": "stderr",
     "output_type": "stream",
     "text": [
      "\n"
     ]
    },
    {
     "name": "stdout",
     "output_type": "stream",
     "text": [
      "\n",
      "      Epoch    GPU_mem   box_loss   cls_loss   dfl_loss  Instances       Size\n"
     ]
    },
    {
     "name": "stderr",
     "output_type": "stream",
     "text": [
      "     21/100      8.18G     0.4886     0.2571     0.8042        365        640: 100%|██████████| 75/75 [00:08<00:00,  8.47it/s]\n",
      "                 Class     Images  Instances      Box(P          R      mAP50  mAP50-95): 100%|██████████| 16/16 [00:02<00:00,  7.32it/s]"
     ]
    },
    {
     "name": "stdout",
     "output_type": "stream",
     "text": [
      "                   all        478      27325      0.985      0.988      0.992      0.719\n"
     ]
    },
    {
     "name": "stderr",
     "output_type": "stream",
     "text": [
      "\n"
     ]
    },
    {
     "name": "stdout",
     "output_type": "stream",
     "text": [
      "\n",
      "      Epoch    GPU_mem   box_loss   cls_loss   dfl_loss  Instances       Size\n"
     ]
    },
    {
     "name": "stderr",
     "output_type": "stream",
     "text": [
      "     22/100      8.24G     0.4851     0.2542     0.8034        354        640: 100%|██████████| 75/75 [00:08<00:00,  8.43it/s]\n",
      "                 Class     Images  Instances      Box(P          R      mAP50  mAP50-95): 100%|██████████| 16/16 [00:02<00:00,  7.22it/s]"
     ]
    },
    {
     "name": "stdout",
     "output_type": "stream",
     "text": [
      "                   all        478      27325      0.986      0.985      0.992      0.719\n"
     ]
    },
    {
     "name": "stderr",
     "output_type": "stream",
     "text": [
      "\n"
     ]
    },
    {
     "name": "stdout",
     "output_type": "stream",
     "text": [
      "\n",
      "      Epoch    GPU_mem   box_loss   cls_loss   dfl_loss  Instances       Size\n"
     ]
    },
    {
     "name": "stderr",
     "output_type": "stream",
     "text": [
      "     23/100      8.21G     0.4826      0.252     0.8026        384        640: 100%|██████████| 75/75 [00:08<00:00,  8.45it/s]\n",
      "                 Class     Images  Instances      Box(P          R      mAP50  mAP50-95): 100%|██████████| 16/16 [00:02<00:00,  7.31it/s]"
     ]
    },
    {
     "name": "stdout",
     "output_type": "stream",
     "text": [
      "                   all        478      27325      0.986      0.986      0.992      0.712\n"
     ]
    },
    {
     "name": "stderr",
     "output_type": "stream",
     "text": [
      "\n"
     ]
    },
    {
     "name": "stdout",
     "output_type": "stream",
     "text": [
      "\n",
      "      Epoch    GPU_mem   box_loss   cls_loss   dfl_loss  Instances       Size\n"
     ]
    },
    {
     "name": "stderr",
     "output_type": "stream",
     "text": [
      "     24/100      8.24G     0.4645     0.2468     0.8004        401        640: 100%|██████████| 75/75 [00:08<00:00,  8.47it/s]\n",
      "                 Class     Images  Instances      Box(P          R      mAP50  mAP50-95): 100%|██████████| 16/16 [00:02<00:00,  7.13it/s]"
     ]
    },
    {
     "name": "stdout",
     "output_type": "stream",
     "text": [
      "                   all        478      27325      0.984      0.987      0.992      0.718\n"
     ]
    },
    {
     "name": "stderr",
     "output_type": "stream",
     "text": [
      "\n"
     ]
    },
    {
     "name": "stdout",
     "output_type": "stream",
     "text": [
      "\n",
      "      Epoch    GPU_mem   box_loss   cls_loss   dfl_loss  Instances       Size\n"
     ]
    },
    {
     "name": "stderr",
     "output_type": "stream",
     "text": [
      "     25/100      8.18G     0.4451     0.2398     0.7983        402        640: 100%|██████████| 75/75 [00:08<00:00,  8.39it/s]\n",
      "                 Class     Images  Instances      Box(P          R      mAP50  mAP50-95): 100%|██████████| 16/16 [00:02<00:00,  7.20it/s]"
     ]
    },
    {
     "name": "stdout",
     "output_type": "stream",
     "text": [
      "                   all        478      27325      0.984      0.987      0.992      0.716\n"
     ]
    },
    {
     "name": "stderr",
     "output_type": "stream",
     "text": [
      "\n"
     ]
    },
    {
     "name": "stdout",
     "output_type": "stream",
     "text": [
      "\n",
      "      Epoch    GPU_mem   box_loss   cls_loss   dfl_loss  Instances       Size\n"
     ]
    },
    {
     "name": "stderr",
     "output_type": "stream",
     "text": [
      "     26/100      8.24G     0.4508     0.2405     0.7982        387        640: 100%|██████████| 75/75 [00:08<00:00,  8.40it/s]\n",
      "                 Class     Images  Instances      Box(P          R      mAP50  mAP50-95): 100%|██████████| 16/16 [00:02<00:00,  6.96it/s]"
     ]
    },
    {
     "name": "stdout",
     "output_type": "stream",
     "text": [
      "                   all        478      27325      0.985      0.983      0.991      0.715\n"
     ]
    },
    {
     "name": "stderr",
     "output_type": "stream",
     "text": [
      "\n"
     ]
    },
    {
     "name": "stdout",
     "output_type": "stream",
     "text": [
      "\n",
      "      Epoch    GPU_mem   box_loss   cls_loss   dfl_loss  Instances       Size\n"
     ]
    },
    {
     "name": "stderr",
     "output_type": "stream",
     "text": [
      "     27/100      8.21G     0.4326     0.2342     0.7967        372        640: 100%|██████████| 75/75 [00:08<00:00,  8.39it/s]\n",
      "                 Class     Images  Instances      Box(P          R      mAP50  mAP50-95): 100%|██████████| 16/16 [00:02<00:00,  7.21it/s]"
     ]
    },
    {
     "name": "stdout",
     "output_type": "stream",
     "text": [
      "                   all        478      27325      0.985      0.985      0.992      0.718\n"
     ]
    },
    {
     "name": "stderr",
     "output_type": "stream",
     "text": [
      "\n"
     ]
    },
    {
     "name": "stdout",
     "output_type": "stream",
     "text": [
      "\n",
      "      Epoch    GPU_mem   box_loss   cls_loss   dfl_loss  Instances       Size\n"
     ]
    },
    {
     "name": "stderr",
     "output_type": "stream",
     "text": [
      "     28/100      8.25G     0.4187     0.2294     0.7953        406        640: 100%|██████████| 75/75 [00:08<00:00,  8.41it/s]\n",
      "                 Class     Images  Instances      Box(P          R      mAP50  mAP50-95): 100%|██████████| 16/16 [00:02<00:00,  7.08it/s]"
     ]
    },
    {
     "name": "stdout",
     "output_type": "stream",
     "text": [
      "                   all        478      27325      0.984      0.986      0.992      0.715\n"
     ]
    },
    {
     "name": "stderr",
     "output_type": "stream",
     "text": [
      "\n"
     ]
    },
    {
     "name": "stdout",
     "output_type": "stream",
     "text": [
      "\n",
      "      Epoch    GPU_mem   box_loss   cls_loss   dfl_loss  Instances       Size\n"
     ]
    },
    {
     "name": "stderr",
     "output_type": "stream",
     "text": [
      "     29/100       8.2G     0.4219     0.2293     0.7955        355        640: 100%|██████████| 75/75 [00:08<00:00,  8.55it/s]\n",
      "                 Class     Images  Instances      Box(P          R      mAP50  mAP50-95): 100%|██████████| 16/16 [00:02<00:00,  7.32it/s]"
     ]
    },
    {
     "name": "stdout",
     "output_type": "stream",
     "text": [
      "                   all        478      27325      0.983      0.986      0.991      0.721\n"
     ]
    },
    {
     "name": "stderr",
     "output_type": "stream",
     "text": [
      "\n"
     ]
    },
    {
     "name": "stdout",
     "output_type": "stream",
     "text": [
      "\n",
      "      Epoch    GPU_mem   box_loss   cls_loss   dfl_loss  Instances       Size\n"
     ]
    },
    {
     "name": "stderr",
     "output_type": "stream",
     "text": [
      "     30/100      8.25G      0.418     0.2283      0.795        311        640: 100%|██████████| 75/75 [00:09<00:00,  8.28it/s]\n",
      "                 Class     Images  Instances      Box(P          R      mAP50  mAP50-95): 100%|██████████| 16/16 [00:02<00:00,  7.36it/s]"
     ]
    },
    {
     "name": "stdout",
     "output_type": "stream",
     "text": [
      "                   all        478      27325      0.985      0.986      0.992      0.715\n"
     ]
    },
    {
     "name": "stderr",
     "output_type": "stream",
     "text": [
      "\n"
     ]
    },
    {
     "name": "stdout",
     "output_type": "stream",
     "text": [
      "\n",
      "      Epoch    GPU_mem   box_loss   cls_loss   dfl_loss  Instances       Size\n"
     ]
    },
    {
     "name": "stderr",
     "output_type": "stream",
     "text": [
      "     31/100      8.23G     0.4226     0.2288     0.7945        420        640: 100%|██████████| 75/75 [00:08<00:00,  8.37it/s]\n",
      "                 Class     Images  Instances      Box(P          R      mAP50  mAP50-95): 100%|██████████| 16/16 [00:02<00:00,  7.16it/s]"
     ]
    },
    {
     "name": "stdout",
     "output_type": "stream",
     "text": [
      "                   all        478      27325      0.986      0.984      0.992      0.715\n"
     ]
    },
    {
     "name": "stderr",
     "output_type": "stream",
     "text": [
      "\n"
     ]
    },
    {
     "name": "stdout",
     "output_type": "stream",
     "text": [
      "\n",
      "      Epoch    GPU_mem   box_loss   cls_loss   dfl_loss  Instances       Size\n"
     ]
    },
    {
     "name": "stderr",
     "output_type": "stream",
     "text": [
      "     32/100      8.24G     0.4159     0.2251     0.7941        374        640: 100%|██████████| 75/75 [00:08<00:00,  8.37it/s]\n",
      "                 Class     Images  Instances      Box(P          R      mAP50  mAP50-95): 100%|██████████| 16/16 [00:02<00:00,  6.81it/s]"
     ]
    },
    {
     "name": "stdout",
     "output_type": "stream",
     "text": [
      "                   all        478      27325      0.985      0.984      0.992       0.72\n"
     ]
    },
    {
     "name": "stderr",
     "output_type": "stream",
     "text": [
      "\n"
     ]
    },
    {
     "name": "stdout",
     "output_type": "stream",
     "text": [
      "\n",
      "      Epoch    GPU_mem   box_loss   cls_loss   dfl_loss  Instances       Size\n"
     ]
    },
    {
     "name": "stderr",
     "output_type": "stream",
     "text": [
      "     33/100       8.2G      0.407     0.2221      0.793        393        640: 100%|██████████| 75/75 [00:08<00:00,  8.48it/s]\n",
      "                 Class     Images  Instances      Box(P          R      mAP50  mAP50-95): 100%|██████████| 16/16 [00:02<00:00,  7.05it/s]"
     ]
    },
    {
     "name": "stdout",
     "output_type": "stream",
     "text": [
      "                   all        478      27325      0.984      0.984      0.992      0.715\n"
     ]
    },
    {
     "name": "stderr",
     "output_type": "stream",
     "text": [
      "\n"
     ]
    },
    {
     "name": "stdout",
     "output_type": "stream",
     "text": [
      "\n",
      "      Epoch    GPU_mem   box_loss   cls_loss   dfl_loss  Instances       Size\n"
     ]
    },
    {
     "name": "stderr",
     "output_type": "stream",
     "text": [
      "     34/100      8.24G     0.3909     0.2159     0.7914        403        640: 100%|██████████| 75/75 [00:08<00:00,  8.39it/s]\n",
      "                 Class     Images  Instances      Box(P          R      mAP50  mAP50-95): 100%|██████████| 16/16 [00:02<00:00,  7.44it/s]"
     ]
    },
    {
     "name": "stdout",
     "output_type": "stream",
     "text": [
      "                   all        478      27325      0.986      0.986      0.992      0.713\n"
     ]
    },
    {
     "name": "stderr",
     "output_type": "stream",
     "text": [
      "\n"
     ]
    },
    {
     "name": "stdout",
     "output_type": "stream",
     "text": [
      "\n",
      "      Epoch    GPU_mem   box_loss   cls_loss   dfl_loss  Instances       Size\n"
     ]
    },
    {
     "name": "stderr",
     "output_type": "stream",
     "text": [
      "     35/100      8.23G     0.3872     0.2134     0.7913        359        640: 100%|██████████| 75/75 [00:09<00:00,  8.33it/s]\n",
      "                 Class     Images  Instances      Box(P          R      mAP50  mAP50-95): 100%|██████████| 16/16 [00:02<00:00,  7.06it/s]"
     ]
    },
    {
     "name": "stdout",
     "output_type": "stream",
     "text": [
      "                   all        478      27325      0.986      0.985      0.992      0.715\n"
     ]
    },
    {
     "name": "stderr",
     "output_type": "stream",
     "text": [
      "\n"
     ]
    },
    {
     "name": "stdout",
     "output_type": "stream",
     "text": [
      "\n",
      "      Epoch    GPU_mem   box_loss   cls_loss   dfl_loss  Instances       Size\n"
     ]
    },
    {
     "name": "stderr",
     "output_type": "stream",
     "text": [
      "     36/100      8.24G     0.3974     0.2167     0.7916        416        640: 100%|██████████| 75/75 [00:08<00:00,  8.36it/s]\n",
      "                 Class     Images  Instances      Box(P          R      mAP50  mAP50-95): 100%|██████████| 16/16 [00:02<00:00,  7.47it/s]"
     ]
    },
    {
     "name": "stdout",
     "output_type": "stream",
     "text": [
      "                   all        478      27325      0.985      0.987      0.992      0.712\n"
     ]
    },
    {
     "name": "stderr",
     "output_type": "stream",
     "text": [
      "\n"
     ]
    },
    {
     "name": "stdout",
     "output_type": "stream",
     "text": [
      "\n",
      "      Epoch    GPU_mem   box_loss   cls_loss   dfl_loss  Instances       Size\n"
     ]
    },
    {
     "name": "stderr",
     "output_type": "stream",
     "text": [
      "     37/100       8.2G     0.3847     0.2112     0.7907        373        640: 100%|██████████| 75/75 [00:08<00:00,  8.44it/s]\n",
      "                 Class     Images  Instances      Box(P          R      mAP50  mAP50-95): 100%|██████████| 16/16 [00:02<00:00,  7.00it/s]"
     ]
    },
    {
     "name": "stdout",
     "output_type": "stream",
     "text": [
      "                   all        478      27325      0.985      0.986      0.991      0.716\n"
     ]
    },
    {
     "name": "stderr",
     "output_type": "stream",
     "text": [
      "\n"
     ]
    },
    {
     "name": "stdout",
     "output_type": "stream",
     "text": [
      "\n",
      "      Epoch    GPU_mem   box_loss   cls_loss   dfl_loss  Instances       Size\n"
     ]
    },
    {
     "name": "stderr",
     "output_type": "stream",
     "text": [
      "     38/100      8.24G     0.3765     0.2083     0.7896        398        640: 100%|██████████| 75/75 [00:08<00:00,  8.39it/s]\n",
      "                 Class     Images  Instances      Box(P          R      mAP50  mAP50-95): 100%|██████████| 16/16 [00:02<00:00,  7.28it/s]"
     ]
    },
    {
     "name": "stdout",
     "output_type": "stream",
     "text": [
      "                   all        478      27325      0.985      0.985      0.992      0.712\n"
     ]
    },
    {
     "name": "stderr",
     "output_type": "stream",
     "text": [
      "\n"
     ]
    },
    {
     "name": "stdout",
     "output_type": "stream",
     "text": [
      "\n",
      "      Epoch    GPU_mem   box_loss   cls_loss   dfl_loss  Instances       Size\n"
     ]
    },
    {
     "name": "stderr",
     "output_type": "stream",
     "text": [
      "     39/100      8.21G     0.3684     0.2045      0.789        383        640: 100%|██████████| 75/75 [00:08<00:00,  8.43it/s]\n",
      "                 Class     Images  Instances      Box(P          R      mAP50  mAP50-95): 100%|██████████| 16/16 [00:02<00:00,  7.08it/s]"
     ]
    },
    {
     "name": "stdout",
     "output_type": "stream",
     "text": [
      "                   all        478      27325      0.985      0.987      0.992      0.714\n"
     ]
    },
    {
     "name": "stderr",
     "output_type": "stream",
     "text": [
      "\n"
     ]
    },
    {
     "name": "stdout",
     "output_type": "stream",
     "text": [
      "\n",
      "      Epoch    GPU_mem   box_loss   cls_loss   dfl_loss  Instances       Size\n"
     ]
    },
    {
     "name": "stderr",
     "output_type": "stream",
     "text": [
      "     40/100      8.24G     0.3649     0.2032     0.7889        399        640: 100%|██████████| 75/75 [00:08<00:00,  8.42it/s]\n",
      "                 Class     Images  Instances      Box(P          R      mAP50  mAP50-95): 100%|██████████| 16/16 [00:02<00:00,  7.48it/s]"
     ]
    },
    {
     "name": "stdout",
     "output_type": "stream",
     "text": [
      "                   all        478      27325      0.985      0.987      0.992      0.711\n"
     ]
    },
    {
     "name": "stderr",
     "output_type": "stream",
     "text": [
      "\n"
     ]
    },
    {
     "name": "stdout",
     "output_type": "stream",
     "text": [
      "\n",
      "      Epoch    GPU_mem   box_loss   cls_loss   dfl_loss  Instances       Size\n"
     ]
    },
    {
     "name": "stderr",
     "output_type": "stream",
     "text": [
      "     41/100      8.19G     0.3622     0.2015     0.7885        401        640: 100%|██████████| 75/75 [00:08<00:00,  8.38it/s]\n",
      "                 Class     Images  Instances      Box(P          R      mAP50  mAP50-95): 100%|██████████| 16/16 [00:02<00:00,  7.26it/s]"
     ]
    },
    {
     "name": "stdout",
     "output_type": "stream",
     "text": [
      "                   all        478      27325      0.986      0.986      0.992      0.715\n"
     ]
    },
    {
     "name": "stderr",
     "output_type": "stream",
     "text": [
      "\n"
     ]
    },
    {
     "name": "stdout",
     "output_type": "stream",
     "text": [
      "\n",
      "      Epoch    GPU_mem   box_loss   cls_loss   dfl_loss  Instances       Size\n"
     ]
    },
    {
     "name": "stderr",
     "output_type": "stream",
     "text": [
      "     42/100      8.24G      0.369     0.2037     0.7888        411        640: 100%|██████████| 75/75 [00:08<00:00,  8.40it/s]\n",
      "                 Class     Images  Instances      Box(P          R      mAP50  mAP50-95): 100%|██████████| 16/16 [00:02<00:00,  7.18it/s]"
     ]
    },
    {
     "name": "stdout",
     "output_type": "stream",
     "text": [
      "                   all        478      27325      0.986      0.983      0.991      0.713\n"
     ]
    },
    {
     "name": "stderr",
     "output_type": "stream",
     "text": [
      "\n"
     ]
    },
    {
     "name": "stdout",
     "output_type": "stream",
     "text": [
      "\n",
      "      Epoch    GPU_mem   box_loss   cls_loss   dfl_loss  Instances       Size\n"
     ]
    },
    {
     "name": "stderr",
     "output_type": "stream",
     "text": [
      "     43/100      8.21G       0.36     0.2004     0.7881        407        640: 100%|██████████| 75/75 [00:08<00:00,  8.37it/s]\n",
      "                 Class     Images  Instances      Box(P          R      mAP50  mAP50-95): 100%|██████████| 16/16 [00:02<00:00,  7.43it/s]"
     ]
    },
    {
     "name": "stdout",
     "output_type": "stream",
     "text": [
      "                   all        478      27325      0.985      0.985      0.992      0.715\n"
     ]
    },
    {
     "name": "stderr",
     "output_type": "stream",
     "text": [
      "\n"
     ]
    },
    {
     "name": "stdout",
     "output_type": "stream",
     "text": [
      "\n",
      "      Epoch    GPU_mem   box_loss   cls_loss   dfl_loss  Instances       Size\n"
     ]
    },
    {
     "name": "stderr",
     "output_type": "stream",
     "text": [
      "     44/100      8.24G     0.3537     0.1973     0.7878        368        640: 100%|██████████| 75/75 [00:08<00:00,  8.37it/s]\n",
      "                 Class     Images  Instances      Box(P          R      mAP50  mAP50-95): 100%|██████████| 16/16 [00:02<00:00,  7.35it/s]"
     ]
    },
    {
     "name": "stdout",
     "output_type": "stream",
     "text": [
      "                   all        478      27325      0.985      0.986      0.992      0.718\n"
     ]
    },
    {
     "name": "stderr",
     "output_type": "stream",
     "text": [
      "\n"
     ]
    },
    {
     "name": "stdout",
     "output_type": "stream",
     "text": [
      "\n",
      "      Epoch    GPU_mem   box_loss   cls_loss   dfl_loss  Instances       Size\n"
     ]
    },
    {
     "name": "stderr",
     "output_type": "stream",
     "text": [
      "     45/100      8.18G     0.3571     0.1978     0.7878        404        640: 100%|██████████| 75/75 [00:08<00:00,  8.37it/s]\n",
      "                 Class     Images  Instances      Box(P          R      mAP50  mAP50-95): 100%|██████████| 16/16 [00:02<00:00,  7.38it/s]"
     ]
    },
    {
     "name": "stdout",
     "output_type": "stream",
     "text": [
      "                   all        478      27325      0.985      0.985      0.992      0.714\n"
     ]
    },
    {
     "name": "stderr",
     "output_type": "stream",
     "text": [
      "\n"
     ]
    },
    {
     "name": "stdout",
     "output_type": "stream",
     "text": [
      "\n",
      "      Epoch    GPU_mem   box_loss   cls_loss   dfl_loss  Instances       Size\n"
     ]
    },
    {
     "name": "stderr",
     "output_type": "stream",
     "text": [
      "     46/100      8.23G     0.3543     0.1969     0.7875        390        640: 100%|██████████| 75/75 [00:08<00:00,  8.40it/s]\n",
      "                 Class     Images  Instances      Box(P          R      mAP50  mAP50-95): 100%|██████████| 16/16 [00:02<00:00,  7.23it/s]"
     ]
    },
    {
     "name": "stdout",
     "output_type": "stream",
     "text": [
      "                   all        478      27325      0.984      0.987      0.991      0.712\n"
     ]
    },
    {
     "name": "stderr",
     "output_type": "stream",
     "text": [
      "\n"
     ]
    },
    {
     "name": "stdout",
     "output_type": "stream",
     "text": [
      "\n",
      "      Epoch    GPU_mem   box_loss   cls_loss   dfl_loss  Instances       Size\n"
     ]
    },
    {
     "name": "stderr",
     "output_type": "stream",
     "text": [
      "     47/100      8.21G     0.3468      0.194     0.7869        400        640: 100%|██████████| 75/75 [00:08<00:00,  8.34it/s]\n",
      "                 Class     Images  Instances      Box(P          R      mAP50  mAP50-95): 100%|██████████| 16/16 [00:02<00:00,  7.41it/s]"
     ]
    },
    {
     "name": "stdout",
     "output_type": "stream",
     "text": [
      "                   all        478      27325      0.985      0.985      0.992      0.715\n"
     ]
    },
    {
     "name": "stderr",
     "output_type": "stream",
     "text": [
      "\n"
     ]
    },
    {
     "name": "stdout",
     "output_type": "stream",
     "text": [
      "\n",
      "      Epoch    GPU_mem   box_loss   cls_loss   dfl_loss  Instances       Size\n"
     ]
    },
    {
     "name": "stderr",
     "output_type": "stream",
     "text": [
      "     48/100      8.24G     0.3467     0.1936     0.7867        397        640: 100%|██████████| 75/75 [00:08<00:00,  8.37it/s]\n",
      "                 Class     Images  Instances      Box(P          R      mAP50  mAP50-95): 100%|██████████| 16/16 [00:02<00:00,  7.49it/s]"
     ]
    },
    {
     "name": "stdout",
     "output_type": "stream",
     "text": [
      "                   all        478      27325      0.985      0.985      0.992      0.713\n"
     ]
    },
    {
     "name": "stderr",
     "output_type": "stream",
     "text": [
      "\n"
     ]
    },
    {
     "name": "stdout",
     "output_type": "stream",
     "text": [
      "\n",
      "      Epoch    GPU_mem   box_loss   cls_loss   dfl_loss  Instances       Size\n"
     ]
    },
    {
     "name": "stderr",
     "output_type": "stream",
     "text": [
      "     49/100       8.2G      0.351     0.1942     0.7871        396        640: 100%|██████████| 75/75 [00:08<00:00,  8.41it/s]\n",
      "                 Class     Images  Instances      Box(P          R      mAP50  mAP50-95): 100%|██████████| 16/16 [00:02<00:00,  7.35it/s]"
     ]
    },
    {
     "name": "stdout",
     "output_type": "stream",
     "text": [
      "                   all        478      27325      0.986      0.986      0.992      0.716\n"
     ]
    },
    {
     "name": "stderr",
     "output_type": "stream",
     "text": [
      "\n"
     ]
    },
    {
     "name": "stdout",
     "output_type": "stream",
     "text": [
      "\n",
      "      Epoch    GPU_mem   box_loss   cls_loss   dfl_loss  Instances       Size\n"
     ]
    },
    {
     "name": "stderr",
     "output_type": "stream",
     "text": [
      "     50/100      8.24G     0.3532     0.1942     0.7869        384        640: 100%|██████████| 75/75 [00:08<00:00,  8.37it/s]\n",
      "                 Class     Images  Instances      Box(P          R      mAP50  mAP50-95): 100%|██████████| 16/16 [00:02<00:00,  7.25it/s]"
     ]
    },
    {
     "name": "stdout",
     "output_type": "stream",
     "text": [
      "                   all        478      27325      0.985      0.985      0.992      0.714\n"
     ]
    },
    {
     "name": "stderr",
     "output_type": "stream",
     "text": [
      "\n"
     ]
    },
    {
     "name": "stdout",
     "output_type": "stream",
     "text": [
      "\n",
      "      Epoch    GPU_mem   box_loss   cls_loss   dfl_loss  Instances       Size\n"
     ]
    },
    {
     "name": "stderr",
     "output_type": "stream",
     "text": [
      "     51/100      8.23G     0.3454     0.1912     0.7863        413        640: 100%|██████████| 75/75 [00:08<00:00,  8.42it/s]\n",
      "                 Class     Images  Instances      Box(P          R      mAP50  mAP50-95): 100%|██████████| 16/16 [00:02<00:00,  7.11it/s]"
     ]
    },
    {
     "name": "stdout",
     "output_type": "stream",
     "text": [
      "                   all        478      27325      0.985      0.987      0.992      0.714\n"
     ]
    },
    {
     "name": "stderr",
     "output_type": "stream",
     "text": [
      "\n"
     ]
    },
    {
     "name": "stdout",
     "output_type": "stream",
     "text": [
      "\n",
      "      Epoch    GPU_mem   box_loss   cls_loss   dfl_loss  Instances       Size\n"
     ]
    },
    {
     "name": "stderr",
     "output_type": "stream",
     "text": [
      "     52/100      8.25G      0.338     0.1878     0.7856        385        640: 100%|██████████| 75/75 [00:08<00:00,  8.35it/s]\n",
      "                 Class     Images  Instances      Box(P          R      mAP50  mAP50-95): 100%|██████████| 16/16 [00:02<00:00,  7.17it/s]"
     ]
    },
    {
     "name": "stdout",
     "output_type": "stream",
     "text": [
      "                   all        478      27325      0.985      0.985      0.992      0.716\n"
     ]
    },
    {
     "name": "stderr",
     "output_type": "stream",
     "text": [
      "\n"
     ]
    },
    {
     "name": "stdout",
     "output_type": "stream",
     "text": [
      "\n",
      "      Epoch    GPU_mem   box_loss   cls_loss   dfl_loss  Instances       Size\n"
     ]
    },
    {
     "name": "stderr",
     "output_type": "stream",
     "text": [
      "     53/100      8.19G     0.3396     0.1885     0.7858        393        640: 100%|██████████| 75/75 [00:08<00:00,  8.39it/s]\n",
      "                 Class     Images  Instances      Box(P          R      mAP50  mAP50-95): 100%|██████████| 16/16 [00:02<00:00,  7.28it/s]"
     ]
    },
    {
     "name": "stdout",
     "output_type": "stream",
     "text": [
      "                   all        478      27325      0.985      0.986      0.992      0.715\n"
     ]
    },
    {
     "name": "stderr",
     "output_type": "stream",
     "text": [
      "\n"
     ]
    },
    {
     "name": "stdout",
     "output_type": "stream",
     "text": [
      "\n",
      "      Epoch    GPU_mem   box_loss   cls_loss   dfl_loss  Instances       Size\n"
     ]
    },
    {
     "name": "stderr",
     "output_type": "stream",
     "text": [
      "     54/100      8.24G     0.3327     0.1851     0.7851        363        640: 100%|██████████| 75/75 [00:08<00:00,  8.43it/s]\n",
      "                 Class     Images  Instances      Box(P          R      mAP50  mAP50-95): 100%|██████████| 16/16 [00:02<00:00,  7.37it/s]"
     ]
    },
    {
     "name": "stdout",
     "output_type": "stream",
     "text": [
      "                   all        478      27325      0.985      0.986      0.992      0.715\n"
     ]
    },
    {
     "name": "stderr",
     "output_type": "stream",
     "text": [
      "\n"
     ]
    },
    {
     "name": "stdout",
     "output_type": "stream",
     "text": [
      "\n",
      "      Epoch    GPU_mem   box_loss   cls_loss   dfl_loss  Instances       Size\n"
     ]
    },
    {
     "name": "stderr",
     "output_type": "stream",
     "text": [
      "     55/100      8.22G     0.3285     0.1829     0.7847        361        640: 100%|██████████| 75/75 [00:09<00:00,  8.33it/s]\n",
      "                 Class     Images  Instances      Box(P          R      mAP50  mAP50-95): 100%|██████████| 16/16 [00:02<00:00,  6.91it/s]"
     ]
    },
    {
     "name": "stdout",
     "output_type": "stream",
     "text": [
      "                   all        478      27325      0.985      0.986      0.992      0.717\n"
     ]
    },
    {
     "name": "stderr",
     "output_type": "stream",
     "text": [
      "\n"
     ]
    },
    {
     "name": "stdout",
     "output_type": "stream",
     "text": [
      "\n",
      "      Epoch    GPU_mem   box_loss   cls_loss   dfl_loss  Instances       Size\n"
     ]
    },
    {
     "name": "stderr",
     "output_type": "stream",
     "text": [
      "     56/100      8.24G      0.319     0.1795     0.7845        329        640: 100%|██████████| 75/75 [00:08<00:00,  8.42it/s]\n",
      "                 Class     Images  Instances      Box(P          R      mAP50  mAP50-95): 100%|██████████| 16/16 [00:02<00:00,  7.03it/s]"
     ]
    },
    {
     "name": "stdout",
     "output_type": "stream",
     "text": [
      "                   all        478      27325      0.984      0.986      0.991      0.712\n"
     ]
    },
    {
     "name": "stderr",
     "output_type": "stream",
     "text": [
      "\n"
     ]
    },
    {
     "name": "stdout",
     "output_type": "stream",
     "text": [
      "\n",
      "      Epoch    GPU_mem   box_loss   cls_loss   dfl_loss  Instances       Size\n"
     ]
    },
    {
     "name": "stderr",
     "output_type": "stream",
     "text": [
      "     57/100       8.2G     0.3275     0.1832     0.7849        404        640: 100%|██████████| 75/75 [00:08<00:00,  8.39it/s]\n",
      "                 Class     Images  Instances      Box(P          R      mAP50  mAP50-95): 100%|██████████| 16/16 [00:02<00:00,  7.09it/s]"
     ]
    },
    {
     "name": "stdout",
     "output_type": "stream",
     "text": [
      "                   all        478      27325      0.985      0.987      0.991      0.711\n"
     ]
    },
    {
     "name": "stderr",
     "output_type": "stream",
     "text": [
      "\n"
     ]
    },
    {
     "name": "stdout",
     "output_type": "stream",
     "text": [
      "\n",
      "      Epoch    GPU_mem   box_loss   cls_loss   dfl_loss  Instances       Size\n"
     ]
    },
    {
     "name": "stderr",
     "output_type": "stream",
     "text": [
      "     58/100      8.24G     0.3246     0.1817     0.7844        380        640: 100%|██████████| 75/75 [00:08<00:00,  8.35it/s]\n",
      "                 Class     Images  Instances      Box(P          R      mAP50  mAP50-95): 100%|██████████| 16/16 [00:02<00:00,  7.24it/s]"
     ]
    },
    {
     "name": "stdout",
     "output_type": "stream",
     "text": [
      "                   all        478      27325      0.985      0.986      0.992      0.713\n"
     ]
    },
    {
     "name": "stderr",
     "output_type": "stream",
     "text": [
      "\n"
     ]
    },
    {
     "name": "stdout",
     "output_type": "stream",
     "text": [
      "\n",
      "      Epoch    GPU_mem   box_loss   cls_loss   dfl_loss  Instances       Size\n"
     ]
    },
    {
     "name": "stderr",
     "output_type": "stream",
     "text": [
      "     59/100      8.19G     0.3161     0.1783     0.7841        416        640: 100%|██████████| 75/75 [00:08<00:00,  8.39it/s]\n",
      "                 Class     Images  Instances      Box(P          R      mAP50  mAP50-95): 100%|██████████| 16/16 [00:02<00:00,  7.04it/s]"
     ]
    },
    {
     "name": "stdout",
     "output_type": "stream",
     "text": [
      "                   all        478      27325      0.984      0.986      0.992      0.716\n"
     ]
    },
    {
     "name": "stderr",
     "output_type": "stream",
     "text": [
      "\n"
     ]
    },
    {
     "name": "stdout",
     "output_type": "stream",
     "text": [
      "\n",
      "      Epoch    GPU_mem   box_loss   cls_loss   dfl_loss  Instances       Size\n"
     ]
    },
    {
     "name": "stderr",
     "output_type": "stream",
     "text": [
      "     60/100      8.24G     0.3199     0.1791     0.7843        382        640: 100%|██████████| 75/75 [00:09<00:00,  8.33it/s]\n",
      "                 Class     Images  Instances      Box(P          R      mAP50  mAP50-95): 100%|██████████| 16/16 [00:02<00:00,  7.08it/s]"
     ]
    },
    {
     "name": "stdout",
     "output_type": "stream",
     "text": [
      "                   all        478      27325      0.986      0.986      0.992      0.713\n"
     ]
    },
    {
     "name": "stderr",
     "output_type": "stream",
     "text": [
      "\n"
     ]
    },
    {
     "name": "stdout",
     "output_type": "stream",
     "text": [
      "\n",
      "      Epoch    GPU_mem   box_loss   cls_loss   dfl_loss  Instances       Size\n"
     ]
    },
    {
     "name": "stderr",
     "output_type": "stream",
     "text": [
      "     61/100      8.19G     0.3207     0.1794     0.7843        402        640: 100%|██████████| 75/75 [00:08<00:00,  8.51it/s]\n",
      "                 Class     Images  Instances      Box(P          R      mAP50  mAP50-95): 100%|██████████| 16/16 [00:02<00:00,  7.08it/s]"
     ]
    },
    {
     "name": "stdout",
     "output_type": "stream",
     "text": [
      "                   all        478      27325      0.984      0.987      0.991      0.715\n"
     ]
    },
    {
     "name": "stderr",
     "output_type": "stream",
     "text": [
      "\n"
     ]
    },
    {
     "name": "stdout",
     "output_type": "stream",
     "text": [
      "\n",
      "      Epoch    GPU_mem   box_loss   cls_loss   dfl_loss  Instances       Size\n"
     ]
    },
    {
     "name": "stderr",
     "output_type": "stream",
     "text": [
      "     62/100      8.24G     0.3156      0.177     0.7839        402        640: 100%|██████████| 75/75 [00:09<00:00,  8.30it/s]\n",
      "                 Class     Images  Instances      Box(P          R      mAP50  mAP50-95): 100%|██████████| 16/16 [00:02<00:00,  7.12it/s]"
     ]
    },
    {
     "name": "stdout",
     "output_type": "stream",
     "text": [
      "                   all        478      27325      0.986      0.987      0.992      0.713\n"
     ]
    },
    {
     "name": "stderr",
     "output_type": "stream",
     "text": [
      "\n"
     ]
    },
    {
     "name": "stdout",
     "output_type": "stream",
     "text": [
      "\n",
      "      Epoch    GPU_mem   box_loss   cls_loss   dfl_loss  Instances       Size\n"
     ]
    },
    {
     "name": "stderr",
     "output_type": "stream",
     "text": [
      "     63/100      8.22G     0.3145      0.176     0.7838        405        640: 100%|██████████| 75/75 [00:08<00:00,  8.39it/s]\n",
      "                 Class     Images  Instances      Box(P          R      mAP50  mAP50-95): 100%|██████████| 16/16 [00:02<00:00,  7.35it/s]"
     ]
    },
    {
     "name": "stdout",
     "output_type": "stream",
     "text": [
      "                   all        478      27325      0.985      0.985      0.991      0.714\n"
     ]
    },
    {
     "name": "stderr",
     "output_type": "stream",
     "text": [
      "\n"
     ]
    },
    {
     "name": "stdout",
     "output_type": "stream",
     "text": [
      "\n",
      "      Epoch    GPU_mem   box_loss   cls_loss   dfl_loss  Instances       Size\n"
     ]
    },
    {
     "name": "stderr",
     "output_type": "stream",
     "text": [
      "     64/100      8.25G     0.3111     0.1751     0.7836        441        640: 100%|██████████| 75/75 [00:08<00:00,  8.52it/s]\n",
      "                 Class     Images  Instances      Box(P          R      mAP50  mAP50-95): 100%|██████████| 16/16 [00:02<00:00,  7.45it/s]"
     ]
    },
    {
     "name": "stdout",
     "output_type": "stream",
     "text": [
      "                   all        478      27325      0.985      0.984      0.991      0.712\n"
     ]
    },
    {
     "name": "stderr",
     "output_type": "stream",
     "text": [
      "\n"
     ]
    },
    {
     "name": "stdout",
     "output_type": "stream",
     "text": [
      "\n",
      "      Epoch    GPU_mem   box_loss   cls_loss   dfl_loss  Instances       Size\n"
     ]
    },
    {
     "name": "stderr",
     "output_type": "stream",
     "text": [
      "     65/100      8.19G      0.313     0.1759     0.7835        393        640: 100%|██████████| 75/75 [00:09<00:00,  8.23it/s]\n",
      "                 Class     Images  Instances      Box(P          R      mAP50  mAP50-95): 100%|██████████| 16/16 [00:02<00:00,  7.18it/s]"
     ]
    },
    {
     "name": "stdout",
     "output_type": "stream",
     "text": [
      "                   all        478      27325      0.985      0.986      0.991      0.711\n"
     ]
    },
    {
     "name": "stderr",
     "output_type": "stream",
     "text": [
      "\n"
     ]
    },
    {
     "name": "stdout",
     "output_type": "stream",
     "text": [
      "\n",
      "      Epoch    GPU_mem   box_loss   cls_loss   dfl_loss  Instances       Size\n"
     ]
    },
    {
     "name": "stderr",
     "output_type": "stream",
     "text": [
      "     66/100      8.24G     0.3121     0.1745     0.7834        362        640: 100%|██████████| 75/75 [00:08<00:00,  8.38it/s]\n",
      "                 Class     Images  Instances      Box(P          R      mAP50  mAP50-95): 100%|██████████| 16/16 [00:02<00:00,  7.24it/s]"
     ]
    },
    {
     "name": "stdout",
     "output_type": "stream",
     "text": [
      "                   all        478      27325      0.986      0.987      0.992      0.716\n"
     ]
    },
    {
     "name": "stderr",
     "output_type": "stream",
     "text": [
      "\n"
     ]
    },
    {
     "name": "stdout",
     "output_type": "stream",
     "text": [
      "\n",
      "      Epoch    GPU_mem   box_loss   cls_loss   dfl_loss  Instances       Size\n"
     ]
    },
    {
     "name": "stderr",
     "output_type": "stream",
     "text": [
      "     67/100      8.22G     0.3093     0.1737     0.7833        368        640: 100%|██████████| 75/75 [00:09<00:00,  8.28it/s]\n",
      "                 Class     Images  Instances      Box(P          R      mAP50  mAP50-95): 100%|██████████| 16/16 [00:02<00:00,  7.23it/s]"
     ]
    },
    {
     "name": "stdout",
     "output_type": "stream",
     "text": [
      "                   all        478      27325      0.985      0.986      0.992      0.715\n"
     ]
    },
    {
     "name": "stderr",
     "output_type": "stream",
     "text": [
      "\n"
     ]
    },
    {
     "name": "stdout",
     "output_type": "stream",
     "text": [
      "\n",
      "      Epoch    GPU_mem   box_loss   cls_loss   dfl_loss  Instances       Size\n"
     ]
    },
    {
     "name": "stderr",
     "output_type": "stream",
     "text": [
      "     68/100      8.23G     0.3073     0.1723      0.783        378        640: 100%|██████████| 75/75 [00:08<00:00,  8.36it/s]\n",
      "                 Class     Images  Instances      Box(P          R      mAP50  mAP50-95): 100%|██████████| 16/16 [00:02<00:00,  7.14it/s]"
     ]
    },
    {
     "name": "stdout",
     "output_type": "stream",
     "text": [
      "                   all        478      27325      0.984      0.987      0.991      0.713\n"
     ]
    },
    {
     "name": "stderr",
     "output_type": "stream",
     "text": [
      "\n"
     ]
    },
    {
     "name": "stdout",
     "output_type": "stream",
     "text": [
      "\n",
      "      Epoch    GPU_mem   box_loss   cls_loss   dfl_loss  Instances       Size\n"
     ]
    },
    {
     "name": "stderr",
     "output_type": "stream",
     "text": [
      "     69/100      8.19G     0.3059     0.1711      0.783        383        640: 100%|██████████| 75/75 [00:09<00:00,  8.30it/s]\n",
      "                 Class     Images  Instances      Box(P          R      mAP50  mAP50-95): 100%|██████████| 16/16 [00:02<00:00,  7.04it/s]"
     ]
    },
    {
     "name": "stdout",
     "output_type": "stream",
     "text": [
      "                   all        478      27325      0.985      0.986      0.991      0.714\n"
     ]
    },
    {
     "name": "stderr",
     "output_type": "stream",
     "text": [
      "\n"
     ]
    },
    {
     "name": "stdout",
     "output_type": "stream",
     "text": [
      "\n",
      "      Epoch    GPU_mem   box_loss   cls_loss   dfl_loss  Instances       Size\n"
     ]
    },
    {
     "name": "stderr",
     "output_type": "stream",
     "text": [
      "     70/100      8.24G     0.3013     0.1689     0.7827        401        640: 100%|██████████| 75/75 [00:09<00:00,  8.33it/s]\n",
      "                 Class     Images  Instances      Box(P          R      mAP50  mAP50-95): 100%|██████████| 16/16 [00:02<00:00,  6.93it/s]"
     ]
    },
    {
     "name": "stdout",
     "output_type": "stream",
     "text": [
      "                   all        478      27325      0.985      0.986      0.991      0.713\n"
     ]
    },
    {
     "name": "stderr",
     "output_type": "stream",
     "text": [
      "\n"
     ]
    },
    {
     "name": "stdout",
     "output_type": "stream",
     "text": [
      "\n",
      "      Epoch    GPU_mem   box_loss   cls_loss   dfl_loss  Instances       Size\n"
     ]
    },
    {
     "name": "stderr",
     "output_type": "stream",
     "text": [
      "     71/100      8.23G        0.3     0.1688     0.7827        376        640: 100%|██████████| 75/75 [00:08<00:00,  8.34it/s]\n",
      "                 Class     Images  Instances      Box(P          R      mAP50  mAP50-95): 100%|██████████| 16/16 [00:02<00:00,  7.28it/s]"
     ]
    },
    {
     "name": "stdout",
     "output_type": "stream",
     "text": [
      "                   all        478      27325      0.985      0.986      0.991      0.713\n"
     ]
    },
    {
     "name": "stderr",
     "output_type": "stream",
     "text": [
      "\n"
     ]
    },
    {
     "name": "stdout",
     "output_type": "stream",
     "text": [
      "\n",
      "      Epoch    GPU_mem   box_loss   cls_loss   dfl_loss  Instances       Size\n"
     ]
    },
    {
     "name": "stderr",
     "output_type": "stream",
     "text": [
      "     72/100      8.25G     0.3022     0.1703     0.7828        424        640: 100%|██████████| 75/75 [00:09<00:00,  8.29it/s]\n",
      "                 Class     Images  Instances      Box(P          R      mAP50  mAP50-95): 100%|██████████| 16/16 [00:02<00:00,  7.18it/s]"
     ]
    },
    {
     "name": "stdout",
     "output_type": "stream",
     "text": [
      "                   all        478      27325      0.985      0.987      0.991      0.713\n"
     ]
    },
    {
     "name": "stderr",
     "output_type": "stream",
     "text": [
      "\n"
     ]
    },
    {
     "name": "stdout",
     "output_type": "stream",
     "text": [
      "\n",
      "      Epoch    GPU_mem   box_loss   cls_loss   dfl_loss  Instances       Size\n"
     ]
    },
    {
     "name": "stderr",
     "output_type": "stream",
     "text": [
      "     73/100       8.2G     0.3031     0.1702     0.7829        359        640: 100%|██████████| 75/75 [00:08<00:00,  8.38it/s]\n",
      "                 Class     Images  Instances      Box(P          R      mAP50  mAP50-95): 100%|██████████| 16/16 [00:02<00:00,  7.25it/s]"
     ]
    },
    {
     "name": "stdout",
     "output_type": "stream",
     "text": [
      "                   all        478      27325      0.985      0.986      0.991      0.714\n"
     ]
    },
    {
     "name": "stderr",
     "output_type": "stream",
     "text": [
      "\n"
     ]
    },
    {
     "name": "stdout",
     "output_type": "stream",
     "text": [
      "\n",
      "      Epoch    GPU_mem   box_loss   cls_loss   dfl_loss  Instances       Size\n"
     ]
    },
    {
     "name": "stderr",
     "output_type": "stream",
     "text": [
      "     74/100      8.24G     0.3007     0.1694     0.7827        384        640: 100%|██████████| 75/75 [00:08<00:00,  8.42it/s]\n",
      "                 Class     Images  Instances      Box(P          R      mAP50  mAP50-95): 100%|██████████| 16/16 [00:02<00:00,  6.73it/s]"
     ]
    },
    {
     "name": "stdout",
     "output_type": "stream",
     "text": [
      "                   all        478      27325      0.985      0.986      0.991      0.712\n"
     ]
    },
    {
     "name": "stderr",
     "output_type": "stream",
     "text": [
      "\n"
     ]
    },
    {
     "name": "stdout",
     "output_type": "stream",
     "text": [
      "\n",
      "      Epoch    GPU_mem   box_loss   cls_loss   dfl_loss  Instances       Size\n"
     ]
    },
    {
     "name": "stderr",
     "output_type": "stream",
     "text": [
      "     75/100      8.23G     0.2987     0.1682     0.7823        381        640: 100%|██████████| 75/75 [00:08<00:00,  8.51it/s]\n",
      "                 Class     Images  Instances      Box(P          R      mAP50  mAP50-95): 100%|██████████| 16/16 [00:02<00:00,  7.10it/s]"
     ]
    },
    {
     "name": "stdout",
     "output_type": "stream",
     "text": [
      "                   all        478      27325      0.985      0.987      0.991      0.712\n"
     ]
    },
    {
     "name": "stderr",
     "output_type": "stream",
     "text": [
      "\n"
     ]
    },
    {
     "name": "stdout",
     "output_type": "stream",
     "text": [
      "\n",
      "      Epoch    GPU_mem   box_loss   cls_loss   dfl_loss  Instances       Size\n"
     ]
    },
    {
     "name": "stderr",
     "output_type": "stream",
     "text": [
      "     76/100      8.25G     0.2959     0.1662     0.7824        384        640: 100%|██████████| 75/75 [00:08<00:00,  8.34it/s]\n",
      "                 Class     Images  Instances      Box(P          R      mAP50  mAP50-95): 100%|██████████| 16/16 [00:02<00:00,  7.16it/s]"
     ]
    },
    {
     "name": "stdout",
     "output_type": "stream",
     "text": [
      "                   all        478      27325      0.986      0.987      0.991       0.71\n"
     ]
    },
    {
     "name": "stderr",
     "output_type": "stream",
     "text": [
      "\n"
     ]
    },
    {
     "name": "stdout",
     "output_type": "stream",
     "text": [
      "\n",
      "      Epoch    GPU_mem   box_loss   cls_loss   dfl_loss  Instances       Size\n"
     ]
    },
    {
     "name": "stderr",
     "output_type": "stream",
     "text": [
      "     77/100      8.19G      0.294     0.1656     0.7823        375        640: 100%|██████████| 75/75 [00:09<00:00,  8.28it/s]\n",
      "                 Class     Images  Instances      Box(P          R      mAP50  mAP50-95): 100%|██████████| 16/16 [00:02<00:00,  6.78it/s]"
     ]
    },
    {
     "name": "stdout",
     "output_type": "stream",
     "text": [
      "                   all        478      27325      0.985      0.986      0.991      0.713\n"
     ]
    },
    {
     "name": "stderr",
     "output_type": "stream",
     "text": [
      "\n"
     ]
    },
    {
     "name": "stdout",
     "output_type": "stream",
     "text": [
      "\n",
      "      Epoch    GPU_mem   box_loss   cls_loss   dfl_loss  Instances       Size\n"
     ]
    },
    {
     "name": "stderr",
     "output_type": "stream",
     "text": [
      "     78/100      8.24G     0.2925     0.1651      0.782        414        640: 100%|██████████| 75/75 [00:08<00:00,  8.44it/s]\n",
      "                 Class     Images  Instances      Box(P          R      mAP50  mAP50-95): 100%|██████████| 16/16 [00:02<00:00,  7.34it/s]"
     ]
    },
    {
     "name": "stdout",
     "output_type": "stream",
     "text": [
      "                   all        478      27325      0.986      0.986      0.991      0.712\n"
     ]
    },
    {
     "name": "stderr",
     "output_type": "stream",
     "text": [
      "\n"
     ]
    },
    {
     "name": "stdout",
     "output_type": "stream",
     "text": [
      "\n",
      "      Epoch    GPU_mem   box_loss   cls_loss   dfl_loss  Instances       Size\n"
     ]
    },
    {
     "name": "stderr",
     "output_type": "stream",
     "text": [
      "     79/100      8.23G     0.2905     0.1645     0.7819        375        640: 100%|██████████| 75/75 [00:08<00:00,  8.34it/s]\n",
      "                 Class     Images  Instances      Box(P          R      mAP50  mAP50-95): 100%|██████████| 16/16 [00:02<00:00,  6.98it/s]"
     ]
    },
    {
     "name": "stdout",
     "output_type": "stream",
     "text": [
      "                   all        478      27325      0.986      0.987      0.991      0.712\n"
     ]
    },
    {
     "name": "stderr",
     "output_type": "stream",
     "text": [
      "\n"
     ]
    },
    {
     "name": "stdout",
     "output_type": "stream",
     "text": [
      "\n",
      "      Epoch    GPU_mem   box_loss   cls_loss   dfl_loss  Instances       Size\n"
     ]
    },
    {
     "name": "stderr",
     "output_type": "stream",
     "text": [
      "     80/100      8.25G     0.2908      0.165      0.782        396        640: 100%|██████████| 75/75 [00:08<00:00,  8.39it/s]\n",
      "                 Class     Images  Instances      Box(P          R      mAP50  mAP50-95): 100%|██████████| 16/16 [00:02<00:00,  7.30it/s]"
     ]
    },
    {
     "name": "stdout",
     "output_type": "stream",
     "text": [
      "                   all        478      27325      0.986      0.986      0.991      0.711\n"
     ]
    },
    {
     "name": "stderr",
     "output_type": "stream",
     "text": [
      "\n"
     ]
    },
    {
     "name": "stdout",
     "output_type": "stream",
     "text": [
      "\n",
      "      Epoch    GPU_mem   box_loss   cls_loss   dfl_loss  Instances       Size\n"
     ]
    },
    {
     "name": "stderr",
     "output_type": "stream",
     "text": [
      "     81/100      8.18G     0.2882     0.1642     0.7818        393        640: 100%|██████████| 75/75 [00:08<00:00,  8.50it/s]\n",
      "                 Class     Images  Instances      Box(P          R      mAP50  mAP50-95): 100%|██████████| 16/16 [00:02<00:00,  7.34it/s]"
     ]
    },
    {
     "name": "stdout",
     "output_type": "stream",
     "text": [
      "                   all        478      27325      0.985      0.986      0.991      0.711\n"
     ]
    },
    {
     "name": "stderr",
     "output_type": "stream",
     "text": [
      "\n"
     ]
    },
    {
     "name": "stdout",
     "output_type": "stream",
     "text": [
      "\n",
      "      Epoch    GPU_mem   box_loss   cls_loss   dfl_loss  Instances       Size\n"
     ]
    },
    {
     "name": "stderr",
     "output_type": "stream",
     "text": [
      "     82/100      8.24G     0.2865     0.1636     0.7816        372        640: 100%|██████████| 75/75 [00:09<00:00,  8.29it/s]\n",
      "                 Class     Images  Instances      Box(P          R      mAP50  mAP50-95): 100%|██████████| 16/16 [00:02<00:00,  7.38it/s]"
     ]
    },
    {
     "name": "stdout",
     "output_type": "stream",
     "text": [
      "                   all        478      27325      0.985      0.986      0.991      0.712\n"
     ]
    },
    {
     "name": "stderr",
     "output_type": "stream",
     "text": [
      "\n"
     ]
    },
    {
     "name": "stdout",
     "output_type": "stream",
     "text": [
      "\n",
      "      Epoch    GPU_mem   box_loss   cls_loss   dfl_loss  Instances       Size\n"
     ]
    },
    {
     "name": "stderr",
     "output_type": "stream",
     "text": [
      "     83/100      8.22G     0.2888     0.1645     0.7819        415        640: 100%|██████████| 75/75 [00:08<00:00,  8.50it/s]\n",
      "                 Class     Images  Instances      Box(P          R      mAP50  mAP50-95): 100%|██████████| 16/16 [00:02<00:00,  7.24it/s]"
     ]
    },
    {
     "name": "stdout",
     "output_type": "stream",
     "text": [
      "                   all        478      27325      0.986      0.986      0.991       0.71\n"
     ]
    },
    {
     "name": "stderr",
     "output_type": "stream",
     "text": [
      "\n"
     ]
    },
    {
     "name": "stdout",
     "output_type": "stream",
     "text": [
      "\n",
      "      Epoch    GPU_mem   box_loss   cls_loss   dfl_loss  Instances       Size\n"
     ]
    },
    {
     "name": "stderr",
     "output_type": "stream",
     "text": [
      "     84/100      8.25G     0.2872     0.1636     0.7816        401        640: 100%|██████████| 75/75 [00:09<00:00,  8.26it/s]\n",
      "                 Class     Images  Instances      Box(P          R      mAP50  mAP50-95): 100%|██████████| 16/16 [00:02<00:00,  7.31it/s]"
     ]
    },
    {
     "name": "stdout",
     "output_type": "stream",
     "text": [
      "                   all        478      27325      0.985      0.986      0.991      0.711\n"
     ]
    },
    {
     "name": "stderr",
     "output_type": "stream",
     "text": [
      "\n"
     ]
    },
    {
     "name": "stdout",
     "output_type": "stream",
     "text": [
      "\n",
      "      Epoch    GPU_mem   box_loss   cls_loss   dfl_loss  Instances       Size\n"
     ]
    },
    {
     "name": "stderr",
     "output_type": "stream",
     "text": [
      "     85/100      8.19G     0.2874     0.1637     0.7818        411        640: 100%|██████████| 75/75 [00:08<00:00,  8.46it/s]\n",
      "                 Class     Images  Instances      Box(P          R      mAP50  mAP50-95): 100%|██████████| 16/16 [00:02<00:00,  7.00it/s]"
     ]
    },
    {
     "name": "stdout",
     "output_type": "stream",
     "text": [
      "                   all        478      27325      0.986      0.987      0.991      0.709\n"
     ]
    },
    {
     "name": "stderr",
     "output_type": "stream",
     "text": [
      "\n"
     ]
    },
    {
     "name": "stdout",
     "output_type": "stream",
     "text": [
      "\n",
      "      Epoch    GPU_mem   box_loss   cls_loss   dfl_loss  Instances       Size\n"
     ]
    },
    {
     "name": "stderr",
     "output_type": "stream",
     "text": [
      "     86/100      8.24G     0.2872     0.1635     0.7817        350        640: 100%|██████████| 75/75 [00:08<00:00,  8.40it/s]\n",
      "                 Class     Images  Instances      Box(P          R      mAP50  mAP50-95): 100%|██████████| 16/16 [00:02<00:00,  7.08it/s]"
     ]
    },
    {
     "name": "stdout",
     "output_type": "stream",
     "text": [
      "                   all        478      27325      0.986      0.986      0.991      0.711\n"
     ]
    },
    {
     "name": "stderr",
     "output_type": "stream",
     "text": [
      "\n"
     ]
    },
    {
     "name": "stdout",
     "output_type": "stream",
     "text": [
      "\n",
      "      Epoch    GPU_mem   box_loss   cls_loss   dfl_loss  Instances       Size\n"
     ]
    },
    {
     "name": "stderr",
     "output_type": "stream",
     "text": [
      "     87/100      8.21G     0.2865     0.1629     0.7816        425        640: 100%|██████████| 75/75 [00:08<00:00,  8.39it/s]\n",
      "                 Class     Images  Instances      Box(P          R      mAP50  mAP50-95): 100%|██████████| 16/16 [00:02<00:00,  6.99it/s]"
     ]
    },
    {
     "name": "stdout",
     "output_type": "stream",
     "text": [
      "                   all        478      27325      0.985      0.986      0.991       0.71\n"
     ]
    },
    {
     "name": "stderr",
     "output_type": "stream",
     "text": [
      "\n"
     ]
    },
    {
     "name": "stdout",
     "output_type": "stream",
     "text": [
      "\n",
      "      Epoch    GPU_mem   box_loss   cls_loss   dfl_loss  Instances       Size\n"
     ]
    },
    {
     "name": "stderr",
     "output_type": "stream",
     "text": [
      "     88/100      8.25G     0.2839     0.1624     0.7815        365        640: 100%|██████████| 75/75 [00:08<00:00,  8.42it/s]\n",
      "                 Class     Images  Instances      Box(P          R      mAP50  mAP50-95): 100%|██████████| 16/16 [00:02<00:00,  7.35it/s]"
     ]
    },
    {
     "name": "stdout",
     "output_type": "stream",
     "text": [
      "                   all        478      27325      0.985      0.986      0.991       0.71\n"
     ]
    },
    {
     "name": "stderr",
     "output_type": "stream",
     "text": [
      "\n"
     ]
    },
    {
     "name": "stdout",
     "output_type": "stream",
     "text": [
      "\n",
      "      Epoch    GPU_mem   box_loss   cls_loss   dfl_loss  Instances       Size\n"
     ]
    },
    {
     "name": "stderr",
     "output_type": "stream",
     "text": [
      "     89/100       8.2G     0.2818     0.1617     0.7812        393        640: 100%|██████████| 75/75 [00:09<00:00,  8.33it/s]\n",
      "                 Class     Images  Instances      Box(P          R      mAP50  mAP50-95): 100%|██████████| 16/16 [00:02<00:00,  7.03it/s]"
     ]
    },
    {
     "name": "stdout",
     "output_type": "stream",
     "text": [
      "                   all        478      27325      0.985      0.986      0.991      0.709\n"
     ]
    },
    {
     "name": "stderr",
     "output_type": "stream",
     "text": [
      "\n"
     ]
    },
    {
     "name": "stdout",
     "output_type": "stream",
     "text": [
      "\n",
      "      Epoch    GPU_mem   box_loss   cls_loss   dfl_loss  Instances       Size\n"
     ]
    },
    {
     "name": "stderr",
     "output_type": "stream",
     "text": [
      "     90/100      8.25G     0.2818     0.1616     0.7813        385        640: 100%|██████████| 75/75 [00:08<00:00,  8.35it/s]\n",
      "                 Class     Images  Instances      Box(P          R      mAP50  mAP50-95): 100%|██████████| 16/16 [00:02<00:00,  7.21it/s]"
     ]
    },
    {
     "name": "stdout",
     "output_type": "stream",
     "text": [
      "                   all        478      27325      0.986      0.986      0.991      0.711\n"
     ]
    },
    {
     "name": "stderr",
     "output_type": "stream",
     "text": [
      "\n"
     ]
    },
    {
     "name": "stdout",
     "output_type": "stream",
     "text": [
      "\n",
      "      Epoch    GPU_mem   box_loss   cls_loss   dfl_loss  Instances       Size\n"
     ]
    },
    {
     "name": "stderr",
     "output_type": "stream",
     "text": [
      "     91/100      8.22G     0.2811     0.1613     0.7812        422        640: 100%|██████████| 75/75 [00:08<00:00,  8.48it/s]\n",
      "                 Class     Images  Instances      Box(P          R      mAP50  mAP50-95): 100%|██████████| 16/16 [00:02<00:00,  6.98it/s]"
     ]
    },
    {
     "name": "stdout",
     "output_type": "stream",
     "text": [
      "                   all        478      27325      0.986      0.986      0.991      0.711\n"
     ]
    },
    {
     "name": "stderr",
     "output_type": "stream",
     "text": [
      "\n"
     ]
    },
    {
     "name": "stdout",
     "output_type": "stream",
     "text": [
      "\n",
      "      Epoch    GPU_mem   box_loss   cls_loss   dfl_loss  Instances       Size\n"
     ]
    },
    {
     "name": "stderr",
     "output_type": "stream",
     "text": [
      "     92/100      8.25G     0.2813     0.1608     0.7812        417        640: 100%|██████████| 75/75 [00:08<00:00,  8.37it/s]\n",
      "                 Class     Images  Instances      Box(P          R      mAP50  mAP50-95): 100%|██████████| 16/16 [00:02<00:00,  7.31it/s]"
     ]
    },
    {
     "name": "stdout",
     "output_type": "stream",
     "text": [
      "                   all        478      27325      0.985      0.986      0.991      0.709\n"
     ]
    },
    {
     "name": "stderr",
     "output_type": "stream",
     "text": [
      "\n"
     ]
    },
    {
     "name": "stdout",
     "output_type": "stream",
     "text": [
      "\n",
      "      Epoch    GPU_mem   box_loss   cls_loss   dfl_loss  Instances       Size\n"
     ]
    },
    {
     "name": "stderr",
     "output_type": "stream",
     "text": [
      "     93/100       8.2G     0.2801     0.1608      0.781        421        640: 100%|██████████| 75/75 [00:09<00:00,  8.28it/s]\n",
      "                 Class     Images  Instances      Box(P          R      mAP50  mAP50-95): 100%|██████████| 16/16 [00:02<00:00,  7.18it/s]"
     ]
    },
    {
     "name": "stdout",
     "output_type": "stream",
     "text": [
      "                   all        478      27325      0.985      0.986      0.991       0.71\n"
     ]
    },
    {
     "name": "stderr",
     "output_type": "stream",
     "text": [
      "\n"
     ]
    },
    {
     "name": "stdout",
     "output_type": "stream",
     "text": [
      "\n",
      "      Epoch    GPU_mem   box_loss   cls_loss   dfl_loss  Instances       Size\n"
     ]
    },
    {
     "name": "stderr",
     "output_type": "stream",
     "text": [
      "     94/100      8.24G     0.2782     0.1606      0.781        397        640: 100%|██████████| 75/75 [00:08<00:00,  8.41it/s]\n",
      "                 Class     Images  Instances      Box(P          R      mAP50  mAP50-95): 100%|██████████| 16/16 [00:02<00:00,  7.29it/s]"
     ]
    },
    {
     "name": "stdout",
     "output_type": "stream",
     "text": [
      "                   all        478      27325      0.985      0.987      0.991       0.71\n"
     ]
    },
    {
     "name": "stderr",
     "output_type": "stream",
     "text": [
      "\n"
     ]
    },
    {
     "name": "stdout",
     "output_type": "stream",
     "text": [
      "\n",
      "      Epoch    GPU_mem   box_loss   cls_loss   dfl_loss  Instances       Size\n"
     ]
    },
    {
     "name": "stderr",
     "output_type": "stream",
     "text": [
      "     95/100      8.23G     0.2788     0.1613     0.7811        352        640: 100%|██████████| 75/75 [00:08<00:00,  8.41it/s]\n",
      "                 Class     Images  Instances      Box(P          R      mAP50  mAP50-95): 100%|██████████| 16/16 [00:02<00:00,  7.26it/s]"
     ]
    },
    {
     "name": "stdout",
     "output_type": "stream",
     "text": [
      "                   all        478      27325      0.986      0.985      0.991      0.709\n"
     ]
    },
    {
     "name": "stderr",
     "output_type": "stream",
     "text": [
      "\n"
     ]
    },
    {
     "name": "stdout",
     "output_type": "stream",
     "text": [
      "\n",
      "      Epoch    GPU_mem   box_loss   cls_loss   dfl_loss  Instances       Size\n"
     ]
    },
    {
     "name": "stderr",
     "output_type": "stream",
     "text": [
      "     96/100      8.24G     0.2771      0.161     0.7809        385        640: 100%|██████████| 75/75 [00:09<00:00,  8.25it/s]\n",
      "                 Class     Images  Instances      Box(P          R      mAP50  mAP50-95): 100%|██████████| 16/16 [00:02<00:00,  6.98it/s]"
     ]
    },
    {
     "name": "stdout",
     "output_type": "stream",
     "text": [
      "                   all        478      27325      0.986      0.986      0.991      0.709\n"
     ]
    },
    {
     "name": "stderr",
     "output_type": "stream",
     "text": [
      "\n"
     ]
    },
    {
     "name": "stdout",
     "output_type": "stream",
     "text": [
      "\n",
      "      Epoch    GPU_mem   box_loss   cls_loss   dfl_loss  Instances       Size\n"
     ]
    },
    {
     "name": "stderr",
     "output_type": "stream",
     "text": [
      "     97/100      8.19G     0.2771     0.1609     0.7808        370        640: 100%|██████████| 75/75 [00:08<00:00,  8.34it/s]\n",
      "                 Class     Images  Instances      Box(P          R      mAP50  mAP50-95): 100%|██████████| 16/16 [00:02<00:00,  7.34it/s]"
     ]
    },
    {
     "name": "stdout",
     "output_type": "stream",
     "text": [
      "                   all        478      27325      0.986      0.985      0.991       0.71\n"
     ]
    },
    {
     "name": "stderr",
     "output_type": "stream",
     "text": [
      "\n"
     ]
    },
    {
     "name": "stdout",
     "output_type": "stream",
     "text": [
      "\n",
      "      Epoch    GPU_mem   box_loss   cls_loss   dfl_loss  Instances       Size\n"
     ]
    },
    {
     "name": "stderr",
     "output_type": "stream",
     "text": [
      "     98/100      8.23G     0.2772     0.1609      0.781        363        640: 100%|██████████| 75/75 [00:09<00:00,  8.28it/s]\n",
      "                 Class     Images  Instances      Box(P          R      mAP50  mAP50-95): 100%|██████████| 16/16 [00:02<00:00,  7.10it/s]"
     ]
    },
    {
     "name": "stdout",
     "output_type": "stream",
     "text": [
      "                   all        478      27325      0.985      0.986      0.991      0.709\n"
     ]
    },
    {
     "name": "stderr",
     "output_type": "stream",
     "text": [
      "\n"
     ]
    },
    {
     "name": "stdout",
     "output_type": "stream",
     "text": [
      "\n",
      "      Epoch    GPU_mem   box_loss   cls_loss   dfl_loss  Instances       Size\n"
     ]
    },
    {
     "name": "stderr",
     "output_type": "stream",
     "text": [
      "     99/100      8.21G     0.2758     0.1608     0.7808        385        640: 100%|██████████| 75/75 [00:09<00:00,  8.33it/s]\n",
      "                 Class     Images  Instances      Box(P          R      mAP50  mAP50-95): 100%|██████████| 16/16 [00:02<00:00,  7.16it/s]"
     ]
    },
    {
     "name": "stdout",
     "output_type": "stream",
     "text": [
      "                   all        478      27325      0.985      0.986      0.991      0.709\n"
     ]
    },
    {
     "name": "stderr",
     "output_type": "stream",
     "text": [
      "\n"
     ]
    },
    {
     "name": "stdout",
     "output_type": "stream",
     "text": [
      "\n",
      "      Epoch    GPU_mem   box_loss   cls_loss   dfl_loss  Instances       Size\n"
     ]
    },
    {
     "name": "stderr",
     "output_type": "stream",
     "text": [
      "    100/100      8.25G     0.2757     0.1608     0.7808        416        640: 100%|██████████| 75/75 [00:08<00:00,  8.39it/s]\n",
      "                 Class     Images  Instances      Box(P          R      mAP50  mAP50-95): 100%|██████████| 16/16 [00:02<00:00,  6.45it/s]"
     ]
    },
    {
     "name": "stdout",
     "output_type": "stream",
     "text": [
      "                   all        478      27325      0.985      0.986      0.991      0.709\n"
     ]
    },
    {
     "name": "stderr",
     "output_type": "stream",
     "text": [
      "\n"
     ]
    },
    {
     "name": "stdout",
     "output_type": "stream",
     "text": [
      "\n",
      "100 epochs completed in 0.342 hours.\n",
      "Optimizer stripped from ../finetuned/yolo/Zani_V1/weights/last.pt, 40.5MB\n",
      "Optimizer stripped from ../finetuned/yolo/Zani_V1/weights/best.pt, 40.5MB\n",
      "\n",
      "Validating ../finetuned/yolo/Zani_V1/weights/best.pt...\n",
      "Ultralytics 8.3.68 🚀 Python-3.11.2 torch-2.5.1+cu124 CUDA:0 (NVIDIA GeForce RTX 4090, 24111MiB)\n",
      "YOLO11m summary (fused): 303 layers, 20,031,574 parameters, 0 gradients, 67.7 GFLOPs\n"
     ]
    },
    {
     "name": "stderr",
     "output_type": "stream",
     "text": [
      "                 Class     Images  Instances      Box(P          R      mAP50  mAP50-95): 100%|██████████| 16/16 [00:11<00:00,  1.38it/s]\n"
     ]
    },
    {
     "name": "stdout",
     "output_type": "stream",
     "text": [
      "                   all        478      27325      0.983      0.987      0.992      0.721\n",
      "                  word        478      27325      0.983      0.987      0.992      0.721\n",
      "Speed: 0.3ms preprocess, 1.4ms inference, 0.0ms loss, 0.9ms postprocess per image\n",
      "Results saved to \u001b[1m../finetuned/yolo/Zani_V1\u001b[0m\n"
     ]
    }
   ],
   "source": [
    "# Train the model\n",
    "results = model.train(\n",
    "    data=TRAIN_DATA,\n",
    "    epochs=EPOCHS,\n",
    "    batch= BATCH_SIZE,\n",
    "    imgsz=640,\n",
    "    save_period=SAVE_EVERY_N_EPOCH,\n",
    "    project=SAVE_DIR,\n",
    "    name=RUN_NAME,\n",
    "    exist_ok=OVERWRITE,\n",
    "    optimizer=OPTIM,\n",
    "    lr0=MODEL_LR,\n",
    "    weight_decay=WEIGHT_DECAY,\n",
    "    plots=PLOTS,\n",
    "    device=0,\n",
    "    close_mosaic=0,\n",
    "    hsv_h=0.0,\n",
    "    hsv_s=0.0,\n",
    "    hsv_v=0.0,\n",
    "    translate=0.0,\n",
    "    scale=0.0,\n",
    "    fliplr=0.0,\n",
    "    mosaic=0.0,\n",
    "    erasing=0.0,\n",
    "    crop_fraction=0.0\n",
    ")"
   ]
  },
  {
   "cell_type": "code",
   "execution_count": 5,
   "metadata": {},
   "outputs": [
    {
     "name": "stdout",
     "output_type": "stream",
     "text": [
      "Ultralytics 8.3.68 🚀 Python-3.11.2 torch-2.5.1+cu124 CUDA:0 (NVIDIA GeForce RTX 4090, 24111MiB)\n",
      "YOLO11m summary (fused): 303 layers, 20,031,574 parameters, 0 gradients, 67.7 GFLOPs\n"
     ]
    },
    {
     "name": "stderr",
     "output_type": "stream",
     "text": [
      "\u001b[34m\u001b[1mval: \u001b[0mScanning /home/ralvarez22/Documentos/trocr_hand/hand-cursive-I/hand-cursive-detr-yolo/labels/val.cache... 479 images, 0 backgrounds, 1 corrupt: 100%|██████████| 479/479 [00:00<?, ?it/s]"
     ]
    },
    {
     "name": "stdout",
     "output_type": "stream",
     "text": [
      "\u001b[34m\u001b[1mval: \u001b[0mWARNING ⚠️ /home/ralvarez22/Documentos/trocr_hand/hand-cursive-I/hand-cursive-detr-yolo/images/val/2192f87db738.jpeg: ignoring corrupt image/label: non-normalized or out of bounds coordinates [     1.0707      1.0707]\n"
     ]
    },
    {
     "name": "stderr",
     "output_type": "stream",
     "text": [
      "\n",
      "                 Class     Images  Instances      Box(P          R      mAP50  mAP50-95): 100%|██████████| 32/32 [00:12<00:00,  2.51it/s]\n"
     ]
    },
    {
     "name": "stdout",
     "output_type": "stream",
     "text": [
      "                   all        478      27325      0.983      0.986      0.991      0.723\n",
      "                  word        478      27325      0.983      0.986      0.991      0.723\n",
      "Speed: 0.2ms preprocess, 2.7ms inference, 0.0ms loss, 0.7ms postprocess per image\n",
      "Results saved to \u001b[1m../finetuned/yolo/Zani_V1\u001b[0m\n"
     ]
    },
    {
     "data": {
      "text/plain": [
       "ultralytics.utils.metrics.DetMetrics object with attributes:\n",
       "\n",
       "ap_class_index: array([1])\n",
       "box: ultralytics.utils.metrics.Metric object\n",
       "confusion_matrix: <ultralytics.utils.metrics.ConfusionMatrix object at 0x7f5671ce9190>\n",
       "curves: ['Precision-Recall(B)', 'F1-Confidence(B)', 'Precision-Confidence(B)', 'Recall-Confidence(B)']\n",
       "curves_results: [[array([          0,    0.001001,    0.002002,    0.003003,    0.004004,    0.005005,    0.006006,    0.007007,    0.008008,    0.009009,     0.01001,    0.011011,    0.012012,    0.013013,    0.014014,    0.015015,    0.016016,    0.017017,    0.018018,    0.019019,     0.02002,    0.021021,    0.022022,    0.023023,\n",
       "          0.024024,    0.025025,    0.026026,    0.027027,    0.028028,    0.029029,     0.03003,    0.031031,    0.032032,    0.033033,    0.034034,    0.035035,    0.036036,    0.037037,    0.038038,    0.039039,     0.04004,    0.041041,    0.042042,    0.043043,    0.044044,    0.045045,    0.046046,    0.047047,\n",
       "          0.048048,    0.049049,     0.05005,    0.051051,    0.052052,    0.053053,    0.054054,    0.055055,    0.056056,    0.057057,    0.058058,    0.059059,     0.06006,    0.061061,    0.062062,    0.063063,    0.064064,    0.065065,    0.066066,    0.067067,    0.068068,    0.069069,     0.07007,    0.071071,\n",
       "          0.072072,    0.073073,    0.074074,    0.075075,    0.076076,    0.077077,    0.078078,    0.079079,     0.08008,    0.081081,    0.082082,    0.083083,    0.084084,    0.085085,    0.086086,    0.087087,    0.088088,    0.089089,     0.09009,    0.091091,    0.092092,    0.093093,    0.094094,    0.095095,\n",
       "          0.096096,    0.097097,    0.098098,    0.099099,      0.1001,      0.1011,      0.1021,      0.1031,      0.1041,     0.10511,     0.10611,     0.10711,     0.10811,     0.10911,     0.11011,     0.11111,     0.11211,     0.11311,     0.11411,     0.11512,     0.11612,     0.11712,     0.11812,     0.11912,\n",
       "           0.12012,     0.12112,     0.12212,     0.12312,     0.12412,     0.12513,     0.12613,     0.12713,     0.12813,     0.12913,     0.13013,     0.13113,     0.13213,     0.13313,     0.13413,     0.13514,     0.13614,     0.13714,     0.13814,     0.13914,     0.14014,     0.14114,     0.14214,     0.14314,\n",
       "           0.14414,     0.14515,     0.14615,     0.14715,     0.14815,     0.14915,     0.15015,     0.15115,     0.15215,     0.15315,     0.15415,     0.15516,     0.15616,     0.15716,     0.15816,     0.15916,     0.16016,     0.16116,     0.16216,     0.16316,     0.16416,     0.16517,     0.16617,     0.16717,\n",
       "           0.16817,     0.16917,     0.17017,     0.17117,     0.17217,     0.17317,     0.17417,     0.17518,     0.17618,     0.17718,     0.17818,     0.17918,     0.18018,     0.18118,     0.18218,     0.18318,     0.18418,     0.18519,     0.18619,     0.18719,     0.18819,     0.18919,     0.19019,     0.19119,\n",
       "           0.19219,     0.19319,     0.19419,      0.1952,      0.1962,      0.1972,      0.1982,      0.1992,      0.2002,      0.2012,      0.2022,      0.2032,      0.2042,     0.20521,     0.20621,     0.20721,     0.20821,     0.20921,     0.21021,     0.21121,     0.21221,     0.21321,     0.21421,     0.21522,\n",
       "           0.21622,     0.21722,     0.21822,     0.21922,     0.22022,     0.22122,     0.22222,     0.22322,     0.22422,     0.22523,     0.22623,     0.22723,     0.22823,     0.22923,     0.23023,     0.23123,     0.23223,     0.23323,     0.23423,     0.23524,     0.23624,     0.23724,     0.23824,     0.23924,\n",
       "           0.24024,     0.24124,     0.24224,     0.24324,     0.24424,     0.24525,     0.24625,     0.24725,     0.24825,     0.24925,     0.25025,     0.25125,     0.25225,     0.25325,     0.25425,     0.25526,     0.25626,     0.25726,     0.25826,     0.25926,     0.26026,     0.26126,     0.26226,     0.26326,\n",
       "           0.26426,     0.26527,     0.26627,     0.26727,     0.26827,     0.26927,     0.27027,     0.27127,     0.27227,     0.27327,     0.27427,     0.27528,     0.27628,     0.27728,     0.27828,     0.27928,     0.28028,     0.28128,     0.28228,     0.28328,     0.28428,     0.28529,     0.28629,     0.28729,\n",
       "           0.28829,     0.28929,     0.29029,     0.29129,     0.29229,     0.29329,     0.29429,      0.2953,      0.2963,      0.2973,      0.2983,      0.2993,      0.3003,      0.3013,      0.3023,      0.3033,      0.3043,     0.30531,     0.30631,     0.30731,     0.30831,     0.30931,     0.31031,     0.31131,\n",
       "           0.31231,     0.31331,     0.31431,     0.31532,     0.31632,     0.31732,     0.31832,     0.31932,     0.32032,     0.32132,     0.32232,     0.32332,     0.32432,     0.32533,     0.32633,     0.32733,     0.32833,     0.32933,     0.33033,     0.33133,     0.33233,     0.33333,     0.33433,     0.33534,\n",
       "           0.33634,     0.33734,     0.33834,     0.33934,     0.34034,     0.34134,     0.34234,     0.34334,     0.34434,     0.34535,     0.34635,     0.34735,     0.34835,     0.34935,     0.35035,     0.35135,     0.35235,     0.35335,     0.35435,     0.35536,     0.35636,     0.35736,     0.35836,     0.35936,\n",
       "           0.36036,     0.36136,     0.36236,     0.36336,     0.36436,     0.36537,     0.36637,     0.36737,     0.36837,     0.36937,     0.37037,     0.37137,     0.37237,     0.37337,     0.37437,     0.37538,     0.37638,     0.37738,     0.37838,     0.37938,     0.38038,     0.38138,     0.38238,     0.38338,\n",
       "           0.38438,     0.38539,     0.38639,     0.38739,     0.38839,     0.38939,     0.39039,     0.39139,     0.39239,     0.39339,     0.39439,      0.3954,      0.3964,      0.3974,      0.3984,      0.3994,      0.4004,      0.4014,      0.4024,      0.4034,      0.4044,     0.40541,     0.40641,     0.40741,\n",
       "           0.40841,     0.40941,     0.41041,     0.41141,     0.41241,     0.41341,     0.41441,     0.41542,     0.41642,     0.41742,     0.41842,     0.41942,     0.42042,     0.42142,     0.42242,     0.42342,     0.42442,     0.42543,     0.42643,     0.42743,     0.42843,     0.42943,     0.43043,     0.43143,\n",
       "           0.43243,     0.43343,     0.43443,     0.43544,     0.43644,     0.43744,     0.43844,     0.43944,     0.44044,     0.44144,     0.44244,     0.44344,     0.44444,     0.44545,     0.44645,     0.44745,     0.44845,     0.44945,     0.45045,     0.45145,     0.45245,     0.45345,     0.45445,     0.45546,\n",
       "           0.45646,     0.45746,     0.45846,     0.45946,     0.46046,     0.46146,     0.46246,     0.46346,     0.46446,     0.46547,     0.46647,     0.46747,     0.46847,     0.46947,     0.47047,     0.47147,     0.47247,     0.47347,     0.47447,     0.47548,     0.47648,     0.47748,     0.47848,     0.47948,\n",
       "           0.48048,     0.48148,     0.48248,     0.48348,     0.48448,     0.48549,     0.48649,     0.48749,     0.48849,     0.48949,     0.49049,     0.49149,     0.49249,     0.49349,     0.49449,      0.4955,      0.4965,      0.4975,      0.4985,      0.4995,      0.5005,      0.5015,      0.5025,      0.5035,\n",
       "            0.5045,     0.50551,     0.50651,     0.50751,     0.50851,     0.50951,     0.51051,     0.51151,     0.51251,     0.51351,     0.51451,     0.51552,     0.51652,     0.51752,     0.51852,     0.51952,     0.52052,     0.52152,     0.52252,     0.52352,     0.52452,     0.52553,     0.52653,     0.52753,\n",
       "           0.52853,     0.52953,     0.53053,     0.53153,     0.53253,     0.53353,     0.53453,     0.53554,     0.53654,     0.53754,     0.53854,     0.53954,     0.54054,     0.54154,     0.54254,     0.54354,     0.54454,     0.54555,     0.54655,     0.54755,     0.54855,     0.54955,     0.55055,     0.55155,\n",
       "           0.55255,     0.55355,     0.55455,     0.55556,     0.55656,     0.55756,     0.55856,     0.55956,     0.56056,     0.56156,     0.56256,     0.56356,     0.56456,     0.56557,     0.56657,     0.56757,     0.56857,     0.56957,     0.57057,     0.57157,     0.57257,     0.57357,     0.57457,     0.57558,\n",
       "           0.57658,     0.57758,     0.57858,     0.57958,     0.58058,     0.58158,     0.58258,     0.58358,     0.58458,     0.58559,     0.58659,     0.58759,     0.58859,     0.58959,     0.59059,     0.59159,     0.59259,     0.59359,     0.59459,      0.5956,      0.5966,      0.5976,      0.5986,      0.5996,\n",
       "            0.6006,      0.6016,      0.6026,      0.6036,      0.6046,     0.60561,     0.60661,     0.60761,     0.60861,     0.60961,     0.61061,     0.61161,     0.61261,     0.61361,     0.61461,     0.61562,     0.61662,     0.61762,     0.61862,     0.61962,     0.62062,     0.62162,     0.62262,     0.62362,\n",
       "           0.62462,     0.62563,     0.62663,     0.62763,     0.62863,     0.62963,     0.63063,     0.63163,     0.63263,     0.63363,     0.63463,     0.63564,     0.63664,     0.63764,     0.63864,     0.63964,     0.64064,     0.64164,     0.64264,     0.64364,     0.64464,     0.64565,     0.64665,     0.64765,\n",
       "           0.64865,     0.64965,     0.65065,     0.65165,     0.65265,     0.65365,     0.65465,     0.65566,     0.65666,     0.65766,     0.65866,     0.65966,     0.66066,     0.66166,     0.66266,     0.66366,     0.66466,     0.66567,     0.66667,     0.66767,     0.66867,     0.66967,     0.67067,     0.67167,\n",
       "           0.67267,     0.67367,     0.67467,     0.67568,     0.67668,     0.67768,     0.67868,     0.67968,     0.68068,     0.68168,     0.68268,     0.68368,     0.68468,     0.68569,     0.68669,     0.68769,     0.68869,     0.68969,     0.69069,     0.69169,     0.69269,     0.69369,     0.69469,      0.6957,\n",
       "            0.6967,      0.6977,      0.6987,      0.6997,      0.7007,      0.7017,      0.7027,      0.7037,      0.7047,     0.70571,     0.70671,     0.70771,     0.70871,     0.70971,     0.71071,     0.71171,     0.71271,     0.71371,     0.71471,     0.71572,     0.71672,     0.71772,     0.71872,     0.71972,\n",
       "           0.72072,     0.72172,     0.72272,     0.72372,     0.72472,     0.72573,     0.72673,     0.72773,     0.72873,     0.72973,     0.73073,     0.73173,     0.73273,     0.73373,     0.73473,     0.73574,     0.73674,     0.73774,     0.73874,     0.73974,     0.74074,     0.74174,     0.74274,     0.74374,\n",
       "           0.74474,     0.74575,     0.74675,     0.74775,     0.74875,     0.74975,     0.75075,     0.75175,     0.75275,     0.75375,     0.75475,     0.75576,     0.75676,     0.75776,     0.75876,     0.75976,     0.76076,     0.76176,     0.76276,     0.76376,     0.76476,     0.76577,     0.76677,     0.76777,\n",
       "           0.76877,     0.76977,     0.77077,     0.77177,     0.77277,     0.77377,     0.77477,     0.77578,     0.77678,     0.77778,     0.77878,     0.77978,     0.78078,     0.78178,     0.78278,     0.78378,     0.78478,     0.78579,     0.78679,     0.78779,     0.78879,     0.78979,     0.79079,     0.79179,\n",
       "           0.79279,     0.79379,     0.79479,      0.7958,      0.7968,      0.7978,      0.7988,      0.7998,      0.8008,      0.8018,      0.8028,      0.8038,      0.8048,     0.80581,     0.80681,     0.80781,     0.80881,     0.80981,     0.81081,     0.81181,     0.81281,     0.81381,     0.81481,     0.81582,\n",
       "           0.81682,     0.81782,     0.81882,     0.81982,     0.82082,     0.82182,     0.82282,     0.82382,     0.82482,     0.82583,     0.82683,     0.82783,     0.82883,     0.82983,     0.83083,     0.83183,     0.83283,     0.83383,     0.83483,     0.83584,     0.83684,     0.83784,     0.83884,     0.83984,\n",
       "           0.84084,     0.84184,     0.84284,     0.84384,     0.84484,     0.84585,     0.84685,     0.84785,     0.84885,     0.84985,     0.85085,     0.85185,     0.85285,     0.85385,     0.85485,     0.85586,     0.85686,     0.85786,     0.85886,     0.85986,     0.86086,     0.86186,     0.86286,     0.86386,\n",
       "           0.86486,     0.86587,     0.86687,     0.86787,     0.86887,     0.86987,     0.87087,     0.87187,     0.87287,     0.87387,     0.87487,     0.87588,     0.87688,     0.87788,     0.87888,     0.87988,     0.88088,     0.88188,     0.88288,     0.88388,     0.88488,     0.88589,     0.88689,     0.88789,\n",
       "           0.88889,     0.88989,     0.89089,     0.89189,     0.89289,     0.89389,     0.89489,      0.8959,      0.8969,      0.8979,      0.8989,      0.8999,      0.9009,      0.9019,      0.9029,      0.9039,      0.9049,     0.90591,     0.90691,     0.90791,     0.90891,     0.90991,     0.91091,     0.91191,\n",
       "           0.91291,     0.91391,     0.91491,     0.91592,     0.91692,     0.91792,     0.91892,     0.91992,     0.92092,     0.92192,     0.92292,     0.92392,     0.92492,     0.92593,     0.92693,     0.92793,     0.92893,     0.92993,     0.93093,     0.93193,     0.93293,     0.93393,     0.93493,     0.93594,\n",
       "           0.93694,     0.93794,     0.93894,     0.93994,     0.94094,     0.94194,     0.94294,     0.94394,     0.94494,     0.94595,     0.94695,     0.94795,     0.94895,     0.94995,     0.95095,     0.95195,     0.95295,     0.95395,     0.95495,     0.95596,     0.95696,     0.95796,     0.95896,     0.95996,\n",
       "           0.96096,     0.96196,     0.96296,     0.96396,     0.96496,     0.96597,     0.96697,     0.96797,     0.96897,     0.96997,     0.97097,     0.97197,     0.97297,     0.97397,     0.97497,     0.97598,     0.97698,     0.97798,     0.97898,     0.97998,     0.98098,     0.98198,     0.98298,     0.98398,\n",
       "           0.98498,     0.98599,     0.98699,     0.98799,     0.98899,     0.98999,     0.99099,     0.99199,     0.99299,     0.99399,     0.99499,       0.996,       0.997,       0.998,       0.999,           1]), array([[          1,           1,           1,           1,           1,           1,           1,           1,           1,           1,           1,           1,           1,           1,     0.99921,     0.99921,     0.99921,     0.99921,     0.99921,     0.99921,     0.99921,     0.99921,     0.99921,\n",
       "            0.99921,     0.99921,     0.99921,     0.99921,     0.99921,     0.99921,     0.99921,     0.99921,     0.99921,     0.99921,     0.99921,     0.99921,     0.99921,     0.99921,     0.99921,     0.99921,     0.99921,     0.99921,     0.99921,     0.99921,     0.99921,     0.99921,     0.99921,\n",
       "            0.99921,     0.99877,     0.99877,     0.99877,     0.99877,     0.99877,     0.99877,     0.99877,     0.99877,     0.99877,     0.99877,     0.99877,     0.99877,     0.99877,     0.99845,     0.99845,     0.99845,     0.99845,     0.99845,     0.99845,     0.99845,     0.99845,     0.99845,\n",
       "            0.99845,     0.99845,     0.99845,     0.99845,     0.99845,     0.99845,     0.99845,     0.99845,     0.99845,     0.99845,     0.99845,     0.99845,     0.99845,     0.99845,     0.99845,     0.99845,     0.99845,     0.99845,     0.99845,     0.99845,     0.99845,     0.99845,     0.99845,\n",
       "            0.99845,     0.99845,     0.99845,     0.99843,     0.99843,     0.99843,     0.99843,     0.99843,     0.99843,     0.99843,     0.99843,     0.99843,     0.99843,     0.99843,     0.99843,     0.99843,     0.99843,     0.99843,     0.99843,     0.99843,     0.99843,     0.99843,     0.99843,\n",
       "            0.99843,     0.99843,     0.99843,     0.99843,     0.99843,     0.99843,     0.99843,     0.99843,     0.99843,     0.99843,     0.99843,     0.99843,     0.99843,     0.99843,     0.99843,     0.99843,     0.99843,     0.99843,     0.99843,     0.99843,     0.99843,     0.99843,     0.99843,\n",
       "            0.99843,     0.99843,     0.99821,     0.99821,     0.99821,     0.99821,     0.99821,     0.99821,     0.99821,     0.99821,     0.99821,     0.99821,     0.99821,     0.99821,     0.99821,     0.99821,     0.99821,     0.99821,     0.99821,     0.99821,     0.99821,     0.99821,     0.99821,\n",
       "            0.99821,     0.99821,     0.99821,     0.99821,     0.99821,     0.99821,     0.99821,     0.99821,     0.99821,     0.99821,     0.99821,     0.99821,     0.99821,     0.99821,     0.99821,     0.99821,     0.99821,     0.99821,     0.99821,     0.99821,     0.99821,     0.99821,     0.99821,\n",
       "            0.99821,     0.99821,     0.99821,     0.99821,     0.99821,     0.99821,     0.99821,     0.99821,     0.99821,     0.99821,     0.99821,     0.99821,     0.99821,     0.99821,     0.99821,     0.99821,     0.99821,     0.99821,     0.99821,     0.99821,     0.99821,     0.99821,     0.99821,\n",
       "            0.99821,     0.99821,     0.99821,     0.99821,     0.99821,     0.99821,     0.99821,     0.99821,     0.99821,     0.99821,     0.99821,     0.99821,     0.99821,     0.99821,     0.99821,     0.99821,     0.99821,     0.99821,     0.99821,     0.99821,     0.99821,     0.99821,     0.99821,\n",
       "            0.99821,     0.99821,     0.99821,     0.99821,     0.99821,     0.99821,     0.99821,     0.99821,     0.99821,     0.99821,     0.99821,     0.99821,     0.99821,     0.99821,     0.99821,      0.9981,      0.9981,      0.9981,      0.9981,      0.9981,     0.99802,     0.99802,     0.99802,\n",
       "            0.99802,     0.99802,     0.99802,     0.99802,     0.99802,     0.99802,     0.99802,     0.99802,     0.99802,     0.99802,     0.99802,     0.99802,     0.99802,     0.99802,     0.99802,     0.99802,     0.99802,     0.99802,     0.99802,     0.99802,     0.99802,     0.99802,     0.99802,\n",
       "            0.99802,     0.99793,     0.99793,     0.99793,     0.99793,     0.99793,     0.99791,     0.99791,     0.99791,     0.99791,     0.99791,     0.99791,     0.99791,     0.99791,     0.99791,     0.99791,     0.99791,     0.99791,     0.99791,     0.99791,     0.99791,     0.99783,     0.99783,\n",
       "            0.99783,     0.99783,     0.99783,     0.99783,     0.99782,     0.99782,     0.99782,     0.99782,     0.99782,     0.99782,     0.99782,     0.99782,     0.99782,     0.99782,     0.99782,     0.99782,     0.99782,     0.99782,     0.99782,     0.99774,     0.99774,     0.99774,     0.99774,\n",
       "            0.99774,     0.99773,     0.99773,     0.99773,     0.99773,     0.99773,     0.99773,     0.99773,     0.99773,     0.99773,     0.99773,     0.99773,     0.99773,     0.99773,     0.99773,     0.99773,     0.99773,     0.99773,     0.99773,     0.99773,     0.99773,     0.99773,     0.99773,\n",
       "            0.99773,     0.99773,     0.99773,     0.99773,     0.99773,     0.99773,     0.99773,     0.99773,     0.99773,     0.99773,     0.99773,     0.99773,     0.99773,     0.99773,     0.99773,     0.99773,     0.99773,     0.99773,     0.99773,     0.99773,     0.99773,     0.99773,     0.99773,\n",
       "            0.99773,     0.99773,     0.99764,     0.99758,     0.99758,     0.99758,     0.99758,     0.99758,     0.99758,     0.99758,     0.99758,     0.99758,     0.99758,     0.99758,     0.99758,     0.99758,     0.99758,     0.99758,     0.99758,     0.99758,     0.99758,     0.99758,     0.99758,\n",
       "            0.99758,     0.99757,     0.99757,     0.99757,     0.99757,     0.99757,     0.99757,     0.99757,     0.99757,     0.99757,     0.99757,     0.99757,     0.99757,     0.99757,     0.99757,      0.9975,      0.9975,     0.99748,     0.99748,     0.99748,     0.99748,     0.99748,     0.99748,\n",
       "            0.99748,     0.99748,     0.99748,     0.99748,     0.99748,     0.99748,     0.99748,     0.99748,     0.99748,     0.99748,     0.99748,     0.99748,     0.99748,     0.99748,     0.99748,     0.99748,     0.99748,     0.99748,     0.99748,     0.99748,     0.99748,     0.99748,     0.99748,\n",
       "            0.99748,     0.99748,     0.99748,     0.99748,     0.99748,     0.99748,     0.99748,     0.99748,     0.99748,     0.99748,     0.99748,     0.99748,     0.99748,     0.99748,     0.99748,     0.99748,     0.99748,     0.99748,     0.99748,     0.99748,     0.99748,     0.99748,     0.99748,\n",
       "            0.99748,     0.99748,     0.99748,     0.99748,     0.99748,     0.99748,     0.99748,     0.99748,     0.99748,     0.99748,     0.99748,     0.99748,     0.99748,     0.99748,     0.99748,     0.99748,     0.99748,     0.99742,     0.99742,     0.99742,     0.99742,     0.99738,     0.99738,\n",
       "            0.99738,     0.99738,     0.99738,     0.99738,     0.99738,     0.99728,     0.99728,     0.99728,     0.99728,     0.99728,     0.99728,     0.99728,     0.99728,     0.99727,     0.99727,     0.99727,     0.99727,     0.99727,     0.99727,     0.99727,     0.99727,     0.99727,     0.99727,\n",
       "            0.99727,     0.99727,     0.99727,     0.99727,     0.99727,     0.99727,     0.99727,     0.99727,     0.99727,     0.99727,     0.99727,     0.99727,     0.99727,     0.99727,     0.99727,     0.99727,     0.99724,     0.99724,     0.99724,     0.99724,     0.99724,     0.99724,     0.99724,\n",
       "            0.99724,     0.99724,     0.99724,     0.99724,     0.99724,     0.99724,     0.99724,     0.99724,     0.99724,     0.99724,     0.99724,     0.99724,     0.99724,     0.99724,     0.99724,     0.99724,     0.99724,     0.99724,     0.99724,     0.99724,     0.99724,     0.99724,     0.99724,\n",
       "            0.99724,     0.99724,     0.99724,     0.99724,     0.99724,     0.99724,     0.99724,     0.99724,     0.99724,     0.99724,     0.99724,     0.99724,     0.99724,     0.99724,     0.99724,     0.99724,     0.99719,     0.99719,     0.99713,     0.99706,     0.99705,     0.99705,     0.99705,\n",
       "            0.99705,     0.99705,     0.99705,     0.99705,     0.99705,     0.99705,     0.99705,     0.99705,     0.99705,     0.99705,     0.99705,     0.99705,     0.99705,     0.99705,     0.99705,     0.99705,     0.99705,     0.99705,     0.99705,     0.99702,     0.99702,     0.99702,     0.99702,\n",
       "            0.99702,     0.99699,     0.99699,     0.99699,     0.99699,     0.99699,     0.99699,     0.99699,     0.99693,     0.99693,     0.99693,     0.99693,     0.99693,     0.99693,     0.99693,     0.99693,     0.99693,     0.99693,     0.99693,     0.99693,     0.99689,     0.99689,     0.99689,\n",
       "            0.99689,     0.99685,     0.99685,     0.99685,      0.9968,      0.9968,     0.99678,     0.99678,     0.99678,     0.99678,     0.99678,     0.99678,     0.99678,     0.99678,     0.99678,     0.99678,     0.99678,     0.99678,     0.99678,     0.99678,     0.99678,     0.99678,     0.99678,\n",
       "            0.99678,     0.99678,     0.99678,     0.99674,     0.99663,     0.99663,     0.99663,     0.99663,     0.99663,     0.99663,     0.99663,     0.99663,     0.99663,     0.99663,     0.99663,     0.99663,     0.99663,     0.99663,     0.99663,     0.99663,     0.99663,     0.99663,     0.99663,\n",
       "            0.99663,     0.99663,     0.99663,     0.99663,     0.99659,     0.99659,     0.99656,     0.99656,     0.99656,     0.99656,     0.99656,     0.99651,     0.99649,     0.99649,     0.99649,     0.99649,     0.99649,     0.99649,     0.99645,     0.99645,     0.99645,     0.99643,     0.99643,\n",
       "            0.99643,     0.99643,     0.99643,     0.99643,     0.99639,     0.99639,     0.99635,     0.99635,     0.99635,     0.99629,     0.99629,     0.99629,     0.99629,     0.99629,     0.99629,     0.99629,     0.99629,     0.99629,     0.99629,     0.99629,     0.99629,     0.99629,     0.99629,\n",
       "            0.99629,     0.99629,     0.99629,     0.99629,     0.99629,     0.99629,     0.99629,     0.99629,     0.99629,     0.99629,     0.99629,     0.99629,     0.99629,     0.99624,     0.99624,      0.9962,     0.99616,     0.99615,     0.99615,     0.99615,     0.99615,     0.99615,     0.99615,\n",
       "            0.99615,     0.99615,     0.99615,     0.99615,     0.99615,     0.99615,     0.99615,     0.99615,     0.99615,     0.99615,     0.99615,     0.99615,     0.99611,     0.99607,     0.99607,     0.99605,     0.99605,     0.99605,     0.99605,     0.99605,     0.99603,     0.99603,     0.99603,\n",
       "            0.99603,     0.99603,     0.99603,     0.99599,     0.99599,     0.99596,     0.99596,     0.99593,     0.99593,     0.99593,     0.99588,     0.99584,      0.9958,     0.99577,     0.99577,     0.99577,     0.99575,     0.99575,     0.99575,     0.99575,     0.99573,     0.99573,     0.99573,\n",
       "            0.99573,     0.99573,     0.99573,     0.99569,     0.99569,     0.99562,     0.99562,     0.99562,     0.99562,     0.99554,     0.99554,     0.99554,     0.99554,     0.99554,     0.99554,     0.99554,     0.99554,     0.99554,     0.99554,     0.99554,     0.99554,     0.99554,     0.99554,\n",
       "            0.99554,     0.99554,     0.99554,     0.99551,     0.99551,     0.99551,     0.99551,     0.99551,     0.99551,     0.99551,     0.99551,     0.99551,     0.99551,     0.99542,     0.99538,     0.99532,     0.99532,     0.99532,     0.99532,     0.99528,     0.99524,      0.9952,     0.99518,\n",
       "            0.99518,     0.99518,     0.99518,     0.99515,     0.99515,     0.99515,     0.99514,     0.99514,     0.99514,     0.99514,      0.9951,     0.99506,     0.99506,     0.99499,     0.99495,     0.99488,     0.99488,     0.99488,     0.99485,     0.99485,     0.99482,     0.99482,     0.99474,\n",
       "            0.99471,     0.99467,     0.99464,     0.99464,      0.9946,     0.99448,     0.99448,     0.99448,     0.99448,     0.99448,     0.99448,     0.99448,     0.99445,     0.99445,     0.99442,     0.99442,     0.99434,      0.9943,     0.99424,     0.99424,     0.99424,     0.99413,     0.99413,\n",
       "            0.99411,     0.99411,     0.99408,     0.99408,     0.99404,     0.99396,      0.9939,      0.9939,     0.99383,     0.99383,      0.9938,     0.99372,     0.99365,     0.99365,     0.99358,     0.99355,     0.99352,     0.99348,     0.99346,     0.99346,     0.99346,     0.99343,      0.9934,\n",
       "            0.99337,     0.99335,     0.99335,     0.99335,     0.99331,     0.99324,     0.99322,     0.99322,     0.99319,     0.99315,     0.99304,     0.99301,     0.99301,     0.99298,     0.99296,     0.99296,     0.99296,     0.99285,     0.99283,     0.99275,     0.99272,     0.99269,     0.99263,\n",
       "            0.99263,     0.99257,     0.99257,     0.99254,      0.9925,     0.99244,      0.9924,     0.99233,     0.99226,     0.99215,     0.99209,     0.99209,     0.99201,     0.99201,     0.99201,     0.99197,      0.9919,     0.99184,     0.99181,     0.99178,     0.99171,     0.99161,     0.99157,\n",
       "            0.99154,     0.99145,     0.99127,     0.99127,     0.99112,     0.99099,     0.99096,     0.99092,     0.99078,     0.99057,     0.99051,     0.99044,     0.99033,     0.99031,     0.99028,     0.99021,     0.99007,     0.98983,      0.9898,     0.98966,     0.98948,     0.98943,     0.98943,\n",
       "             0.9893,     0.98923,     0.98917,     0.98899,     0.98883,     0.98876,     0.98862,      0.9886,     0.98839,     0.98825,     0.98797,     0.98773,     0.98756,     0.98739,     0.98689,      0.9864,     0.98587,     0.98523,     0.98424,     0.98368,     0.98262,     0.98082,     0.97821,\n",
       "            0.97376,     0.96642,     0.95367,      0.9217,     0.84743,     0.69343,     0.55474,     0.41606,     0.27737,     0.13869,           0]]), 'Recall', 'Precision'], [array([          0,    0.001001,    0.002002,    0.003003,    0.004004,    0.005005,    0.006006,    0.007007,    0.008008,    0.009009,     0.01001,    0.011011,    0.012012,    0.013013,    0.014014,    0.015015,    0.016016,    0.017017,    0.018018,    0.019019,     0.02002,    0.021021,    0.022022,    0.023023,\n",
       "          0.024024,    0.025025,    0.026026,    0.027027,    0.028028,    0.029029,     0.03003,    0.031031,    0.032032,    0.033033,    0.034034,    0.035035,    0.036036,    0.037037,    0.038038,    0.039039,     0.04004,    0.041041,    0.042042,    0.043043,    0.044044,    0.045045,    0.046046,    0.047047,\n",
       "          0.048048,    0.049049,     0.05005,    0.051051,    0.052052,    0.053053,    0.054054,    0.055055,    0.056056,    0.057057,    0.058058,    0.059059,     0.06006,    0.061061,    0.062062,    0.063063,    0.064064,    0.065065,    0.066066,    0.067067,    0.068068,    0.069069,     0.07007,    0.071071,\n",
       "          0.072072,    0.073073,    0.074074,    0.075075,    0.076076,    0.077077,    0.078078,    0.079079,     0.08008,    0.081081,    0.082082,    0.083083,    0.084084,    0.085085,    0.086086,    0.087087,    0.088088,    0.089089,     0.09009,    0.091091,    0.092092,    0.093093,    0.094094,    0.095095,\n",
       "          0.096096,    0.097097,    0.098098,    0.099099,      0.1001,      0.1011,      0.1021,      0.1031,      0.1041,     0.10511,     0.10611,     0.10711,     0.10811,     0.10911,     0.11011,     0.11111,     0.11211,     0.11311,     0.11411,     0.11512,     0.11612,     0.11712,     0.11812,     0.11912,\n",
       "           0.12012,     0.12112,     0.12212,     0.12312,     0.12412,     0.12513,     0.12613,     0.12713,     0.12813,     0.12913,     0.13013,     0.13113,     0.13213,     0.13313,     0.13413,     0.13514,     0.13614,     0.13714,     0.13814,     0.13914,     0.14014,     0.14114,     0.14214,     0.14314,\n",
       "           0.14414,     0.14515,     0.14615,     0.14715,     0.14815,     0.14915,     0.15015,     0.15115,     0.15215,     0.15315,     0.15415,     0.15516,     0.15616,     0.15716,     0.15816,     0.15916,     0.16016,     0.16116,     0.16216,     0.16316,     0.16416,     0.16517,     0.16617,     0.16717,\n",
       "           0.16817,     0.16917,     0.17017,     0.17117,     0.17217,     0.17317,     0.17417,     0.17518,     0.17618,     0.17718,     0.17818,     0.17918,     0.18018,     0.18118,     0.18218,     0.18318,     0.18418,     0.18519,     0.18619,     0.18719,     0.18819,     0.18919,     0.19019,     0.19119,\n",
       "           0.19219,     0.19319,     0.19419,      0.1952,      0.1962,      0.1972,      0.1982,      0.1992,      0.2002,      0.2012,      0.2022,      0.2032,      0.2042,     0.20521,     0.20621,     0.20721,     0.20821,     0.20921,     0.21021,     0.21121,     0.21221,     0.21321,     0.21421,     0.21522,\n",
       "           0.21622,     0.21722,     0.21822,     0.21922,     0.22022,     0.22122,     0.22222,     0.22322,     0.22422,     0.22523,     0.22623,     0.22723,     0.22823,     0.22923,     0.23023,     0.23123,     0.23223,     0.23323,     0.23423,     0.23524,     0.23624,     0.23724,     0.23824,     0.23924,\n",
       "           0.24024,     0.24124,     0.24224,     0.24324,     0.24424,     0.24525,     0.24625,     0.24725,     0.24825,     0.24925,     0.25025,     0.25125,     0.25225,     0.25325,     0.25425,     0.25526,     0.25626,     0.25726,     0.25826,     0.25926,     0.26026,     0.26126,     0.26226,     0.26326,\n",
       "           0.26426,     0.26527,     0.26627,     0.26727,     0.26827,     0.26927,     0.27027,     0.27127,     0.27227,     0.27327,     0.27427,     0.27528,     0.27628,     0.27728,     0.27828,     0.27928,     0.28028,     0.28128,     0.28228,     0.28328,     0.28428,     0.28529,     0.28629,     0.28729,\n",
       "           0.28829,     0.28929,     0.29029,     0.29129,     0.29229,     0.29329,     0.29429,      0.2953,      0.2963,      0.2973,      0.2983,      0.2993,      0.3003,      0.3013,      0.3023,      0.3033,      0.3043,     0.30531,     0.30631,     0.30731,     0.30831,     0.30931,     0.31031,     0.31131,\n",
       "           0.31231,     0.31331,     0.31431,     0.31532,     0.31632,     0.31732,     0.31832,     0.31932,     0.32032,     0.32132,     0.32232,     0.32332,     0.32432,     0.32533,     0.32633,     0.32733,     0.32833,     0.32933,     0.33033,     0.33133,     0.33233,     0.33333,     0.33433,     0.33534,\n",
       "           0.33634,     0.33734,     0.33834,     0.33934,     0.34034,     0.34134,     0.34234,     0.34334,     0.34434,     0.34535,     0.34635,     0.34735,     0.34835,     0.34935,     0.35035,     0.35135,     0.35235,     0.35335,     0.35435,     0.35536,     0.35636,     0.35736,     0.35836,     0.35936,\n",
       "           0.36036,     0.36136,     0.36236,     0.36336,     0.36436,     0.36537,     0.36637,     0.36737,     0.36837,     0.36937,     0.37037,     0.37137,     0.37237,     0.37337,     0.37437,     0.37538,     0.37638,     0.37738,     0.37838,     0.37938,     0.38038,     0.38138,     0.38238,     0.38338,\n",
       "           0.38438,     0.38539,     0.38639,     0.38739,     0.38839,     0.38939,     0.39039,     0.39139,     0.39239,     0.39339,     0.39439,      0.3954,      0.3964,      0.3974,      0.3984,      0.3994,      0.4004,      0.4014,      0.4024,      0.4034,      0.4044,     0.40541,     0.40641,     0.40741,\n",
       "           0.40841,     0.40941,     0.41041,     0.41141,     0.41241,     0.41341,     0.41441,     0.41542,     0.41642,     0.41742,     0.41842,     0.41942,     0.42042,     0.42142,     0.42242,     0.42342,     0.42442,     0.42543,     0.42643,     0.42743,     0.42843,     0.42943,     0.43043,     0.43143,\n",
       "           0.43243,     0.43343,     0.43443,     0.43544,     0.43644,     0.43744,     0.43844,     0.43944,     0.44044,     0.44144,     0.44244,     0.44344,     0.44444,     0.44545,     0.44645,     0.44745,     0.44845,     0.44945,     0.45045,     0.45145,     0.45245,     0.45345,     0.45445,     0.45546,\n",
       "           0.45646,     0.45746,     0.45846,     0.45946,     0.46046,     0.46146,     0.46246,     0.46346,     0.46446,     0.46547,     0.46647,     0.46747,     0.46847,     0.46947,     0.47047,     0.47147,     0.47247,     0.47347,     0.47447,     0.47548,     0.47648,     0.47748,     0.47848,     0.47948,\n",
       "           0.48048,     0.48148,     0.48248,     0.48348,     0.48448,     0.48549,     0.48649,     0.48749,     0.48849,     0.48949,     0.49049,     0.49149,     0.49249,     0.49349,     0.49449,      0.4955,      0.4965,      0.4975,      0.4985,      0.4995,      0.5005,      0.5015,      0.5025,      0.5035,\n",
       "            0.5045,     0.50551,     0.50651,     0.50751,     0.50851,     0.50951,     0.51051,     0.51151,     0.51251,     0.51351,     0.51451,     0.51552,     0.51652,     0.51752,     0.51852,     0.51952,     0.52052,     0.52152,     0.52252,     0.52352,     0.52452,     0.52553,     0.52653,     0.52753,\n",
       "           0.52853,     0.52953,     0.53053,     0.53153,     0.53253,     0.53353,     0.53453,     0.53554,     0.53654,     0.53754,     0.53854,     0.53954,     0.54054,     0.54154,     0.54254,     0.54354,     0.54454,     0.54555,     0.54655,     0.54755,     0.54855,     0.54955,     0.55055,     0.55155,\n",
       "           0.55255,     0.55355,     0.55455,     0.55556,     0.55656,     0.55756,     0.55856,     0.55956,     0.56056,     0.56156,     0.56256,     0.56356,     0.56456,     0.56557,     0.56657,     0.56757,     0.56857,     0.56957,     0.57057,     0.57157,     0.57257,     0.57357,     0.57457,     0.57558,\n",
       "           0.57658,     0.57758,     0.57858,     0.57958,     0.58058,     0.58158,     0.58258,     0.58358,     0.58458,     0.58559,     0.58659,     0.58759,     0.58859,     0.58959,     0.59059,     0.59159,     0.59259,     0.59359,     0.59459,      0.5956,      0.5966,      0.5976,      0.5986,      0.5996,\n",
       "            0.6006,      0.6016,      0.6026,      0.6036,      0.6046,     0.60561,     0.60661,     0.60761,     0.60861,     0.60961,     0.61061,     0.61161,     0.61261,     0.61361,     0.61461,     0.61562,     0.61662,     0.61762,     0.61862,     0.61962,     0.62062,     0.62162,     0.62262,     0.62362,\n",
       "           0.62462,     0.62563,     0.62663,     0.62763,     0.62863,     0.62963,     0.63063,     0.63163,     0.63263,     0.63363,     0.63463,     0.63564,     0.63664,     0.63764,     0.63864,     0.63964,     0.64064,     0.64164,     0.64264,     0.64364,     0.64464,     0.64565,     0.64665,     0.64765,\n",
       "           0.64865,     0.64965,     0.65065,     0.65165,     0.65265,     0.65365,     0.65465,     0.65566,     0.65666,     0.65766,     0.65866,     0.65966,     0.66066,     0.66166,     0.66266,     0.66366,     0.66466,     0.66567,     0.66667,     0.66767,     0.66867,     0.66967,     0.67067,     0.67167,\n",
       "           0.67267,     0.67367,     0.67467,     0.67568,     0.67668,     0.67768,     0.67868,     0.67968,     0.68068,     0.68168,     0.68268,     0.68368,     0.68468,     0.68569,     0.68669,     0.68769,     0.68869,     0.68969,     0.69069,     0.69169,     0.69269,     0.69369,     0.69469,      0.6957,\n",
       "            0.6967,      0.6977,      0.6987,      0.6997,      0.7007,      0.7017,      0.7027,      0.7037,      0.7047,     0.70571,     0.70671,     0.70771,     0.70871,     0.70971,     0.71071,     0.71171,     0.71271,     0.71371,     0.71471,     0.71572,     0.71672,     0.71772,     0.71872,     0.71972,\n",
       "           0.72072,     0.72172,     0.72272,     0.72372,     0.72472,     0.72573,     0.72673,     0.72773,     0.72873,     0.72973,     0.73073,     0.73173,     0.73273,     0.73373,     0.73473,     0.73574,     0.73674,     0.73774,     0.73874,     0.73974,     0.74074,     0.74174,     0.74274,     0.74374,\n",
       "           0.74474,     0.74575,     0.74675,     0.74775,     0.74875,     0.74975,     0.75075,     0.75175,     0.75275,     0.75375,     0.75475,     0.75576,     0.75676,     0.75776,     0.75876,     0.75976,     0.76076,     0.76176,     0.76276,     0.76376,     0.76476,     0.76577,     0.76677,     0.76777,\n",
       "           0.76877,     0.76977,     0.77077,     0.77177,     0.77277,     0.77377,     0.77477,     0.77578,     0.77678,     0.77778,     0.77878,     0.77978,     0.78078,     0.78178,     0.78278,     0.78378,     0.78478,     0.78579,     0.78679,     0.78779,     0.78879,     0.78979,     0.79079,     0.79179,\n",
       "           0.79279,     0.79379,     0.79479,      0.7958,      0.7968,      0.7978,      0.7988,      0.7998,      0.8008,      0.8018,      0.8028,      0.8038,      0.8048,     0.80581,     0.80681,     0.80781,     0.80881,     0.80981,     0.81081,     0.81181,     0.81281,     0.81381,     0.81481,     0.81582,\n",
       "           0.81682,     0.81782,     0.81882,     0.81982,     0.82082,     0.82182,     0.82282,     0.82382,     0.82482,     0.82583,     0.82683,     0.82783,     0.82883,     0.82983,     0.83083,     0.83183,     0.83283,     0.83383,     0.83483,     0.83584,     0.83684,     0.83784,     0.83884,     0.83984,\n",
       "           0.84084,     0.84184,     0.84284,     0.84384,     0.84484,     0.84585,     0.84685,     0.84785,     0.84885,     0.84985,     0.85085,     0.85185,     0.85285,     0.85385,     0.85485,     0.85586,     0.85686,     0.85786,     0.85886,     0.85986,     0.86086,     0.86186,     0.86286,     0.86386,\n",
       "           0.86486,     0.86587,     0.86687,     0.86787,     0.86887,     0.86987,     0.87087,     0.87187,     0.87287,     0.87387,     0.87487,     0.87588,     0.87688,     0.87788,     0.87888,     0.87988,     0.88088,     0.88188,     0.88288,     0.88388,     0.88488,     0.88589,     0.88689,     0.88789,\n",
       "           0.88889,     0.88989,     0.89089,     0.89189,     0.89289,     0.89389,     0.89489,      0.8959,      0.8969,      0.8979,      0.8989,      0.8999,      0.9009,      0.9019,      0.9029,      0.9039,      0.9049,     0.90591,     0.90691,     0.90791,     0.90891,     0.90991,     0.91091,     0.91191,\n",
       "           0.91291,     0.91391,     0.91491,     0.91592,     0.91692,     0.91792,     0.91892,     0.91992,     0.92092,     0.92192,     0.92292,     0.92392,     0.92492,     0.92593,     0.92693,     0.92793,     0.92893,     0.92993,     0.93093,     0.93193,     0.93293,     0.93393,     0.93493,     0.93594,\n",
       "           0.93694,     0.93794,     0.93894,     0.93994,     0.94094,     0.94194,     0.94294,     0.94394,     0.94494,     0.94595,     0.94695,     0.94795,     0.94895,     0.94995,     0.95095,     0.95195,     0.95295,     0.95395,     0.95495,     0.95596,     0.95696,     0.95796,     0.95896,     0.95996,\n",
       "           0.96096,     0.96196,     0.96296,     0.96396,     0.96496,     0.96597,     0.96697,     0.96797,     0.96897,     0.96997,     0.97097,     0.97197,     0.97297,     0.97397,     0.97497,     0.97598,     0.97698,     0.97798,     0.97898,     0.97998,     0.98098,     0.98198,     0.98298,     0.98398,\n",
       "           0.98498,     0.98599,     0.98699,     0.98799,     0.98899,     0.98999,     0.99099,     0.99199,     0.99299,     0.99399,     0.99499,       0.996,       0.997,       0.998,       0.999,           1]), array([[    0.89649,     0.89653,     0.92865,      0.9413,     0.94817,     0.95325,     0.95607,     0.95851,     0.96056,     0.96232,     0.96389,     0.96487,     0.96592,     0.96669,     0.96739,     0.96792,     0.96851,     0.96901,     0.96947,     0.96981,     0.97033,     0.97087,     0.97143,\n",
       "             0.9719,     0.97215,     0.97247,     0.97283,     0.97309,     0.97334,     0.97349,     0.97379,     0.97411,     0.97442,     0.97464,      0.9749,     0.97527,     0.97542,     0.97559,     0.97569,     0.97596,     0.97612,     0.97626,     0.97643,     0.97654,     0.97667,     0.97682,\n",
       "            0.97695,       0.977,     0.97716,     0.97737,      0.9775,     0.97768,     0.97774,     0.97785,     0.97791,     0.97801,     0.97817,     0.97823,     0.97821,     0.97827,     0.97837,     0.97844,     0.97851,     0.97856,     0.97865,     0.97883,     0.97887,     0.97901,     0.97912,\n",
       "            0.97922,     0.97929,     0.97937,     0.97945,      0.9795,     0.97956,     0.97962,     0.97974,     0.97978,      0.9798,     0.97983,     0.97992,     0.97997,     0.98001,     0.98009,     0.98018,     0.98022,     0.98026,     0.98033,     0.98037,     0.98039,     0.98044,     0.98058,\n",
       "            0.98064,     0.98069,     0.98073,     0.98077,     0.98082,     0.98088,     0.98092,     0.98098,     0.98106,     0.98113,     0.98114,     0.98115,     0.98119,     0.98126,     0.98132,     0.98131,     0.98132,     0.98132,     0.98138,     0.98139,     0.98144,     0.98154,     0.98157,\n",
       "            0.98161,     0.98169,     0.98174,     0.98177,     0.98181,     0.98182,      0.9818,     0.98185,     0.98189,     0.98195,     0.98204,     0.98207,     0.98208,     0.98209,     0.98211,     0.98212,     0.98214,     0.98222,     0.98225,     0.98228,     0.98229,     0.98232,     0.98234,\n",
       "            0.98237,     0.98238,     0.98241,     0.98245,     0.98248,     0.98254,     0.98258,     0.98262,     0.98264,     0.98264,     0.98265,     0.98268,     0.98273,     0.98274,     0.98277,     0.98278,     0.98279,     0.98282,     0.98283,     0.98284,     0.98285,     0.98285,     0.98286,\n",
       "            0.98285,     0.98289,     0.98296,     0.98299,     0.98307,     0.98309,     0.98312,     0.98313,     0.98314,     0.98315,     0.98316,     0.98315,     0.98316,     0.98317,     0.98318,     0.98319,     0.98321,     0.98323,     0.98322,     0.98324,     0.98325,     0.98328,     0.98329,\n",
       "             0.9833,     0.98331,      0.9833,     0.98329,      0.9833,     0.98329,     0.98333,     0.98335,     0.98338,     0.98342,     0.98343,     0.98344,     0.98344,     0.98343,     0.98343,     0.98346,     0.98346,     0.98349,     0.98352,     0.98356,     0.98357,     0.98356,     0.98356,\n",
       "            0.98356,     0.98357,     0.98358,     0.98359,     0.98359,     0.98362,     0.98364,     0.98364,     0.98365,     0.98365,     0.98368,     0.98368,      0.9837,     0.98372,     0.98375,     0.98377,     0.98378,     0.98376,     0.98376,     0.98375,     0.98379,     0.98379,     0.98378,\n",
       "            0.98384,     0.98385,     0.98384,     0.98384,     0.98384,     0.98383,     0.98384,     0.98387,     0.98388,     0.98389,      0.9839,     0.98391,     0.98392,     0.98394,     0.98395,     0.98394,     0.98392,     0.98393,     0.98394,     0.98394,     0.98395,     0.98399,       0.984,\n",
       "            0.98399,     0.98397,     0.98397,     0.98398,     0.98399,     0.98401,     0.98402,     0.98404,     0.98405,     0.98406,     0.98407,     0.98409,      0.9841,     0.98411,     0.98409,     0.98411,     0.98412,     0.98413,     0.98414,     0.98414,     0.98415,     0.98417,     0.98419,\n",
       "            0.98421,     0.98422,     0.98423,     0.98422,     0.98423,     0.98424,     0.98426,     0.98428,     0.98429,     0.98431,     0.98429,     0.98431,     0.98433,     0.98434,     0.98434,     0.98434,     0.98434,     0.98435,     0.98436,     0.98437,     0.98438,      0.9844,      0.9844,\n",
       "            0.98441,     0.98442,     0.98442,     0.98443,     0.98442,     0.98445,     0.98447,     0.98448,     0.98447,     0.98447,     0.98448,     0.98449,      0.9845,     0.98451,     0.98455,     0.98457,     0.98458,     0.98458,     0.98459,     0.98462,     0.98461,      0.9846,     0.98458,\n",
       "            0.98456,     0.98456,     0.98459,      0.9846,     0.98459,      0.9846,     0.98459,     0.98459,     0.98458,     0.98459,      0.9846,     0.98463,     0.98466,     0.98465,     0.98464,     0.98463,     0.98462,     0.98461,      0.9846,     0.98461,     0.98462,     0.98467,     0.98468,\n",
       "            0.98469,     0.98471,     0.98469,     0.98469,      0.9847,     0.98467,     0.98468,     0.98469,     0.98471,     0.98472,     0.98471,     0.98469,     0.98472,     0.98471,     0.98471,     0.98473,     0.98475,     0.98477,     0.98479,     0.98481,      0.9848,      0.9848,     0.98482,\n",
       "             0.9848,     0.98479,     0.98481,     0.98488,     0.98487,     0.98486,     0.98487,     0.98488,     0.98489,     0.98487,     0.98485,     0.98486,     0.98487,     0.98489,     0.98483,     0.98483,     0.98481,      0.9848,     0.98477,     0.98477,     0.98476,      0.9848,     0.98484,\n",
       "            0.98485,     0.98483,     0.98481,      0.9848,     0.98482,     0.98484,     0.98485,     0.98487,     0.98485,     0.98485,     0.98486,     0.98486,     0.98485,     0.98483,     0.98484,     0.98483,     0.98484,     0.98481,     0.98481,      0.9848,     0.98479,     0.98478,     0.98479,\n",
       "            0.98478,     0.98478,     0.98476,     0.98472,     0.98473,     0.98474,     0.98476,     0.98476,     0.98475,     0.98477,      0.9848,     0.98479,     0.98477,     0.98475,     0.98476,     0.98478,     0.98476,     0.98475,     0.98474,     0.98471,      0.9847,      0.9847,     0.98466,\n",
       "            0.98462,      0.9846,     0.98462,      0.9846,     0.98462,     0.98461,      0.9846,     0.98459,     0.98458,     0.98459,     0.98462,     0.98465,     0.98464,     0.98463,     0.98461,      0.9846,     0.98458,     0.98458,     0.98459,     0.98458,     0.98459,     0.98457,     0.98454,\n",
       "            0.98455,      0.9846,     0.98461,     0.98462,     0.98463,     0.98466,     0.98469,     0.98468,     0.98466,     0.98465,     0.98462,     0.98461,     0.98462,     0.98461,     0.98465,     0.98466,     0.98462,     0.98459,     0.98457,     0.98461,      0.9846,     0.98456,     0.98453,\n",
       "            0.98454,     0.98454,     0.98449,     0.98449,      0.9845,     0.98448,     0.98448,     0.98447,     0.98449,      0.9845,     0.98449,     0.98447,     0.98447,     0.98444,     0.98445,     0.98442,     0.98439,     0.98434,     0.98436,     0.98439,     0.98438,     0.98444,     0.98442,\n",
       "            0.98439,     0.98438,     0.98435,     0.98434,     0.98433,     0.98434,     0.98434,     0.98432,     0.98432,     0.98434,     0.98431,      0.9843,     0.98427,     0.98428,     0.98427,     0.98425,     0.98426,     0.98427,     0.98426,     0.98427,     0.98428,     0.98427,      0.9843,\n",
       "             0.9843,     0.98429,     0.98428,     0.98426,     0.98425,      0.9842,     0.98418,     0.98419,     0.98417,     0.98419,      0.9842,      0.9842,     0.98416,     0.98416,     0.98413,      0.9841,     0.98412,     0.98412,     0.98408,     0.98406,     0.98405,     0.98401,     0.98402,\n",
       "            0.98399,       0.984,     0.98395,     0.98393,     0.98393,     0.98393,     0.98391,     0.98393,     0.98391,     0.98388,     0.98388,     0.98384,     0.98381,     0.98378,     0.98378,     0.98374,      0.9837,     0.98366,     0.98367,     0.98366,     0.98366,     0.98365,     0.98363,\n",
       "             0.9836,     0.98356,      0.9835,     0.98349,     0.98345,     0.98343,     0.98339,      0.9833,     0.98329,     0.98329,     0.98324,     0.98319,     0.98313,     0.98308,     0.98302,     0.98299,     0.98295,     0.98293,     0.98287,     0.98285,     0.98281,     0.98279,     0.98279,\n",
       "            0.98275,     0.98271,     0.98266,     0.98263,     0.98257,     0.98246,     0.98245,     0.98241,     0.98246,     0.98243,     0.98239,     0.98233,     0.98235,     0.98233,      0.9823,     0.98221,     0.98215,      0.9821,     0.98199,     0.98196,     0.98192,      0.9819,     0.98183,\n",
       "            0.98179,     0.98176,     0.98168,     0.98164,     0.98163,     0.98162,     0.98154,     0.98151,     0.98145,      0.9814,     0.98137,     0.98134,     0.98129,     0.98122,     0.98117,     0.98104,     0.98095,     0.98087,     0.98082,     0.98076,      0.9807,     0.98063,     0.98053,\n",
       "            0.98042,     0.98036,     0.98032,     0.98029,     0.98025,      0.9802,     0.98007,     0.98002,     0.97995,     0.97976,     0.97973,     0.97959,      0.9795,     0.97942,     0.97935,     0.97926,     0.97919,      0.9791,     0.97907,     0.97904,       0.979,     0.97898,     0.97889,\n",
       "            0.97883,     0.97873,      0.9787,      0.9786,     0.97847,     0.97831,     0.97819,     0.97807,      0.9779,     0.97788,     0.97776,     0.97767,     0.97759,     0.97741,      0.9772,     0.97701,     0.97687,     0.97674,     0.97653,     0.97647,     0.97638,     0.97632,     0.97621,\n",
       "            0.97616,     0.97606,     0.97601,     0.97593,     0.97586,      0.9757,     0.97557,     0.97543,     0.97528,     0.97508,     0.97496,     0.97484,     0.97466,      0.9746,     0.97438,     0.97434,      0.9743,      0.9742,     0.97401,     0.97373,     0.97349,     0.97326,     0.97315,\n",
       "            0.97297,     0.97281,     0.97265,     0.97254,     0.97244,     0.97228,     0.97204,     0.97181,     0.97161,      0.9713,     0.97115,     0.97107,     0.97082,     0.97065,     0.97047,     0.97034,     0.97021,      0.9699,     0.96978,     0.96955,     0.96941,     0.96918,     0.96899,\n",
       "            0.96886,     0.96871,     0.96828,     0.96802,     0.96783,     0.96754,     0.96729,     0.96699,     0.96661,     0.96647,     0.96616,     0.96596,     0.96578,     0.96552,     0.96522,     0.96479,     0.96442,     0.96413,     0.96378,     0.96349,     0.96311,     0.96278,     0.96244,\n",
       "             0.9619,     0.96141,     0.96109,     0.96062,     0.96028,     0.96001,     0.95969,     0.95929,       0.959,     0.95864,     0.95841,     0.95804,     0.95774,     0.95737,     0.95687,     0.95667,     0.95605,     0.95568,      0.9555,      0.9552,     0.95486,     0.95452,     0.95414,\n",
       "            0.95354,     0.95308,     0.95267,     0.95223,     0.95177,     0.95128,     0.95065,     0.95008,     0.94965,     0.94912,     0.94872,     0.94831,     0.94752,     0.94706,     0.94626,     0.94566,     0.94526,     0.94471,     0.94407,     0.94373,     0.94321,     0.94259,     0.94187,\n",
       "            0.94095,     0.94044,      0.9398,     0.93931,     0.93878,     0.93819,     0.93759,     0.93702,     0.93629,     0.93541,     0.93449,       0.934,     0.93351,     0.93277,     0.93173,     0.93088,     0.93016,     0.92922,     0.92855,     0.92751,     0.92636,     0.92541,     0.92436,\n",
       "            0.92331,     0.92199,       0.921,     0.92003,     0.91906,     0.91824,     0.91723,     0.91631,     0.91503,     0.91405,     0.91291,     0.91191,     0.91065,     0.90926,     0.90791,     0.90675,     0.90545,     0.90419,     0.90281,     0.90137,     0.90016,      0.8985,      0.8966,\n",
       "            0.89498,     0.89313,     0.89167,     0.88953,     0.88768,     0.88568,     0.88355,     0.88165,     0.87916,      0.8768,     0.87429,     0.87137,     0.86884,     0.86573,     0.86308,     0.85993,     0.85684,     0.85385,     0.85047,     0.84694,     0.84325,     0.83917,     0.83561,\n",
       "            0.83153,     0.82795,      0.8237,     0.81893,     0.81423,     0.80908,     0.80424,     0.79914,     0.79268,     0.78615,     0.78022,      0.7741,     0.76781,     0.76116,     0.75301,      0.7449,     0.73659,     0.72803,     0.71931,     0.70982,     0.70121,     0.69116,     0.68013,\n",
       "            0.66843,     0.65737,     0.64538,     0.63299,     0.61946,      0.6065,     0.59269,     0.57928,     0.56507,     0.55083,     0.53548,     0.51894,     0.50233,     0.48479,     0.46765,      0.4494,     0.43183,     0.41309,     0.39198,     0.37275,     0.35274,     0.33383,     0.31333,\n",
       "            0.29631,     0.27768,     0.25925,     0.23816,     0.22006,     0.20187,      0.1856,     0.17046,      0.1548,     0.14096,     0.12608,     0.11217,    0.098528,    0.086494,    0.075552,    0.065866,    0.058341,    0.048638,    0.042754,    0.036089,    0.030807,    0.025928,    0.021876,\n",
       "           0.018813,    0.015987,    0.013163,    0.010597,    0.008627,   0.0066612,   0.0055027,     0.00443,   0.0037068,   0.0028772,   0.0023891,   0.0018049,   0.0012868,  0.00095868,    0.000742,  0.00050784,  0.00038087,  0.00029467,   0.0002117,  0.00017768,  0.00014525,  0.00013117,  0.00011709,\n",
       "         0.00010301,  8.8926e-05,  7.4843e-05,           0,           0,           0,           0,           0,           0,           0,           0,           0,           0,           0,           0,           0,           0,           0,           0,           0,           0,           0,           0,\n",
       "                  0,           0,           0,           0,           0,           0,           0,           0,           0,           0,           0]]), 'Confidence', 'F1'], [array([          0,    0.001001,    0.002002,    0.003003,    0.004004,    0.005005,    0.006006,    0.007007,    0.008008,    0.009009,     0.01001,    0.011011,    0.012012,    0.013013,    0.014014,    0.015015,    0.016016,    0.017017,    0.018018,    0.019019,     0.02002,    0.021021,    0.022022,    0.023023,\n",
       "          0.024024,    0.025025,    0.026026,    0.027027,    0.028028,    0.029029,     0.03003,    0.031031,    0.032032,    0.033033,    0.034034,    0.035035,    0.036036,    0.037037,    0.038038,    0.039039,     0.04004,    0.041041,    0.042042,    0.043043,    0.044044,    0.045045,    0.046046,    0.047047,\n",
       "          0.048048,    0.049049,     0.05005,    0.051051,    0.052052,    0.053053,    0.054054,    0.055055,    0.056056,    0.057057,    0.058058,    0.059059,     0.06006,    0.061061,    0.062062,    0.063063,    0.064064,    0.065065,    0.066066,    0.067067,    0.068068,    0.069069,     0.07007,    0.071071,\n",
       "          0.072072,    0.073073,    0.074074,    0.075075,    0.076076,    0.077077,    0.078078,    0.079079,     0.08008,    0.081081,    0.082082,    0.083083,    0.084084,    0.085085,    0.086086,    0.087087,    0.088088,    0.089089,     0.09009,    0.091091,    0.092092,    0.093093,    0.094094,    0.095095,\n",
       "          0.096096,    0.097097,    0.098098,    0.099099,      0.1001,      0.1011,      0.1021,      0.1031,      0.1041,     0.10511,     0.10611,     0.10711,     0.10811,     0.10911,     0.11011,     0.11111,     0.11211,     0.11311,     0.11411,     0.11512,     0.11612,     0.11712,     0.11812,     0.11912,\n",
       "           0.12012,     0.12112,     0.12212,     0.12312,     0.12412,     0.12513,     0.12613,     0.12713,     0.12813,     0.12913,     0.13013,     0.13113,     0.13213,     0.13313,     0.13413,     0.13514,     0.13614,     0.13714,     0.13814,     0.13914,     0.14014,     0.14114,     0.14214,     0.14314,\n",
       "           0.14414,     0.14515,     0.14615,     0.14715,     0.14815,     0.14915,     0.15015,     0.15115,     0.15215,     0.15315,     0.15415,     0.15516,     0.15616,     0.15716,     0.15816,     0.15916,     0.16016,     0.16116,     0.16216,     0.16316,     0.16416,     0.16517,     0.16617,     0.16717,\n",
       "           0.16817,     0.16917,     0.17017,     0.17117,     0.17217,     0.17317,     0.17417,     0.17518,     0.17618,     0.17718,     0.17818,     0.17918,     0.18018,     0.18118,     0.18218,     0.18318,     0.18418,     0.18519,     0.18619,     0.18719,     0.18819,     0.18919,     0.19019,     0.19119,\n",
       "           0.19219,     0.19319,     0.19419,      0.1952,      0.1962,      0.1972,      0.1982,      0.1992,      0.2002,      0.2012,      0.2022,      0.2032,      0.2042,     0.20521,     0.20621,     0.20721,     0.20821,     0.20921,     0.21021,     0.21121,     0.21221,     0.21321,     0.21421,     0.21522,\n",
       "           0.21622,     0.21722,     0.21822,     0.21922,     0.22022,     0.22122,     0.22222,     0.22322,     0.22422,     0.22523,     0.22623,     0.22723,     0.22823,     0.22923,     0.23023,     0.23123,     0.23223,     0.23323,     0.23423,     0.23524,     0.23624,     0.23724,     0.23824,     0.23924,\n",
       "           0.24024,     0.24124,     0.24224,     0.24324,     0.24424,     0.24525,     0.24625,     0.24725,     0.24825,     0.24925,     0.25025,     0.25125,     0.25225,     0.25325,     0.25425,     0.25526,     0.25626,     0.25726,     0.25826,     0.25926,     0.26026,     0.26126,     0.26226,     0.26326,\n",
       "           0.26426,     0.26527,     0.26627,     0.26727,     0.26827,     0.26927,     0.27027,     0.27127,     0.27227,     0.27327,     0.27427,     0.27528,     0.27628,     0.27728,     0.27828,     0.27928,     0.28028,     0.28128,     0.28228,     0.28328,     0.28428,     0.28529,     0.28629,     0.28729,\n",
       "           0.28829,     0.28929,     0.29029,     0.29129,     0.29229,     0.29329,     0.29429,      0.2953,      0.2963,      0.2973,      0.2983,      0.2993,      0.3003,      0.3013,      0.3023,      0.3033,      0.3043,     0.30531,     0.30631,     0.30731,     0.30831,     0.30931,     0.31031,     0.31131,\n",
       "           0.31231,     0.31331,     0.31431,     0.31532,     0.31632,     0.31732,     0.31832,     0.31932,     0.32032,     0.32132,     0.32232,     0.32332,     0.32432,     0.32533,     0.32633,     0.32733,     0.32833,     0.32933,     0.33033,     0.33133,     0.33233,     0.33333,     0.33433,     0.33534,\n",
       "           0.33634,     0.33734,     0.33834,     0.33934,     0.34034,     0.34134,     0.34234,     0.34334,     0.34434,     0.34535,     0.34635,     0.34735,     0.34835,     0.34935,     0.35035,     0.35135,     0.35235,     0.35335,     0.35435,     0.35536,     0.35636,     0.35736,     0.35836,     0.35936,\n",
       "           0.36036,     0.36136,     0.36236,     0.36336,     0.36436,     0.36537,     0.36637,     0.36737,     0.36837,     0.36937,     0.37037,     0.37137,     0.37237,     0.37337,     0.37437,     0.37538,     0.37638,     0.37738,     0.37838,     0.37938,     0.38038,     0.38138,     0.38238,     0.38338,\n",
       "           0.38438,     0.38539,     0.38639,     0.38739,     0.38839,     0.38939,     0.39039,     0.39139,     0.39239,     0.39339,     0.39439,      0.3954,      0.3964,      0.3974,      0.3984,      0.3994,      0.4004,      0.4014,      0.4024,      0.4034,      0.4044,     0.40541,     0.40641,     0.40741,\n",
       "           0.40841,     0.40941,     0.41041,     0.41141,     0.41241,     0.41341,     0.41441,     0.41542,     0.41642,     0.41742,     0.41842,     0.41942,     0.42042,     0.42142,     0.42242,     0.42342,     0.42442,     0.42543,     0.42643,     0.42743,     0.42843,     0.42943,     0.43043,     0.43143,\n",
       "           0.43243,     0.43343,     0.43443,     0.43544,     0.43644,     0.43744,     0.43844,     0.43944,     0.44044,     0.44144,     0.44244,     0.44344,     0.44444,     0.44545,     0.44645,     0.44745,     0.44845,     0.44945,     0.45045,     0.45145,     0.45245,     0.45345,     0.45445,     0.45546,\n",
       "           0.45646,     0.45746,     0.45846,     0.45946,     0.46046,     0.46146,     0.46246,     0.46346,     0.46446,     0.46547,     0.46647,     0.46747,     0.46847,     0.46947,     0.47047,     0.47147,     0.47247,     0.47347,     0.47447,     0.47548,     0.47648,     0.47748,     0.47848,     0.47948,\n",
       "           0.48048,     0.48148,     0.48248,     0.48348,     0.48448,     0.48549,     0.48649,     0.48749,     0.48849,     0.48949,     0.49049,     0.49149,     0.49249,     0.49349,     0.49449,      0.4955,      0.4965,      0.4975,      0.4985,      0.4995,      0.5005,      0.5015,      0.5025,      0.5035,\n",
       "            0.5045,     0.50551,     0.50651,     0.50751,     0.50851,     0.50951,     0.51051,     0.51151,     0.51251,     0.51351,     0.51451,     0.51552,     0.51652,     0.51752,     0.51852,     0.51952,     0.52052,     0.52152,     0.52252,     0.52352,     0.52452,     0.52553,     0.52653,     0.52753,\n",
       "           0.52853,     0.52953,     0.53053,     0.53153,     0.53253,     0.53353,     0.53453,     0.53554,     0.53654,     0.53754,     0.53854,     0.53954,     0.54054,     0.54154,     0.54254,     0.54354,     0.54454,     0.54555,     0.54655,     0.54755,     0.54855,     0.54955,     0.55055,     0.55155,\n",
       "           0.55255,     0.55355,     0.55455,     0.55556,     0.55656,     0.55756,     0.55856,     0.55956,     0.56056,     0.56156,     0.56256,     0.56356,     0.56456,     0.56557,     0.56657,     0.56757,     0.56857,     0.56957,     0.57057,     0.57157,     0.57257,     0.57357,     0.57457,     0.57558,\n",
       "           0.57658,     0.57758,     0.57858,     0.57958,     0.58058,     0.58158,     0.58258,     0.58358,     0.58458,     0.58559,     0.58659,     0.58759,     0.58859,     0.58959,     0.59059,     0.59159,     0.59259,     0.59359,     0.59459,      0.5956,      0.5966,      0.5976,      0.5986,      0.5996,\n",
       "            0.6006,      0.6016,      0.6026,      0.6036,      0.6046,     0.60561,     0.60661,     0.60761,     0.60861,     0.60961,     0.61061,     0.61161,     0.61261,     0.61361,     0.61461,     0.61562,     0.61662,     0.61762,     0.61862,     0.61962,     0.62062,     0.62162,     0.62262,     0.62362,\n",
       "           0.62462,     0.62563,     0.62663,     0.62763,     0.62863,     0.62963,     0.63063,     0.63163,     0.63263,     0.63363,     0.63463,     0.63564,     0.63664,     0.63764,     0.63864,     0.63964,     0.64064,     0.64164,     0.64264,     0.64364,     0.64464,     0.64565,     0.64665,     0.64765,\n",
       "           0.64865,     0.64965,     0.65065,     0.65165,     0.65265,     0.65365,     0.65465,     0.65566,     0.65666,     0.65766,     0.65866,     0.65966,     0.66066,     0.66166,     0.66266,     0.66366,     0.66466,     0.66567,     0.66667,     0.66767,     0.66867,     0.66967,     0.67067,     0.67167,\n",
       "           0.67267,     0.67367,     0.67467,     0.67568,     0.67668,     0.67768,     0.67868,     0.67968,     0.68068,     0.68168,     0.68268,     0.68368,     0.68468,     0.68569,     0.68669,     0.68769,     0.68869,     0.68969,     0.69069,     0.69169,     0.69269,     0.69369,     0.69469,      0.6957,\n",
       "            0.6967,      0.6977,      0.6987,      0.6997,      0.7007,      0.7017,      0.7027,      0.7037,      0.7047,     0.70571,     0.70671,     0.70771,     0.70871,     0.70971,     0.71071,     0.71171,     0.71271,     0.71371,     0.71471,     0.71572,     0.71672,     0.71772,     0.71872,     0.71972,\n",
       "           0.72072,     0.72172,     0.72272,     0.72372,     0.72472,     0.72573,     0.72673,     0.72773,     0.72873,     0.72973,     0.73073,     0.73173,     0.73273,     0.73373,     0.73473,     0.73574,     0.73674,     0.73774,     0.73874,     0.73974,     0.74074,     0.74174,     0.74274,     0.74374,\n",
       "           0.74474,     0.74575,     0.74675,     0.74775,     0.74875,     0.74975,     0.75075,     0.75175,     0.75275,     0.75375,     0.75475,     0.75576,     0.75676,     0.75776,     0.75876,     0.75976,     0.76076,     0.76176,     0.76276,     0.76376,     0.76476,     0.76577,     0.76677,     0.76777,\n",
       "           0.76877,     0.76977,     0.77077,     0.77177,     0.77277,     0.77377,     0.77477,     0.77578,     0.77678,     0.77778,     0.77878,     0.77978,     0.78078,     0.78178,     0.78278,     0.78378,     0.78478,     0.78579,     0.78679,     0.78779,     0.78879,     0.78979,     0.79079,     0.79179,\n",
       "           0.79279,     0.79379,     0.79479,      0.7958,      0.7968,      0.7978,      0.7988,      0.7998,      0.8008,      0.8018,      0.8028,      0.8038,      0.8048,     0.80581,     0.80681,     0.80781,     0.80881,     0.80981,     0.81081,     0.81181,     0.81281,     0.81381,     0.81481,     0.81582,\n",
       "           0.81682,     0.81782,     0.81882,     0.81982,     0.82082,     0.82182,     0.82282,     0.82382,     0.82482,     0.82583,     0.82683,     0.82783,     0.82883,     0.82983,     0.83083,     0.83183,     0.83283,     0.83383,     0.83483,     0.83584,     0.83684,     0.83784,     0.83884,     0.83984,\n",
       "           0.84084,     0.84184,     0.84284,     0.84384,     0.84484,     0.84585,     0.84685,     0.84785,     0.84885,     0.84985,     0.85085,     0.85185,     0.85285,     0.85385,     0.85485,     0.85586,     0.85686,     0.85786,     0.85886,     0.85986,     0.86086,     0.86186,     0.86286,     0.86386,\n",
       "           0.86486,     0.86587,     0.86687,     0.86787,     0.86887,     0.86987,     0.87087,     0.87187,     0.87287,     0.87387,     0.87487,     0.87588,     0.87688,     0.87788,     0.87888,     0.87988,     0.88088,     0.88188,     0.88288,     0.88388,     0.88488,     0.88589,     0.88689,     0.88789,\n",
       "           0.88889,     0.88989,     0.89089,     0.89189,     0.89289,     0.89389,     0.89489,      0.8959,      0.8969,      0.8979,      0.8989,      0.8999,      0.9009,      0.9019,      0.9029,      0.9039,      0.9049,     0.90591,     0.90691,     0.90791,     0.90891,     0.90991,     0.91091,     0.91191,\n",
       "           0.91291,     0.91391,     0.91491,     0.91592,     0.91692,     0.91792,     0.91892,     0.91992,     0.92092,     0.92192,     0.92292,     0.92392,     0.92492,     0.92593,     0.92693,     0.92793,     0.92893,     0.92993,     0.93093,     0.93193,     0.93293,     0.93393,     0.93493,     0.93594,\n",
       "           0.93694,     0.93794,     0.93894,     0.93994,     0.94094,     0.94194,     0.94294,     0.94394,     0.94494,     0.94595,     0.94695,     0.94795,     0.94895,     0.94995,     0.95095,     0.95195,     0.95295,     0.95395,     0.95495,     0.95596,     0.95696,     0.95796,     0.95896,     0.95996,\n",
       "           0.96096,     0.96196,     0.96296,     0.96396,     0.96496,     0.96597,     0.96697,     0.96797,     0.96897,     0.96997,     0.97097,     0.97197,     0.97297,     0.97397,     0.97497,     0.97598,     0.97698,     0.97798,     0.97898,     0.97998,     0.98098,     0.98198,     0.98298,     0.98398,\n",
       "           0.98498,     0.98599,     0.98699,     0.98799,     0.98899,     0.98999,     0.99099,     0.99199,     0.99299,     0.99399,     0.99499,       0.996,       0.997,       0.998,       0.999,           1]), array([[    0.81632,      0.8164,     0.87161,     0.89432,     0.90696,     0.91636,     0.92184,     0.92648,     0.93043,      0.9338,     0.93682,     0.93868,     0.94072,      0.9423,     0.94369,     0.94482,     0.94595,     0.94693,     0.94782,      0.9485,     0.94953,     0.95057,     0.95164,\n",
       "            0.95255,     0.95303,     0.95374,     0.95444,     0.95493,     0.95541,     0.95574,     0.95632,     0.95694,     0.95753,     0.95799,      0.9585,     0.95921,     0.95958,      0.9599,     0.96013,     0.96065,     0.96099,     0.96126,      0.9616,      0.9618,      0.9621,     0.96246,\n",
       "            0.96276,     0.96295,     0.96325,     0.96365,     0.96392,     0.96427,     0.96442,     0.96466,     0.96479,     0.96501,      0.9654,     0.96557,     0.96565,     0.96576,     0.96602,     0.96616,     0.96633,     0.96646,     0.96665,     0.96699,     0.96711,     0.96742,     0.96767,\n",
       "             0.9679,     0.96804,     0.96819,     0.96841,     0.96851,     0.96863,     0.96875,     0.96898,     0.96911,     0.96916,     0.96923,      0.9694,     0.96951,     0.96958,     0.96973,     0.96992,     0.96999,     0.97007,     0.97024,     0.97032,     0.97035,     0.97045,     0.97073,\n",
       "            0.97085,     0.97095,      0.9711,     0.97117,     0.97127,     0.97143,      0.9715,     0.97169,     0.97185,     0.97202,     0.97206,      0.9721,     0.97218,     0.97232,     0.97244,     0.97247,     0.97249,     0.97251,     0.97269,     0.97275,     0.97288,     0.97307,     0.97314,\n",
       "            0.97324,     0.97341,     0.97354,      0.9736,     0.97368,     0.97374,      0.9738,     0.97389,     0.97397,     0.97413,      0.9743,     0.97436,     0.97438,     0.97441,     0.97444,     0.97445,     0.97454,     0.97469,     0.97479,     0.97484,     0.97487,     0.97495,       0.975,\n",
       "            0.97506,     0.97509,     0.97514,     0.97522,     0.97529,      0.9754,     0.97548,     0.97555,     0.97559,      0.9756,     0.97562,     0.97567,     0.97577,     0.97579,     0.97586,     0.97589,     0.97597,     0.97601,     0.97604,     0.97613,     0.97617,     0.97619,     0.97621,\n",
       "            0.97623,     0.97629,     0.97644,     0.97649,     0.97665,     0.97669,     0.97675,     0.97681,     0.97684,     0.97688,     0.97691,     0.97691,     0.97694,     0.97703,     0.97704,     0.97707,     0.97711,     0.97716,     0.97716,      0.9772,     0.97722,     0.97728,     0.97731,\n",
       "            0.97732,     0.97734,     0.97737,     0.97738,     0.97739,     0.97741,     0.97749,     0.97753,     0.97759,     0.97766,     0.97769,     0.97772,     0.97772,     0.97772,     0.97772,     0.97779,     0.97786,     0.97792,       0.978,     0.97808,      0.9781,     0.97811,     0.97813,\n",
       "            0.97814,     0.97818,     0.97821,     0.97826,      0.9783,     0.97834,     0.97839,      0.9784,     0.97841,     0.97842,     0.97847,     0.97851,     0.97855,     0.97858,     0.97864,     0.97871,     0.97874,     0.97877,     0.97881,     0.97881,      0.9789,     0.97895,     0.97895,\n",
       "            0.97906,     0.97909,     0.97909,     0.97909,     0.97909,     0.97909,     0.97912,     0.97917,     0.97919,     0.97921,     0.97922,     0.97924,     0.97926,     0.97931,     0.97934,     0.97934,     0.97933,     0.97935,     0.97939,     0.97941,     0.97943,     0.97951,     0.97953,\n",
       "            0.97958,     0.97958,     0.97962,     0.97963,     0.97965,     0.97969,     0.97972,     0.97976,     0.97978,     0.97979,     0.97982,     0.97986,     0.97991,     0.97993,     0.97993,     0.97997,     0.97999,     0.98001,     0.98002,     0.98003,     0.98005,     0.98009,     0.98013,\n",
       "            0.98017,     0.98019,     0.98021,     0.98022,     0.98024,     0.98026,      0.9803,     0.98033,     0.98035,     0.98039,     0.98039,     0.98044,     0.98048,     0.98052,     0.98057,      0.9806,     0.98063,     0.98066,     0.98068,     0.98071,     0.98083,     0.98089,     0.98091,\n",
       "            0.98092,     0.98093,     0.98095,     0.98096,     0.98097,     0.98104,     0.98107,     0.98109,      0.9811,     0.98111,     0.98113,     0.98115,     0.98116,      0.9812,     0.98128,     0.98132,     0.98133,     0.98134,     0.98135,     0.98142,     0.98142,     0.98142,     0.98142,\n",
       "            0.98149,     0.98151,     0.98156,     0.98159,     0.98159,     0.98163,     0.98165,     0.98167,      0.9817,     0.98172,     0.98173,     0.98179,     0.98184,     0.98184,     0.98184,     0.98184,     0.98184,     0.98184,     0.98185,     0.98186,     0.98189,     0.98198,     0.98201,\n",
       "            0.98205,     0.98213,     0.98212,     0.98213,     0.98215,     0.98216,     0.98218,     0.98221,     0.98225,     0.98227,     0.98227,     0.98227,     0.98234,     0.98234,     0.98235,     0.98239,     0.98243,     0.98247,     0.98251,     0.98255,     0.98255,     0.98257,      0.9826,\n",
       "            0.98262,     0.98266,      0.9827,     0.98283,     0.98283,     0.98283,     0.98287,     0.98291,     0.98293,     0.98294,     0.98295,     0.98301,     0.98303,     0.98307,     0.98309,     0.98311,     0.98311,     0.98311,     0.98312,     0.98315,     0.98315,     0.98323,     0.98329,\n",
       "            0.98332,     0.98333,     0.98333,     0.98336,     0.98345,     0.98348,     0.98349,     0.98354,     0.98354,     0.98361,     0.98363,     0.98365,     0.98364,     0.98368,     0.98372,     0.98371,     0.98375,     0.98376,     0.98378,     0.98382,     0.98388,      0.9839,     0.98392,\n",
       "            0.98393,     0.98393,     0.98392,     0.98392,     0.98394,     0.98397,       0.984,     0.98402,     0.98404,     0.98406,     0.98414,     0.98414,     0.98414,     0.98414,     0.98416,     0.98421,     0.98421,     0.98421,     0.98421,     0.98421,     0.98421,     0.98423,     0.98424,\n",
       "            0.98424,     0.98424,     0.98427,     0.98432,     0.98438,     0.98438,     0.98438,     0.98438,     0.98438,      0.9844,     0.98447,     0.98452,     0.98452,     0.98452,     0.98452,     0.98452,     0.98452,     0.98454,     0.98455,     0.98456,     0.98459,     0.98459,     0.98459,\n",
       "            0.98461,     0.98471,     0.98474,     0.98475,     0.98477,     0.98483,      0.9849,     0.98492,     0.98491,     0.98491,     0.98491,     0.98492,     0.98493,     0.98495,     0.98506,     0.98509,     0.98513,     0.98513,     0.98514,     0.98522,     0.98527,     0.98527,     0.98528,\n",
       "             0.9853,     0.98534,     0.98534,     0.98537,     0.98539,     0.98541,     0.98541,     0.98541,     0.98545,     0.98548,     0.98548,     0.98551,     0.98555,     0.98555,     0.98558,     0.98558,     0.98558,     0.98558,     0.98566,     0.98573,     0.98575,     0.98587,     0.98587,\n",
       "            0.98588,      0.9859,      0.9859,     0.98594,     0.98594,     0.98596,     0.98597,     0.98597,     0.98603,     0.98608,     0.98612,     0.98612,     0.98612,     0.98615,     0.98615,     0.98615,     0.98616,     0.98618,      0.9862,     0.98623,     0.98625,     0.98626,     0.98631,\n",
       "            0.98637,     0.98637,     0.98637,     0.98636,     0.98636,     0.98636,     0.98636,      0.9864,      0.9864,     0.98644,     0.98646,     0.98647,     0.98647,     0.98649,      0.9865,      0.9865,     0.98656,     0.98658,     0.98657,     0.98657,     0.98661,     0.98662,     0.98664,\n",
       "            0.98664,     0.98668,     0.98668,     0.98669,     0.98672,     0.98675,     0.98682,     0.98689,     0.98695,     0.98696,     0.98704,     0.98703,     0.98708,     0.98713,     0.98714,     0.98714,     0.98714,     0.98717,     0.98728,     0.98734,     0.98739,     0.98739,     0.98739,\n",
       "            0.98739,     0.98742,     0.98746,     0.98746,     0.98746,     0.98746,     0.98749,     0.98749,     0.98749,     0.98752,     0.98756,     0.98756,     0.98756,     0.98763,     0.98763,     0.98766,     0.98766,     0.98766,     0.98769,     0.98773,     0.98774,      0.9878,     0.98791,\n",
       "            0.98791,     0.98791,     0.98791,      0.9879,      0.9879,     0.98794,     0.98794,     0.98802,     0.98815,     0.98815,     0.98815,     0.98815,     0.98819,     0.98819,     0.98819,     0.98822,     0.98822,     0.98822,     0.98825,     0.98825,     0.98825,     0.98829,     0.98832,\n",
       "            0.98832,     0.98834,     0.98835,     0.98835,     0.98839,     0.98839,     0.98839,     0.98842,     0.98842,     0.98845,     0.98845,     0.98853,     0.98852,     0.98853,     0.98859,     0.98859,     0.98859,     0.98859,     0.98862,     0.98862,     0.98862,     0.98862,     0.98862,\n",
       "            0.98865,     0.98869,     0.98874,     0.98879,     0.98883,     0.98883,     0.98882,     0.98882,     0.98882,     0.98882,     0.98885,     0.98892,     0.98892,     0.98896,     0.98899,     0.98899,     0.98899,     0.98902,     0.98909,     0.98913,     0.98913,     0.98917,     0.98916,\n",
       "             0.9892,      0.9892,      0.9892,     0.98923,     0.98923,     0.98926,      0.9893,     0.98929,      0.9893,     0.98936,      0.9894,     0.98939,     0.98941,     0.98943,     0.98942,     0.98942,     0.98941,     0.98941,     0.98948,     0.98963,     0.98963,     0.98962,     0.98966,\n",
       "            0.98966,     0.98966,     0.98969,     0.98976,      0.9898,      0.9898,     0.98983,     0.98983,     0.98982,     0.98997,     0.98997,     0.99004,     0.99007,     0.99014,     0.99014,     0.99021,     0.99025,     0.99025,     0.99028,     0.99028,     0.99027,      0.9903,      0.9903,\n",
       "             0.9903,      0.9904,      0.9904,      0.9904,     0.99044,     0.99043,      0.9905,      0.9905,     0.99053,     0.99056,      0.9906,     0.99078,     0.99081,     0.99089,     0.99092,     0.99092,     0.99096,     0.99095,     0.99099,     0.99098,     0.99105,     0.99105,     0.99116,\n",
       "            0.99123,     0.99127,     0.99126,     0.99144,     0.99144,     0.99144,     0.99151,     0.99154,     0.99157,     0.99161,      0.9916,     0.99171,     0.99171,     0.99174,     0.99178,     0.99181,     0.99184,     0.99183,     0.99183,     0.99194,     0.99201,       0.992,       0.992,\n",
       "            0.99199,     0.99198,     0.99209,     0.99208,     0.99212,     0.99215,     0.99226,     0.99229,     0.99233,      0.9924,     0.99244,     0.99243,     0.99243,     0.99254,     0.99253,     0.99256,     0.99256,     0.99259,     0.99262,     0.99262,     0.99262,     0.99265,     0.99272,\n",
       "            0.99275,     0.99282,     0.99282,     0.99285,     0.99296,     0.99295,     0.99295,     0.99298,     0.99301,       0.993,     0.99304,     0.99315,     0.99318,     0.99321,      0.9932,     0.99324,     0.99334,     0.99334,     0.99333,     0.99333,      0.9934,     0.99339,     0.99346,\n",
       "            0.99345,     0.99344,      0.9935,     0.99351,     0.99354,     0.99358,     0.99365,     0.99364,      0.9938,     0.99382,      0.9939,     0.99389,     0.99396,     0.99404,     0.99407,      0.9941,     0.99413,     0.99416,     0.99424,     0.99426,     0.99442,     0.99441,     0.99448,\n",
       "            0.99447,     0.99445,     0.99448,      0.9946,     0.99463,     0.99466,     0.99474,     0.99481,     0.99484,     0.99487,     0.99491,     0.99498,     0.99505,     0.99513,     0.99511,     0.99515,     0.99518,     0.99516,     0.99524,     0.99531,      0.9953,     0.99542,     0.99549,\n",
       "            0.99547,      0.9955,     0.99553,     0.99551,      0.9955,     0.99548,     0.99546,      0.9956,      0.9956,     0.99572,     0.99574,     0.99577,     0.99584,     0.99595,     0.99603,       0.996,     0.99602,     0.99615,     0.99612,     0.99609,     0.99611,     0.99628,     0.99625,\n",
       "            0.99622,     0.99619,     0.99621,     0.99638,      0.9964,     0.99647,     0.99654,     0.99661,     0.99656,     0.99663,     0.99676,     0.99677,     0.99684,     0.99692,     0.99698,     0.99699,       0.997,     0.99695,     0.99721,     0.99715,     0.99717,     0.99717,     0.99724,\n",
       "            0.99717,     0.99725,     0.99747,      0.9974,     0.99732,     0.99732,      0.9974,      0.9975,      0.9975,     0.99751,     0.99771,     0.99761,     0.99761,     0.99772,     0.99773,     0.99786,     0.99801,      0.9979,      0.9982,     0.99809,     0.99795,     0.99781,     0.99784,\n",
       "             0.9979,     0.99774,     0.99804,     0.99838,     0.99823,     0.99805,     0.99821,     0.99843,     0.99826,     0.99807,     0.99783,     0.99877,     0.99859,     0.99919,     0.99907,     0.99893,     0.99878,     0.99853,     0.99833,     0.99801,     0.99767,           1,           1,\n",
       "                  1,           1,           1,           1,           1,           1,           1,           1,           1,           1,           1,           1,           1,           1,           1,           1,           1,           1,           1,           1,           1,           1,           1,\n",
       "                  1,           1,           1,           1,           1,           1,           1,           1,           1,           1,           1,           1,           1,           1,           1,           1,           1,           1,           1,           1,           1,           1,           1,\n",
       "                  1,           1,           1,           1,           1,           1,           1,           1,           1,           1,           1]]), 'Confidence', 'Precision'], [array([          0,    0.001001,    0.002002,    0.003003,    0.004004,    0.005005,    0.006006,    0.007007,    0.008008,    0.009009,     0.01001,    0.011011,    0.012012,    0.013013,    0.014014,    0.015015,    0.016016,    0.017017,    0.018018,    0.019019,     0.02002,    0.021021,    0.022022,    0.023023,\n",
       "          0.024024,    0.025025,    0.026026,    0.027027,    0.028028,    0.029029,     0.03003,    0.031031,    0.032032,    0.033033,    0.034034,    0.035035,    0.036036,    0.037037,    0.038038,    0.039039,     0.04004,    0.041041,    0.042042,    0.043043,    0.044044,    0.045045,    0.046046,    0.047047,\n",
       "          0.048048,    0.049049,     0.05005,    0.051051,    0.052052,    0.053053,    0.054054,    0.055055,    0.056056,    0.057057,    0.058058,    0.059059,     0.06006,    0.061061,    0.062062,    0.063063,    0.064064,    0.065065,    0.066066,    0.067067,    0.068068,    0.069069,     0.07007,    0.071071,\n",
       "          0.072072,    0.073073,    0.074074,    0.075075,    0.076076,    0.077077,    0.078078,    0.079079,     0.08008,    0.081081,    0.082082,    0.083083,    0.084084,    0.085085,    0.086086,    0.087087,    0.088088,    0.089089,     0.09009,    0.091091,    0.092092,    0.093093,    0.094094,    0.095095,\n",
       "          0.096096,    0.097097,    0.098098,    0.099099,      0.1001,      0.1011,      0.1021,      0.1031,      0.1041,     0.10511,     0.10611,     0.10711,     0.10811,     0.10911,     0.11011,     0.11111,     0.11211,     0.11311,     0.11411,     0.11512,     0.11612,     0.11712,     0.11812,     0.11912,\n",
       "           0.12012,     0.12112,     0.12212,     0.12312,     0.12412,     0.12513,     0.12613,     0.12713,     0.12813,     0.12913,     0.13013,     0.13113,     0.13213,     0.13313,     0.13413,     0.13514,     0.13614,     0.13714,     0.13814,     0.13914,     0.14014,     0.14114,     0.14214,     0.14314,\n",
       "           0.14414,     0.14515,     0.14615,     0.14715,     0.14815,     0.14915,     0.15015,     0.15115,     0.15215,     0.15315,     0.15415,     0.15516,     0.15616,     0.15716,     0.15816,     0.15916,     0.16016,     0.16116,     0.16216,     0.16316,     0.16416,     0.16517,     0.16617,     0.16717,\n",
       "           0.16817,     0.16917,     0.17017,     0.17117,     0.17217,     0.17317,     0.17417,     0.17518,     0.17618,     0.17718,     0.17818,     0.17918,     0.18018,     0.18118,     0.18218,     0.18318,     0.18418,     0.18519,     0.18619,     0.18719,     0.18819,     0.18919,     0.19019,     0.19119,\n",
       "           0.19219,     0.19319,     0.19419,      0.1952,      0.1962,      0.1972,      0.1982,      0.1992,      0.2002,      0.2012,      0.2022,      0.2032,      0.2042,     0.20521,     0.20621,     0.20721,     0.20821,     0.20921,     0.21021,     0.21121,     0.21221,     0.21321,     0.21421,     0.21522,\n",
       "           0.21622,     0.21722,     0.21822,     0.21922,     0.22022,     0.22122,     0.22222,     0.22322,     0.22422,     0.22523,     0.22623,     0.22723,     0.22823,     0.22923,     0.23023,     0.23123,     0.23223,     0.23323,     0.23423,     0.23524,     0.23624,     0.23724,     0.23824,     0.23924,\n",
       "           0.24024,     0.24124,     0.24224,     0.24324,     0.24424,     0.24525,     0.24625,     0.24725,     0.24825,     0.24925,     0.25025,     0.25125,     0.25225,     0.25325,     0.25425,     0.25526,     0.25626,     0.25726,     0.25826,     0.25926,     0.26026,     0.26126,     0.26226,     0.26326,\n",
       "           0.26426,     0.26527,     0.26627,     0.26727,     0.26827,     0.26927,     0.27027,     0.27127,     0.27227,     0.27327,     0.27427,     0.27528,     0.27628,     0.27728,     0.27828,     0.27928,     0.28028,     0.28128,     0.28228,     0.28328,     0.28428,     0.28529,     0.28629,     0.28729,\n",
       "           0.28829,     0.28929,     0.29029,     0.29129,     0.29229,     0.29329,     0.29429,      0.2953,      0.2963,      0.2973,      0.2983,      0.2993,      0.3003,      0.3013,      0.3023,      0.3033,      0.3043,     0.30531,     0.30631,     0.30731,     0.30831,     0.30931,     0.31031,     0.31131,\n",
       "           0.31231,     0.31331,     0.31431,     0.31532,     0.31632,     0.31732,     0.31832,     0.31932,     0.32032,     0.32132,     0.32232,     0.32332,     0.32432,     0.32533,     0.32633,     0.32733,     0.32833,     0.32933,     0.33033,     0.33133,     0.33233,     0.33333,     0.33433,     0.33534,\n",
       "           0.33634,     0.33734,     0.33834,     0.33934,     0.34034,     0.34134,     0.34234,     0.34334,     0.34434,     0.34535,     0.34635,     0.34735,     0.34835,     0.34935,     0.35035,     0.35135,     0.35235,     0.35335,     0.35435,     0.35536,     0.35636,     0.35736,     0.35836,     0.35936,\n",
       "           0.36036,     0.36136,     0.36236,     0.36336,     0.36436,     0.36537,     0.36637,     0.36737,     0.36837,     0.36937,     0.37037,     0.37137,     0.37237,     0.37337,     0.37437,     0.37538,     0.37638,     0.37738,     0.37838,     0.37938,     0.38038,     0.38138,     0.38238,     0.38338,\n",
       "           0.38438,     0.38539,     0.38639,     0.38739,     0.38839,     0.38939,     0.39039,     0.39139,     0.39239,     0.39339,     0.39439,      0.3954,      0.3964,      0.3974,      0.3984,      0.3994,      0.4004,      0.4014,      0.4024,      0.4034,      0.4044,     0.40541,     0.40641,     0.40741,\n",
       "           0.40841,     0.40941,     0.41041,     0.41141,     0.41241,     0.41341,     0.41441,     0.41542,     0.41642,     0.41742,     0.41842,     0.41942,     0.42042,     0.42142,     0.42242,     0.42342,     0.42442,     0.42543,     0.42643,     0.42743,     0.42843,     0.42943,     0.43043,     0.43143,\n",
       "           0.43243,     0.43343,     0.43443,     0.43544,     0.43644,     0.43744,     0.43844,     0.43944,     0.44044,     0.44144,     0.44244,     0.44344,     0.44444,     0.44545,     0.44645,     0.44745,     0.44845,     0.44945,     0.45045,     0.45145,     0.45245,     0.45345,     0.45445,     0.45546,\n",
       "           0.45646,     0.45746,     0.45846,     0.45946,     0.46046,     0.46146,     0.46246,     0.46346,     0.46446,     0.46547,     0.46647,     0.46747,     0.46847,     0.46947,     0.47047,     0.47147,     0.47247,     0.47347,     0.47447,     0.47548,     0.47648,     0.47748,     0.47848,     0.47948,\n",
       "           0.48048,     0.48148,     0.48248,     0.48348,     0.48448,     0.48549,     0.48649,     0.48749,     0.48849,     0.48949,     0.49049,     0.49149,     0.49249,     0.49349,     0.49449,      0.4955,      0.4965,      0.4975,      0.4985,      0.4995,      0.5005,      0.5015,      0.5025,      0.5035,\n",
       "            0.5045,     0.50551,     0.50651,     0.50751,     0.50851,     0.50951,     0.51051,     0.51151,     0.51251,     0.51351,     0.51451,     0.51552,     0.51652,     0.51752,     0.51852,     0.51952,     0.52052,     0.52152,     0.52252,     0.52352,     0.52452,     0.52553,     0.52653,     0.52753,\n",
       "           0.52853,     0.52953,     0.53053,     0.53153,     0.53253,     0.53353,     0.53453,     0.53554,     0.53654,     0.53754,     0.53854,     0.53954,     0.54054,     0.54154,     0.54254,     0.54354,     0.54454,     0.54555,     0.54655,     0.54755,     0.54855,     0.54955,     0.55055,     0.55155,\n",
       "           0.55255,     0.55355,     0.55455,     0.55556,     0.55656,     0.55756,     0.55856,     0.55956,     0.56056,     0.56156,     0.56256,     0.56356,     0.56456,     0.56557,     0.56657,     0.56757,     0.56857,     0.56957,     0.57057,     0.57157,     0.57257,     0.57357,     0.57457,     0.57558,\n",
       "           0.57658,     0.57758,     0.57858,     0.57958,     0.58058,     0.58158,     0.58258,     0.58358,     0.58458,     0.58559,     0.58659,     0.58759,     0.58859,     0.58959,     0.59059,     0.59159,     0.59259,     0.59359,     0.59459,      0.5956,      0.5966,      0.5976,      0.5986,      0.5996,\n",
       "            0.6006,      0.6016,      0.6026,      0.6036,      0.6046,     0.60561,     0.60661,     0.60761,     0.60861,     0.60961,     0.61061,     0.61161,     0.61261,     0.61361,     0.61461,     0.61562,     0.61662,     0.61762,     0.61862,     0.61962,     0.62062,     0.62162,     0.62262,     0.62362,\n",
       "           0.62462,     0.62563,     0.62663,     0.62763,     0.62863,     0.62963,     0.63063,     0.63163,     0.63263,     0.63363,     0.63463,     0.63564,     0.63664,     0.63764,     0.63864,     0.63964,     0.64064,     0.64164,     0.64264,     0.64364,     0.64464,     0.64565,     0.64665,     0.64765,\n",
       "           0.64865,     0.64965,     0.65065,     0.65165,     0.65265,     0.65365,     0.65465,     0.65566,     0.65666,     0.65766,     0.65866,     0.65966,     0.66066,     0.66166,     0.66266,     0.66366,     0.66466,     0.66567,     0.66667,     0.66767,     0.66867,     0.66967,     0.67067,     0.67167,\n",
       "           0.67267,     0.67367,     0.67467,     0.67568,     0.67668,     0.67768,     0.67868,     0.67968,     0.68068,     0.68168,     0.68268,     0.68368,     0.68468,     0.68569,     0.68669,     0.68769,     0.68869,     0.68969,     0.69069,     0.69169,     0.69269,     0.69369,     0.69469,      0.6957,\n",
       "            0.6967,      0.6977,      0.6987,      0.6997,      0.7007,      0.7017,      0.7027,      0.7037,      0.7047,     0.70571,     0.70671,     0.70771,     0.70871,     0.70971,     0.71071,     0.71171,     0.71271,     0.71371,     0.71471,     0.71572,     0.71672,     0.71772,     0.71872,     0.71972,\n",
       "           0.72072,     0.72172,     0.72272,     0.72372,     0.72472,     0.72573,     0.72673,     0.72773,     0.72873,     0.72973,     0.73073,     0.73173,     0.73273,     0.73373,     0.73473,     0.73574,     0.73674,     0.73774,     0.73874,     0.73974,     0.74074,     0.74174,     0.74274,     0.74374,\n",
       "           0.74474,     0.74575,     0.74675,     0.74775,     0.74875,     0.74975,     0.75075,     0.75175,     0.75275,     0.75375,     0.75475,     0.75576,     0.75676,     0.75776,     0.75876,     0.75976,     0.76076,     0.76176,     0.76276,     0.76376,     0.76476,     0.76577,     0.76677,     0.76777,\n",
       "           0.76877,     0.76977,     0.77077,     0.77177,     0.77277,     0.77377,     0.77477,     0.77578,     0.77678,     0.77778,     0.77878,     0.77978,     0.78078,     0.78178,     0.78278,     0.78378,     0.78478,     0.78579,     0.78679,     0.78779,     0.78879,     0.78979,     0.79079,     0.79179,\n",
       "           0.79279,     0.79379,     0.79479,      0.7958,      0.7968,      0.7978,      0.7988,      0.7998,      0.8008,      0.8018,      0.8028,      0.8038,      0.8048,     0.80581,     0.80681,     0.80781,     0.80881,     0.80981,     0.81081,     0.81181,     0.81281,     0.81381,     0.81481,     0.81582,\n",
       "           0.81682,     0.81782,     0.81882,     0.81982,     0.82082,     0.82182,     0.82282,     0.82382,     0.82482,     0.82583,     0.82683,     0.82783,     0.82883,     0.82983,     0.83083,     0.83183,     0.83283,     0.83383,     0.83483,     0.83584,     0.83684,     0.83784,     0.83884,     0.83984,\n",
       "           0.84084,     0.84184,     0.84284,     0.84384,     0.84484,     0.84585,     0.84685,     0.84785,     0.84885,     0.84985,     0.85085,     0.85185,     0.85285,     0.85385,     0.85485,     0.85586,     0.85686,     0.85786,     0.85886,     0.85986,     0.86086,     0.86186,     0.86286,     0.86386,\n",
       "           0.86486,     0.86587,     0.86687,     0.86787,     0.86887,     0.86987,     0.87087,     0.87187,     0.87287,     0.87387,     0.87487,     0.87588,     0.87688,     0.87788,     0.87888,     0.87988,     0.88088,     0.88188,     0.88288,     0.88388,     0.88488,     0.88589,     0.88689,     0.88789,\n",
       "           0.88889,     0.88989,     0.89089,     0.89189,     0.89289,     0.89389,     0.89489,      0.8959,      0.8969,      0.8979,      0.8989,      0.8999,      0.9009,      0.9019,      0.9029,      0.9039,      0.9049,     0.90591,     0.90691,     0.90791,     0.90891,     0.90991,     0.91091,     0.91191,\n",
       "           0.91291,     0.91391,     0.91491,     0.91592,     0.91692,     0.91792,     0.91892,     0.91992,     0.92092,     0.92192,     0.92292,     0.92392,     0.92492,     0.92593,     0.92693,     0.92793,     0.92893,     0.92993,     0.93093,     0.93193,     0.93293,     0.93393,     0.93493,     0.93594,\n",
       "           0.93694,     0.93794,     0.93894,     0.93994,     0.94094,     0.94194,     0.94294,     0.94394,     0.94494,     0.94595,     0.94695,     0.94795,     0.94895,     0.94995,     0.95095,     0.95195,     0.95295,     0.95395,     0.95495,     0.95596,     0.95696,     0.95796,     0.95896,     0.95996,\n",
       "           0.96096,     0.96196,     0.96296,     0.96396,     0.96496,     0.96597,     0.96697,     0.96797,     0.96897,     0.96997,     0.97097,     0.97197,     0.97297,     0.97397,     0.97497,     0.97598,     0.97698,     0.97798,     0.97898,     0.97998,     0.98098,     0.98198,     0.98298,     0.98398,\n",
       "           0.98498,     0.98599,     0.98699,     0.98799,     0.98899,     0.98999,     0.99099,     0.99199,     0.99299,     0.99399,     0.99499,       0.996,       0.997,       0.998,       0.999,           1]), array([[    0.99411,     0.99411,     0.99367,     0.99349,      0.9933,     0.99323,     0.99294,     0.99283,     0.99272,     0.99264,     0.99257,     0.99257,      0.9925,     0.99239,     0.99231,     0.99217,     0.99217,     0.99213,     0.99213,      0.9921,     0.99206,     0.99206,     0.99206,\n",
       "            0.99206,     0.99206,     0.99195,     0.99195,     0.99195,     0.99195,     0.99191,     0.99191,     0.99191,     0.99191,     0.99188,     0.99188,     0.99188,      0.9918,      0.9918,     0.99177,     0.99177,     0.99173,     0.99173,     0.99173,     0.99173,     0.99169,     0.99162,\n",
       "            0.99157,     0.99147,     0.99147,     0.99147,     0.99147,     0.99147,     0.99144,      0.9914,      0.9914,     0.99136,     0.99129,     0.99122,     0.99111,     0.99111,     0.99103,     0.99103,       0.991,     0.99096,     0.99096,     0.99096,     0.99092,     0.99089,     0.99085,\n",
       "            0.99081,     0.99081,     0.99081,     0.99074,     0.99074,     0.99074,     0.99074,     0.99074,     0.99069,     0.99067,     0.99067,     0.99067,     0.99067,     0.99067,     0.99067,     0.99067,     0.99067,     0.99067,     0.99063,     0.99063,     0.99063,     0.99063,     0.99063,\n",
       "            0.99063,     0.99063,     0.99056,     0.99056,     0.99056,     0.99052,     0.99052,     0.99045,     0.99045,     0.99041,     0.99039,     0.99038,     0.99038,     0.99038,     0.99038,      0.9903,      0.9903,      0.9903,     0.99023,     0.99018,     0.99016,     0.99016,     0.99016,\n",
       "            0.99012,     0.99011,     0.99008,     0.99008,     0.99008,     0.99005,     0.98994,     0.98994,     0.98994,      0.9899,      0.9899,      0.9899,      0.9899,      0.9899,      0.9899,      0.9899,     0.98986,     0.98986,     0.98983,     0.98983,     0.98983,     0.98981,     0.98979,\n",
       "            0.98979,     0.98979,     0.98979,     0.98979,     0.98979,     0.98979,     0.98979,     0.98979,     0.98979,     0.98979,     0.98979,     0.98979,     0.98979,     0.98979,     0.98979,     0.98975,     0.98972,     0.98972,     0.98972,     0.98964,     0.98961,     0.98961,     0.98961,\n",
       "            0.98957,     0.98957,     0.98957,     0.98957,     0.98957,     0.98957,     0.98957,     0.98953,     0.98953,     0.98951,     0.98949,     0.98947,     0.98946,     0.98939,     0.98939,     0.98939,     0.98939,     0.98937,     0.98935,     0.98935,     0.98935,     0.98935,     0.98935,\n",
       "            0.98935,     0.98935,      0.9893,     0.98928,     0.98928,     0.98924,     0.98924,     0.98924,     0.98924,     0.98924,     0.98924,     0.98924,     0.98923,     0.98921,      0.9892,      0.9892,     0.98913,     0.98913,     0.98909,     0.98909,     0.98909,     0.98906,     0.98906,\n",
       "            0.98904,     0.98902,     0.98902,     0.98898,     0.98895,     0.98895,     0.98895,     0.98895,     0.98895,     0.98895,     0.98895,     0.98891,     0.98891,     0.98891,     0.98891,     0.98887,     0.98887,      0.9888,     0.98876,     0.98874,     0.98873,     0.98868,     0.98866,\n",
       "            0.98866,     0.98866,     0.98865,     0.98864,     0.98863,     0.98863,     0.98862,     0.98862,     0.98862,     0.98862,     0.98862,     0.98862,     0.98862,     0.98862,     0.98861,     0.98858,     0.98856,     0.98855,     0.98855,     0.98851,     0.98851,     0.98851,     0.98851,\n",
       "            0.98843,      0.9884,     0.98836,     0.98836,     0.98836,     0.98836,     0.98836,     0.98836,     0.98836,     0.98836,     0.98836,     0.98835,     0.98833,     0.98833,     0.98829,     0.98829,     0.98829,     0.98829,     0.98829,     0.98829,     0.98829,     0.98829,     0.98829,\n",
       "            0.98829,     0.98829,     0.98829,     0.98827,     0.98825,     0.98825,     0.98825,     0.98825,     0.98825,     0.98825,     0.98822,     0.98822,     0.98822,     0.98818,     0.98814,     0.98811,     0.98807,     0.98807,     0.98807,     0.98807,     0.98796,     0.98792,     0.98792,\n",
       "            0.98792,     0.98792,     0.98792,     0.98792,     0.98789,     0.98789,     0.98789,     0.98789,     0.98787,     0.98785,     0.98785,     0.98785,     0.98785,     0.98785,     0.98785,     0.98785,     0.98785,     0.98785,     0.98785,     0.98784,     0.98781,     0.98779,     0.98777,\n",
       "            0.98766,     0.98763,     0.98763,     0.98763,      0.9876,     0.98758,     0.98756,     0.98752,     0.98748,     0.98748,     0.98748,     0.98748,     0.98748,     0.98747,     0.98745,     0.98743,     0.98741,     0.98739,     0.98737,     0.98737,     0.98737,     0.98737,     0.98737,\n",
       "            0.98735,     0.98731,     0.98728,     0.98726,     0.98726,     0.98719,     0.98719,     0.98719,     0.98719,     0.98719,     0.98716,     0.98712,     0.98711,     0.98709,     0.98708,     0.98708,     0.98708,     0.98708,     0.98708,     0.98708,     0.98705,     0.98704,     0.98704,\n",
       "              0.987,     0.98694,     0.98694,     0.98693,     0.98692,      0.9869,     0.98688,     0.98686,     0.98686,     0.98681,     0.98675,     0.98672,     0.98672,     0.98672,     0.98657,     0.98654,     0.98652,     0.98649,     0.98642,     0.98641,     0.98639,     0.98639,     0.98639,\n",
       "            0.98639,     0.98634,     0.98629,     0.98624,      0.9862,      0.9862,      0.9862,      0.9862,     0.98617,     0.98609,     0.98609,     0.98608,     0.98606,     0.98599,     0.98597,     0.98595,     0.98593,     0.98587,     0.98584,     0.98578,     0.98569,     0.98565,     0.98565,\n",
       "            0.98564,     0.98563,      0.9856,     0.98551,     0.98551,     0.98551,     0.98551,     0.98551,     0.98547,     0.98547,     0.98547,     0.98545,      0.9854,     0.98536,     0.98536,     0.98535,     0.98531,      0.9853,     0.98528,     0.98522,     0.98518,     0.98518,     0.98508,\n",
       "            0.98499,     0.98496,     0.98496,     0.98489,     0.98486,     0.98484,     0.98482,      0.9848,     0.98478,     0.98478,     0.98478,     0.98477,     0.98475,     0.98473,      0.9847,     0.98468,     0.98463,     0.98463,     0.98463,      0.9846,     0.98458,     0.98455,      0.9845,\n",
       "            0.98448,     0.98448,     0.98448,     0.98448,     0.98448,     0.98448,     0.98448,     0.98444,     0.98442,     0.98438,     0.98432,      0.9843,      0.9843,     0.98426,     0.98425,     0.98423,     0.98411,     0.98405,     0.98401,     0.98401,     0.98393,     0.98385,     0.98379,\n",
       "            0.98377,     0.98374,     0.98364,      0.9836,      0.9836,     0.98356,     0.98355,     0.98353,     0.98353,     0.98353,      0.9835,     0.98342,      0.9834,     0.98333,     0.98331,     0.98326,      0.9832,      0.9831,     0.98306,     0.98305,     0.98302,     0.98302,     0.98297,\n",
       "            0.98291,     0.98285,      0.9828,     0.98275,     0.98273,     0.98273,     0.98271,     0.98266,     0.98262,      0.9826,      0.9825,     0.98248,     0.98243,     0.98242,      0.9824,     0.98236,     0.98236,     0.98236,     0.98232,     0.98232,     0.98232,     0.98229,     0.98229,\n",
       "            0.98224,     0.98223,      0.9822,     0.98217,     0.98215,     0.98205,       0.982,     0.98199,     0.98196,     0.98196,     0.98196,     0.98195,     0.98186,     0.98185,     0.98176,     0.98171,      0.9817,     0.98168,     0.98159,     0.98156,     0.98149,     0.98141,     0.98141,\n",
       "            0.98136,     0.98134,     0.98123,     0.98119,     0.98115,     0.98112,     0.98102,     0.98098,      0.9809,     0.98082,     0.98074,     0.98067,     0.98057,     0.98046,     0.98044,     0.98037,     0.98029,     0.98017,     0.98009,     0.98002,     0.97997,     0.97995,     0.97989,\n",
       "            0.97985,     0.97972,     0.97958,     0.97955,     0.97947,     0.97944,     0.97932,     0.97916,     0.97912,      0.9791,     0.97896,     0.97887,     0.97874,     0.97858,     0.97846,     0.97837,     0.97828,     0.97824,     0.97809,     0.97801,     0.97793,     0.97783,     0.97773,\n",
       "            0.97764,     0.97757,     0.97747,     0.97742,     0.97729,     0.97705,     0.97702,     0.97687,     0.97683,     0.97677,     0.97669,     0.97658,     0.97658,     0.97655,     0.97648,     0.97627,     0.97616,     0.97606,     0.97581,     0.97575,     0.97566,     0.97561,     0.97543,\n",
       "            0.97535,     0.97526,      0.9751,     0.97501,     0.97496,     0.97494,      0.9748,      0.9747,     0.97458,     0.97445,     0.97438,     0.97426,     0.97415,     0.97402,     0.97386,     0.97361,     0.97343,     0.97327,     0.97314,     0.97302,      0.9729,     0.97277,     0.97257,\n",
       "            0.97233,     0.97218,     0.97204,     0.97193,     0.97182,     0.97172,     0.97146,     0.97137,     0.97124,     0.97086,     0.97077,     0.97042,     0.97026,     0.97007,     0.96989,     0.96973,     0.96959,     0.96938,     0.96924,     0.96915,     0.96908,       0.969,     0.96883,\n",
       "            0.96868,     0.96848,     0.96841,     0.96819,     0.96795,      0.9676,     0.96733,     0.96709,     0.96677,     0.96666,      0.9664,     0.96622,     0.96604,     0.96568,     0.96528,      0.9649,     0.96464,     0.96439,     0.96391,     0.96366,     0.96349,     0.96337,     0.96313,\n",
       "            0.96302,     0.96283,     0.96271,     0.96247,      0.9623,       0.962,     0.96172,     0.96145,     0.96115,     0.96064,      0.9604,      0.9601,     0.95973,     0.95953,     0.95911,     0.95896,     0.95885,     0.95866,     0.95826,     0.95773,     0.95726,     0.95679,     0.95658,\n",
       "            0.95623,     0.95583,     0.95553,     0.95532,     0.95508,     0.95478,     0.95425,     0.95382,      0.9534,     0.95277,     0.95245,     0.95212,     0.95162,     0.95122,     0.95084,     0.95061,     0.95031,     0.94972,     0.94946,     0.94903,     0.94869,     0.94826,     0.94779,\n",
       "            0.94748,     0.94717,     0.94635,     0.94568,     0.94532,     0.94478,     0.94423,     0.94363,     0.94287,     0.94257,     0.94199,     0.94151,     0.94117,     0.94065,     0.94005,      0.9392,     0.93847,     0.93793,     0.93728,     0.93663,     0.93585,     0.93523,     0.93458,\n",
       "            0.93359,     0.93267,     0.93196,     0.93109,     0.93043,     0.92989,     0.92919,     0.92841,     0.92783,     0.92709,     0.92664,     0.92595,      0.9254,     0.92462,     0.92368,     0.92328,     0.92214,     0.92143,     0.92105,      0.9205,     0.91987,     0.91921,     0.91844,\n",
       "             0.9173,     0.91639,     0.91564,     0.91481,     0.91386,     0.91296,      0.9118,     0.91073,     0.90991,     0.90896,     0.90818,     0.90734,     0.90588,     0.90501,     0.90356,     0.90243,     0.90163,     0.90062,     0.89947,     0.89885,     0.89785,     0.89672,     0.89537,\n",
       "            0.89371,      0.8928,      0.8916,     0.89071,     0.88973,     0.88864,     0.88752,      0.8865,     0.88508,     0.88348,     0.88178,     0.88092,        0.88,     0.87861,     0.87675,     0.87523,     0.87392,     0.87224,     0.87101,     0.86916,     0.86701,     0.86537,     0.86348,\n",
       "            0.86166,     0.85936,     0.85762,     0.85587,     0.85416,     0.85272,     0.85093,     0.84928,     0.84708,     0.84537,      0.8434,     0.84165,     0.83945,     0.83703,     0.83476,     0.83279,     0.83056,     0.82846,     0.82609,     0.82363,     0.82162,     0.81879,     0.81558,\n",
       "            0.81292,     0.80985,     0.80742,     0.80395,     0.80093,     0.79769,     0.79426,     0.79111,      0.7871,     0.78325,     0.77924,     0.77461,     0.77057,     0.76562,     0.76145,     0.75656,     0.75179,     0.74712,     0.74199,     0.73664,     0.73106,     0.72486,     0.71959,\n",
       "            0.71357,     0.70832,     0.70212,     0.69513,     0.68838,     0.68101,     0.67415,     0.66699,     0.65805,     0.64908,     0.64097,     0.63275,     0.62435,     0.61558,     0.60497,     0.59456,     0.58405,     0.57337,     0.56254,     0.55104,     0.54073,     0.52886,     0.51604,\n",
       "             0.5027,     0.49027,       0.477,      0.4636,     0.44925,     0.43574,     0.42161,     0.40816,     0.39419,     0.38046,     0.36594,     0.35068,     0.33568,     0.32018,      0.3054,        0.29,     0.27553,     0.26045,     0.24387,     0.22917,     0.21423,     0.20045,     0.18584,\n",
       "            0.17399,     0.16128,     0.14898,     0.13521,     0.12366,     0.11229,     0.10231,    0.093183,    0.083908,    0.075833,    0.067291,    0.059421,    0.051821,    0.045203,    0.039261,    0.034056,    0.030048,    0.024926,    0.021845,    0.018377,    0.015645,    0.013134,    0.011059,\n",
       "          0.0094958,    0.008058,   0.0066249,   0.0053265,   0.0043322,   0.0033417,    0.002759,   0.0022199,   0.0018569,   0.0014407,    0.001196,  0.00090328,  0.00064382,  0.00047957,  0.00037114,  0.00025399,  0.00019047,  0.00014736,  0.00010586,   8.885e-05,  7.2632e-05,   6.559e-05,  5.8548e-05,\n",
       "         5.1507e-05,  4.4465e-05,  3.7423e-05,           0,           0,           0,           0,           0,           0,           0,           0,           0,           0,           0,           0,           0,           0,           0,           0,           0,           0,           0,           0,\n",
       "                  0,           0,           0,           0,           0,           0,           0,           0,           0,           0,           0]]), 'Confidence', 'Recall']]\n",
       "fitness: 0.7502970946591306\n",
       "keys: ['metrics/precision(B)', 'metrics/recall(B)', 'metrics/mAP50(B)', 'metrics/mAP50-95(B)']\n",
       "maps: array([     0.7235,      0.7235])\n",
       "names: {0: 'words', 1: 'word'}\n",
       "plot: True\n",
       "results_dict: {'metrics/precision(B)': 0.9831216784875046, 'metrics/recall(B)': 0.9864226898444648, 'metrics/mAP50(B)': 0.9914741232747726, 'metrics/mAP50-95(B)': 0.7234996470351704, 'fitness': 0.7502970946591306}\n",
       "save_dir: PosixPath('../finetuned/yolo/Zani_V1')\n",
       "speed: {'preprocess': 0.22227744178293138, 'inference': 2.6979496289496643, 'loss': 0.0007426888374105159, 'postprocess': 0.6701906355853858}\n",
       "task: 'detect'"
      ]
     },
     "execution_count": 5,
     "metadata": {},
     "output_type": "execute_result"
    }
   ],
   "source": [
    "model.val()"
   ]
  }
 ],
 "metadata": {
  "kernelspec": {
   "display_name": "PyFormers + CUDA",
   "language": "python",
   "name": "dev-kernel-v2"
  },
  "language_info": {
   "codemirror_mode": {
    "name": "ipython",
    "version": 3
   },
   "file_extension": ".py",
   "mimetype": "text/x-python",
   "name": "python",
   "nbconvert_exporter": "python",
   "pygments_lexer": "ipython3",
   "version": "3.11.2"
  }
 },
 "nbformat": 4,
 "nbformat_minor": 2
}
