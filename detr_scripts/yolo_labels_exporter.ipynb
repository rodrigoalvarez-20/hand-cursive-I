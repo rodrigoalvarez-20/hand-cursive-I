{
 "cells": [
  {
   "cell_type": "code",
   "execution_count": 11,
   "metadata": {},
   "outputs": [],
   "source": [
    "import os\n",
    "import json"
   ]
  },
  {
   "cell_type": "code",
   "execution_count": 12,
   "metadata": {},
   "outputs": [],
   "source": [
    "DATASET_PATH = \"../hand-cursive-detr\"\n",
    "EXPORT_DIR = \"../hand-cursive-detr-yolo/labels\"\n",
    "TRAIN_FILE = \"_train_annotations_coco.json\"\n",
    "VALID_FILE = \"_val_annotations_coco.json\""
   ]
  },
  {
   "cell_type": "code",
   "execution_count": 13,
   "metadata": {},
   "outputs": [],
   "source": [
    "train_data = json.load(open(os.path.join(DATASET_PATH, TRAIN_FILE), \"r\", encoding=\"utf-8\")) \n",
    "valid_data = json.load(open(os.path.join(DATASET_PATH, VALID_FILE), \"r\", encoding=\"utf-8\")) "
   ]
  },
  {
   "cell_type": "code",
   "execution_count": 14,
   "metadata": {},
   "outputs": [],
   "source": [
    "for image in train_data[\"images\"]:\n",
    "    image_file = image[\"file_name\"].split(\"/\")[-1].split(\".\")[0]\n",
    "    img_w = image[\"width\"]\n",
    "    img_h = image[\"height\"]\n",
    "    img_ans = [x for x in train_data[\"annotations\"] if x[\"image_id\"] == image[\"id\"]]\n",
    "    fmt_img_ans = []\n",
    "    for x in img_ans:\n",
    "        #x1_n = x[\"bbox\"][0] / img_w\n",
    "        #y1_n = x[\"bbox\"][1] / img_h\n",
    "        bw_n = x[\"bbox\"][2] / img_w\n",
    "        bh_n = x[\"bbox\"][3] / img_h\n",
    "        xc_n = (x[\"bbox\"][0] + (x[\"bbox\"][2] / 2)) / img_w\n",
    "        yc_n = (x[\"bbox\"][1] + (x[\"bbox\"][3] / 2)) / img_h\n",
    "        fmt_img_ans.append(\n",
    "            \"{} {} {} {} {}\".format(x[\"category_id\"], xc_n, yc_n, bw_n, bh_n)\n",
    "        )\n",
    "\n",
    "    with open(\n",
    "        os.path.join(EXPORT_DIR, \"train\", image_file + \".txt\"), \"w\", encoding=\"utf-8\"\n",
    "    ) as f:\n",
    "        f.write(\"\\n\".join(fmt_img_ans))"
   ]
  },
  {
   "cell_type": "code",
   "execution_count": 15,
   "metadata": {},
   "outputs": [],
   "source": [
    "for image in valid_data[\"images\"]:\n",
    "    image_file = image[\"file_name\"].split(\"/\")[-1].split(\".\")[0]\n",
    "    img_w = image[\"width\"]\n",
    "    img_h = image[\"height\"]\n",
    "    img_ans = [x for x in valid_data[\"annotations\"] if x[\"image_id\"] == image[\"id\"]]\n",
    "    fmt_img_ans = []\n",
    "    for x in img_ans:\n",
    "        bw_n = x[\"bbox\"][2] / img_w\n",
    "        bh_n = x[\"bbox\"][3] / img_h\n",
    "        xc_n = (x[\"bbox\"][0] + (x[\"bbox\"][2] / 2)) / img_w\n",
    "        yc_n = (x[\"bbox\"][1] + (x[\"bbox\"][3] / 2)) / img_h\n",
    "        fmt_img_ans.append(\n",
    "            \"{} {} {} {} {}\".format(x[\"category_id\"], xc_n, yc_n, bw_n, bh_n)\n",
    "        )\n",
    "\n",
    "    with open(\n",
    "        os.path.join(EXPORT_DIR, \"val\", image_file + \".txt\"), \"w\", encoding=\"utf-8\"\n",
    "    ) as f:\n",
    "        f.write(\"\\n\".join(fmt_img_ans))"
   ]
  }
 ],
 "metadata": {
  "kernelspec": {
   "display_name": "PyFormers + CUDA",
   "language": "python",
   "name": "dev-kernel-v2"
  },
  "language_info": {
   "codemirror_mode": {
    "name": "ipython",
    "version": 3
   },
   "file_extension": ".py",
   "mimetype": "text/x-python",
   "name": "python",
   "nbconvert_exporter": "python",
   "pygments_lexer": "ipython3",
   "version": "3.11.2"
  }
 },
 "nbformat": 4,
 "nbformat_minor": 2
}
